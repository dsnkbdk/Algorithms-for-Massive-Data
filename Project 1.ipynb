{
 "cells": [
  {
   "cell_type": "markdown",
   "id": "7364483e-2c50-40d0-8f99-990d579dd08e",
   "metadata": {
    "tags": []
   },
   "source": [
    "# Massive Data Algorithms Project 1"
   ]
  },
  {
   "cell_type": "markdown",
   "id": "c2bc6190-e121-4647-a1ee-679a8350a540",
   "metadata": {
    "tags": []
   },
   "source": [
    "## Part 0: Preparation"
   ]
  },
  {
   "cell_type": "code",
   "execution_count": 1,
   "id": "c3ee3506-917d-43f9-8e1b-803a788453ab",
   "metadata": {},
   "outputs": [],
   "source": [
    "import warnings\n",
    "warnings.filterwarnings(\"ignore\")"
   ]
  },
  {
   "cell_type": "code",
   "execution_count": 2,
   "id": "8199fbb5-2f9f-430f-98b1-256d8214ab9c",
   "metadata": {},
   "outputs": [],
   "source": [
    "import sys\n",
    "import time\n",
    "import random\n",
    "import numpy as np\n",
    "import pandas as pd\n",
    "import seaborn as sns\n",
    "import matplotlib.pyplot as plt"
   ]
  },
  {
   "cell_type": "code",
   "execution_count": 3,
   "id": "6cfc6fd7-5e52-413b-b860-c509e616d9b7",
   "metadata": {},
   "outputs": [],
   "source": [
    "# Reload local python files every 2 seconds\n",
    "%load_ext autoreload\n",
    "%autoreload 2"
   ]
  },
  {
   "cell_type": "code",
   "execution_count": 4,
   "id": "aff09b0e-d6ce-4db8-86dd-befb26970198",
   "metadata": {},
   "outputs": [],
   "source": [
    "# Set random seed\n",
    "RANDOM_STATE = 999\n",
    "random.seed(RANDOM_STATE)\n",
    "np.random.seed(RANDOM_STATE)"
   ]
  },
  {
   "cell_type": "markdown",
   "id": "812b49b9-48fd-4b0d-88e6-60114257d45c",
   "metadata": {
    "tags": []
   },
   "source": [
    "## Part I: Construct LSH Hash Tables for All News Articles"
   ]
  },
  {
   "cell_type": "markdown",
   "id": "fda155eb-a841-4002-8c6d-2b8cf26c63c4",
   "metadata": {
    "tags": []
   },
   "source": [
    "### (a) Load dataset, report the number of articles and the number of features (n)"
   ]
  },
  {
   "cell_type": "code",
   "execution_count": 5,
   "id": "b42a4448-11a2-414a-88bd-cd0ac9551d75",
   "metadata": {},
   "outputs": [
    {
     "data": {
      "text/html": [
       "<div>\n",
       "<style scoped>\n",
       "    .dataframe tbody tr th:only-of-type {\n",
       "        vertical-align: middle;\n",
       "    }\n",
       "\n",
       "    .dataframe tbody tr th {\n",
       "        vertical-align: top;\n",
       "    }\n",
       "\n",
       "    .dataframe thead th {\n",
       "        text-align: right;\n",
       "    }\n",
       "</style>\n",
       "<table border=\"1\" class=\"dataframe\">\n",
       "  <thead>\n",
       "    <tr style=\"text-align: right;\">\n",
       "      <th></th>\n",
       "      <th>0</th>\n",
       "      <th>1</th>\n",
       "      <th>2</th>\n",
       "      <th>3</th>\n",
       "      <th>4</th>\n",
       "      <th>5</th>\n",
       "      <th>6</th>\n",
       "      <th>7</th>\n",
       "      <th>8</th>\n",
       "      <th>9</th>\n",
       "      <th>...</th>\n",
       "      <th>14919</th>\n",
       "      <th>14920</th>\n",
       "      <th>14921</th>\n",
       "      <th>14922</th>\n",
       "      <th>14923</th>\n",
       "      <th>14924</th>\n",
       "      <th>14925</th>\n",
       "      <th>14926</th>\n",
       "      <th>14927</th>\n",
       "      <th>14928</th>\n",
       "    </tr>\n",
       "  </thead>\n",
       "  <tbody>\n",
       "    <tr>\n",
       "      <th>0</th>\n",
       "      <td>1</td>\n",
       "      <td>0</td>\n",
       "      <td>1</td>\n",
       "      <td>0</td>\n",
       "      <td>0</td>\n",
       "      <td>0</td>\n",
       "      <td>0</td>\n",
       "      <td>0</td>\n",
       "      <td>0</td>\n",
       "      <td>0</td>\n",
       "      <td>...</td>\n",
       "      <td>0</td>\n",
       "      <td>0</td>\n",
       "      <td>0</td>\n",
       "      <td>0</td>\n",
       "      <td>0</td>\n",
       "      <td>0</td>\n",
       "      <td>0</td>\n",
       "      <td>0</td>\n",
       "      <td>0</td>\n",
       "      <td>tech</td>\n",
       "    </tr>\n",
       "    <tr>\n",
       "      <th>1</th>\n",
       "      <td>2</td>\n",
       "      <td>0</td>\n",
       "      <td>0</td>\n",
       "      <td>0</td>\n",
       "      <td>0</td>\n",
       "      <td>0</td>\n",
       "      <td>0</td>\n",
       "      <td>0</td>\n",
       "      <td>0</td>\n",
       "      <td>0</td>\n",
       "      <td>...</td>\n",
       "      <td>0</td>\n",
       "      <td>0</td>\n",
       "      <td>0</td>\n",
       "      <td>0</td>\n",
       "      <td>0</td>\n",
       "      <td>0</td>\n",
       "      <td>0</td>\n",
       "      <td>0</td>\n",
       "      <td>0</td>\n",
       "      <td>entertainment</td>\n",
       "    </tr>\n",
       "    <tr>\n",
       "      <th>2</th>\n",
       "      <td>3</td>\n",
       "      <td>0</td>\n",
       "      <td>0</td>\n",
       "      <td>0</td>\n",
       "      <td>0</td>\n",
       "      <td>0</td>\n",
       "      <td>0</td>\n",
       "      <td>0</td>\n",
       "      <td>0</td>\n",
       "      <td>0</td>\n",
       "      <td>...</td>\n",
       "      <td>0</td>\n",
       "      <td>0</td>\n",
       "      <td>0</td>\n",
       "      <td>0</td>\n",
       "      <td>0</td>\n",
       "      <td>0</td>\n",
       "      <td>0</td>\n",
       "      <td>0</td>\n",
       "      <td>0</td>\n",
       "      <td>entertainment</td>\n",
       "    </tr>\n",
       "    <tr>\n",
       "      <th>3</th>\n",
       "      <td>4</td>\n",
       "      <td>0</td>\n",
       "      <td>0</td>\n",
       "      <td>0</td>\n",
       "      <td>0</td>\n",
       "      <td>0</td>\n",
       "      <td>0</td>\n",
       "      <td>0</td>\n",
       "      <td>0</td>\n",
       "      <td>0</td>\n",
       "      <td>...</td>\n",
       "      <td>0</td>\n",
       "      <td>0</td>\n",
       "      <td>0</td>\n",
       "      <td>0</td>\n",
       "      <td>0</td>\n",
       "      <td>0</td>\n",
       "      <td>0</td>\n",
       "      <td>0</td>\n",
       "      <td>0</td>\n",
       "      <td>entertainment</td>\n",
       "    </tr>\n",
       "    <tr>\n",
       "      <th>4</th>\n",
       "      <td>5</td>\n",
       "      <td>0</td>\n",
       "      <td>0</td>\n",
       "      <td>0</td>\n",
       "      <td>0</td>\n",
       "      <td>0</td>\n",
       "      <td>0</td>\n",
       "      <td>0</td>\n",
       "      <td>0</td>\n",
       "      <td>0</td>\n",
       "      <td>...</td>\n",
       "      <td>0</td>\n",
       "      <td>0</td>\n",
       "      <td>0</td>\n",
       "      <td>0</td>\n",
       "      <td>0</td>\n",
       "      <td>0</td>\n",
       "      <td>1</td>\n",
       "      <td>0</td>\n",
       "      <td>0</td>\n",
       "      <td>entertainment</td>\n",
       "    </tr>\n",
       "    <tr>\n",
       "      <th>...</th>\n",
       "      <td>...</td>\n",
       "      <td>...</td>\n",
       "      <td>...</td>\n",
       "      <td>...</td>\n",
       "      <td>...</td>\n",
       "      <td>...</td>\n",
       "      <td>...</td>\n",
       "      <td>...</td>\n",
       "      <td>...</td>\n",
       "      <td>...</td>\n",
       "      <td>...</td>\n",
       "      <td>...</td>\n",
       "      <td>...</td>\n",
       "      <td>...</td>\n",
       "      <td>...</td>\n",
       "      <td>...</td>\n",
       "      <td>...</td>\n",
       "      <td>...</td>\n",
       "      <td>...</td>\n",
       "      <td>...</td>\n",
       "      <td>...</td>\n",
       "    </tr>\n",
       "    <tr>\n",
       "      <th>529</th>\n",
       "      <td>530</td>\n",
       "      <td>0</td>\n",
       "      <td>0</td>\n",
       "      <td>0</td>\n",
       "      <td>0</td>\n",
       "      <td>0</td>\n",
       "      <td>0</td>\n",
       "      <td>0</td>\n",
       "      <td>0</td>\n",
       "      <td>0</td>\n",
       "      <td>...</td>\n",
       "      <td>0</td>\n",
       "      <td>0</td>\n",
       "      <td>0</td>\n",
       "      <td>0</td>\n",
       "      <td>0</td>\n",
       "      <td>0</td>\n",
       "      <td>0</td>\n",
       "      <td>0</td>\n",
       "      <td>0</td>\n",
       "      <td>entertainment</td>\n",
       "    </tr>\n",
       "    <tr>\n",
       "      <th>530</th>\n",
       "      <td>531</td>\n",
       "      <td>0</td>\n",
       "      <td>1</td>\n",
       "      <td>0</td>\n",
       "      <td>0</td>\n",
       "      <td>0</td>\n",
       "      <td>0</td>\n",
       "      <td>0</td>\n",
       "      <td>0</td>\n",
       "      <td>0</td>\n",
       "      <td>...</td>\n",
       "      <td>0</td>\n",
       "      <td>0</td>\n",
       "      <td>0</td>\n",
       "      <td>0</td>\n",
       "      <td>0</td>\n",
       "      <td>0</td>\n",
       "      <td>0</td>\n",
       "      <td>0</td>\n",
       "      <td>0</td>\n",
       "      <td>entertainment</td>\n",
       "    </tr>\n",
       "    <tr>\n",
       "      <th>531</th>\n",
       "      <td>532</td>\n",
       "      <td>0</td>\n",
       "      <td>0</td>\n",
       "      <td>0</td>\n",
       "      <td>0</td>\n",
       "      <td>0</td>\n",
       "      <td>0</td>\n",
       "      <td>0</td>\n",
       "      <td>0</td>\n",
       "      <td>0</td>\n",
       "      <td>...</td>\n",
       "      <td>0</td>\n",
       "      <td>0</td>\n",
       "      <td>0</td>\n",
       "      <td>0</td>\n",
       "      <td>0</td>\n",
       "      <td>0</td>\n",
       "      <td>0</td>\n",
       "      <td>0</td>\n",
       "      <td>0</td>\n",
       "      <td>entertainment</td>\n",
       "    </tr>\n",
       "    <tr>\n",
       "      <th>532</th>\n",
       "      <td>533</td>\n",
       "      <td>0</td>\n",
       "      <td>0</td>\n",
       "      <td>0</td>\n",
       "      <td>0</td>\n",
       "      <td>0</td>\n",
       "      <td>0</td>\n",
       "      <td>0</td>\n",
       "      <td>0</td>\n",
       "      <td>0</td>\n",
       "      <td>...</td>\n",
       "      <td>0</td>\n",
       "      <td>0</td>\n",
       "      <td>0</td>\n",
       "      <td>0</td>\n",
       "      <td>0</td>\n",
       "      <td>0</td>\n",
       "      <td>0</td>\n",
       "      <td>0</td>\n",
       "      <td>0</td>\n",
       "      <td>tech</td>\n",
       "    </tr>\n",
       "    <tr>\n",
       "      <th>533</th>\n",
       "      <td>534</td>\n",
       "      <td>0</td>\n",
       "      <td>1</td>\n",
       "      <td>0</td>\n",
       "      <td>0</td>\n",
       "      <td>0</td>\n",
       "      <td>0</td>\n",
       "      <td>0</td>\n",
       "      <td>0</td>\n",
       "      <td>0</td>\n",
       "      <td>...</td>\n",
       "      <td>0</td>\n",
       "      <td>0</td>\n",
       "      <td>0</td>\n",
       "      <td>0</td>\n",
       "      <td>0</td>\n",
       "      <td>0</td>\n",
       "      <td>0</td>\n",
       "      <td>0</td>\n",
       "      <td>0</td>\n",
       "      <td>tech</td>\n",
       "    </tr>\n",
       "  </tbody>\n",
       "</table>\n",
       "<p>534 rows × 14929 columns</p>\n",
       "</div>"
      ],
      "text/plain": [
       "     0      1      2      3      4      5      6      7      8      9      \\\n",
       "0        1      0      1      0      0      0      0      0      0      0   \n",
       "1        2      0      0      0      0      0      0      0      0      0   \n",
       "2        3      0      0      0      0      0      0      0      0      0   \n",
       "3        4      0      0      0      0      0      0      0      0      0   \n",
       "4        5      0      0      0      0      0      0      0      0      0   \n",
       "..     ...    ...    ...    ...    ...    ...    ...    ...    ...    ...   \n",
       "529    530      0      0      0      0      0      0      0      0      0   \n",
       "530    531      0      1      0      0      0      0      0      0      0   \n",
       "531    532      0      0      0      0      0      0      0      0      0   \n",
       "532    533      0      0      0      0      0      0      0      0      0   \n",
       "533    534      0      1      0      0      0      0      0      0      0   \n",
       "\n",
       "     ...  14919  14920  14921  14922  14923  14924  14925  14926  14927  \\\n",
       "0    ...      0      0      0      0      0      0      0      0      0   \n",
       "1    ...      0      0      0      0      0      0      0      0      0   \n",
       "2    ...      0      0      0      0      0      0      0      0      0   \n",
       "3    ...      0      0      0      0      0      0      0      0      0   \n",
       "4    ...      0      0      0      0      0      0      1      0      0   \n",
       "..   ...    ...    ...    ...    ...    ...    ...    ...    ...    ...   \n",
       "529  ...      0      0      0      0      0      0      0      0      0   \n",
       "530  ...      0      0      0      0      0      0      0      0      0   \n",
       "531  ...      0      0      0      0      0      0      0      0      0   \n",
       "532  ...      0      0      0      0      0      0      0      0      0   \n",
       "533  ...      0      0      0      0      0      0      0      0      0   \n",
       "\n",
       "             14928  \n",
       "0             tech  \n",
       "1    entertainment  \n",
       "2    entertainment  \n",
       "3    entertainment  \n",
       "4    entertainment  \n",
       "..             ...  \n",
       "529  entertainment  \n",
       "530  entertainment  \n",
       "531  entertainment  \n",
       "532           tech  \n",
       "533           tech  \n",
       "\n",
       "[534 rows x 14929 columns]"
      ]
     },
     "execution_count": 5,
     "metadata": {},
     "output_type": "execute_result"
    }
   ],
   "source": [
    "# Load the dataset\n",
    "dataset_all = pd.read_csv('./bbc/bitvector_all.csv', sep=\"\\t\", header=None)\n",
    "# Preview dataset dataset_all\n",
    "dataset_all"
   ]
  },
  {
   "cell_type": "code",
   "execution_count": 6,
   "id": "6d2402f9-0bbf-40f7-9456-824a532a4c18",
   "metadata": {},
   "outputs": [
    {
     "name": "stdout",
     "output_type": "stream",
     "text": [
      "The number of articles in dataset \"bitvector_all.csv\" is: 534\n",
      "The number of features (n) per article is: 14927\n"
     ]
    }
   ],
   "source": [
    "print(\"The number of articles in dataset \"+'\"'+\"bitvector_all.csv\"+'\"'+\" is:\", len(dataset_all))\n",
    "print(\"The number of features (n) per article is:\", dataset_all.shape[1]-2)"
   ]
  },
  {
   "cell_type": "code",
   "execution_count": 7,
   "id": "0c7ad79f-9048-4949-aee4-7c0745266f7e",
   "metadata": {},
   "outputs": [
    {
     "data": {
      "text/html": [
       "<div>\n",
       "<style scoped>\n",
       "    .dataframe tbody tr th:only-of-type {\n",
       "        vertical-align: middle;\n",
       "    }\n",
       "\n",
       "    .dataframe tbody tr th {\n",
       "        vertical-align: top;\n",
       "    }\n",
       "\n",
       "    .dataframe thead th {\n",
       "        text-align: right;\n",
       "    }\n",
       "</style>\n",
       "<table border=\"1\" class=\"dataframe\">\n",
       "  <thead>\n",
       "    <tr style=\"text-align: right;\">\n",
       "      <th></th>\n",
       "      <th>0</th>\n",
       "      <th>1</th>\n",
       "      <th>2</th>\n",
       "      <th>3</th>\n",
       "      <th>4</th>\n",
       "      <th>5</th>\n",
       "      <th>6</th>\n",
       "      <th>7</th>\n",
       "      <th>8</th>\n",
       "      <th>9</th>\n",
       "      <th>...</th>\n",
       "      <th>14919</th>\n",
       "      <th>14920</th>\n",
       "      <th>14921</th>\n",
       "      <th>14922</th>\n",
       "      <th>14923</th>\n",
       "      <th>14924</th>\n",
       "      <th>14925</th>\n",
       "      <th>14926</th>\n",
       "      <th>14927</th>\n",
       "      <th>14928</th>\n",
       "    </tr>\n",
       "  </thead>\n",
       "  <tbody>\n",
       "    <tr>\n",
       "      <th>0</th>\n",
       "      <td>531</td>\n",
       "      <td>0</td>\n",
       "      <td>1</td>\n",
       "      <td>0</td>\n",
       "      <td>0</td>\n",
       "      <td>0</td>\n",
       "      <td>0</td>\n",
       "      <td>0</td>\n",
       "      <td>0</td>\n",
       "      <td>0</td>\n",
       "      <td>...</td>\n",
       "      <td>0</td>\n",
       "      <td>0</td>\n",
       "      <td>0</td>\n",
       "      <td>0</td>\n",
       "      <td>0</td>\n",
       "      <td>0</td>\n",
       "      <td>0</td>\n",
       "      <td>0</td>\n",
       "      <td>0</td>\n",
       "      <td>entertainment</td>\n",
       "    </tr>\n",
       "    <tr>\n",
       "      <th>1</th>\n",
       "      <td>532</td>\n",
       "      <td>0</td>\n",
       "      <td>0</td>\n",
       "      <td>0</td>\n",
       "      <td>0</td>\n",
       "      <td>0</td>\n",
       "      <td>0</td>\n",
       "      <td>0</td>\n",
       "      <td>0</td>\n",
       "      <td>0</td>\n",
       "      <td>...</td>\n",
       "      <td>0</td>\n",
       "      <td>0</td>\n",
       "      <td>0</td>\n",
       "      <td>0</td>\n",
       "      <td>0</td>\n",
       "      <td>0</td>\n",
       "      <td>0</td>\n",
       "      <td>0</td>\n",
       "      <td>0</td>\n",
       "      <td>entertainment</td>\n",
       "    </tr>\n",
       "    <tr>\n",
       "      <th>2</th>\n",
       "      <td>533</td>\n",
       "      <td>0</td>\n",
       "      <td>0</td>\n",
       "      <td>0</td>\n",
       "      <td>0</td>\n",
       "      <td>0</td>\n",
       "      <td>0</td>\n",
       "      <td>0</td>\n",
       "      <td>0</td>\n",
       "      <td>0</td>\n",
       "      <td>...</td>\n",
       "      <td>0</td>\n",
       "      <td>0</td>\n",
       "      <td>0</td>\n",
       "      <td>0</td>\n",
       "      <td>0</td>\n",
       "      <td>0</td>\n",
       "      <td>0</td>\n",
       "      <td>0</td>\n",
       "      <td>0</td>\n",
       "      <td>tech</td>\n",
       "    </tr>\n",
       "    <tr>\n",
       "      <th>3</th>\n",
       "      <td>534</td>\n",
       "      <td>0</td>\n",
       "      <td>1</td>\n",
       "      <td>0</td>\n",
       "      <td>0</td>\n",
       "      <td>0</td>\n",
       "      <td>0</td>\n",
       "      <td>0</td>\n",
       "      <td>0</td>\n",
       "      <td>0</td>\n",
       "      <td>...</td>\n",
       "      <td>0</td>\n",
       "      <td>0</td>\n",
       "      <td>0</td>\n",
       "      <td>0</td>\n",
       "      <td>0</td>\n",
       "      <td>0</td>\n",
       "      <td>0</td>\n",
       "      <td>0</td>\n",
       "      <td>0</td>\n",
       "      <td>tech</td>\n",
       "    </tr>\n",
       "  </tbody>\n",
       "</table>\n",
       "<p>4 rows × 14929 columns</p>\n",
       "</div>"
      ],
      "text/plain": [
       "   0      1      2      3      4      5      6      7      8      9      ...  \\\n",
       "0    531      0      1      0      0      0      0      0      0      0  ...   \n",
       "1    532      0      0      0      0      0      0      0      0      0  ...   \n",
       "2    533      0      0      0      0      0      0      0      0      0  ...   \n",
       "3    534      0      1      0      0      0      0      0      0      0  ...   \n",
       "\n",
       "   14919  14920  14921  14922  14923  14924  14925  14926  14927  \\\n",
       "0      0      0      0      0      0      0      0      0      0   \n",
       "1      0      0      0      0      0      0      0      0      0   \n",
       "2      0      0      0      0      0      0      0      0      0   \n",
       "3      0      0      0      0      0      0      0      0      0   \n",
       "\n",
       "           14928  \n",
       "0  entertainment  \n",
       "1  entertainment  \n",
       "2           tech  \n",
       "3           tech  \n",
       "\n",
       "[4 rows x 14929 columns]"
      ]
     },
     "execution_count": 7,
     "metadata": {},
     "output_type": "execute_result"
    }
   ],
   "source": [
    "# Load the dataset\n",
    "dataset_query = pd.read_csv('./bbc/bitvector_query.csv', sep=\"\\t\", header=None)\n",
    "# Preview dataset dataset_query\n",
    "dataset_query"
   ]
  },
  {
   "cell_type": "code",
   "execution_count": 8,
   "id": "241fef6a-c18e-40d4-b342-3fe622244b57",
   "metadata": {},
   "outputs": [
    {
     "name": "stdout",
     "output_type": "stream",
     "text": [
      "The number of articles in dataset \"bitvector_query.csv\" is: 4\n",
      "The number of features (n) per article is: 14927\n"
     ]
    }
   ],
   "source": [
    "print(\"The number of articles in dataset \"+'\"'+\"bitvector_query.csv\"+'\"'+\" is:\", len(dataset_query))\n",
    "print(\"The number of features (n) per article is:\", dataset_query.shape[1]-2)"
   ]
  },
  {
   "cell_type": "markdown",
   "id": "91b4517c-abb9-4c0c-bc1b-e31876573812",
   "metadata": {
    "tags": []
   },
   "source": [
    "### (b) Construct a family of MinHash functions in the LSH family"
   ]
  },
  {
   "cell_type": "code",
   "execution_count": 9,
   "id": "2dcd0b9b-3839-4617-9c4c-0e69ce0d81c5",
   "metadata": {},
   "outputs": [],
   "source": [
    "# Create a prime list with p ≥ n\n",
    "prime_List = [15013, 16001, 17011, 18013, 19001, 20011, 21001, 22003, 23003, 24001]"
   ]
  },
  {
   "cell_type": "code",
   "execution_count": 10,
   "id": "cd0d2296-bdb4-45fe-8188-d80b8f13981f",
   "metadata": {},
   "outputs": [],
   "source": [
    "# Create a list to store all parameters\n",
    "PL_k2 = []\n",
    "# Randomly generate the parameters of the hash function\n",
    "for l in range(10):\n",
    "    parameter = []\n",
    "    for k in range(2):\n",
    "        # Pick a large prime number p ≥ n\n",
    "        p = random.choice(prime_List)\n",
    "        # Pick a random pair of integers 0 < a < p, 0 ≤ b < p\n",
    "        a = random.randint(1, p)\n",
    "        b = random.randint(0, p)\n",
    "        parameter.append([a, b, p])\n",
    "    PL_k2.append(parameter)"
   ]
  },
  {
   "cell_type": "code",
   "execution_count": 11,
   "id": "a83a2984-9894-4651-9e67-a8b22af73c0a",
   "metadata": {},
   "outputs": [
    {
     "name": "stdout",
     "output_type": "stream",
     "text": [
      "band 1\n",
      "Hash function 1: ((14688 * x + 14294) % 16001) % 14927\n",
      "Hash function 2: ((18801 * x + 17488) % 24001) % 14927\n",
      "\n",
      "band 2\n",
      "Hash function 1: ((15840 * x + 4327) % 22003) % 14927\n",
      "Hash function 2: ((3193 * x + 6160) % 20011) % 14927\n",
      "\n",
      "band 3\n",
      "Hash function 1: ((8670 * x + 1741) % 17011) % 14927\n",
      "Hash function 2: ((13044 * x + 7429) % 19001) % 14927\n",
      "\n",
      "band 4\n",
      "Hash function 1: ((2454 * x + 8840) % 21001) % 14927\n",
      "Hash function 2: ((3280 * x + 10520) % 15013) % 14927\n",
      "\n",
      "band 5\n",
      "Hash function 1: ((6830 * x + 6104) % 23003) % 14927\n",
      "Hash function 2: ((5404 * x + 2833) % 20011) % 14927\n",
      "\n",
      "band 6\n",
      "Hash function 1: ((19504 * x + 15277) % 23003) % 14927\n",
      "Hash function 2: ((4251 * x + 16372) % 20011) % 14927\n",
      "\n",
      "band 7\n",
      "Hash function 1: ((482 * x + 1804) % 22003) % 14927\n",
      "Hash function 2: ((3650 * x + 7572) % 18013) % 14927\n",
      "\n",
      "band 8\n",
      "Hash function 1: ((8982 * x + 16433) % 21001) % 14927\n",
      "Hash function 2: ((1386 * x + 5384) % 20011) % 14927\n",
      "\n",
      "band 9\n",
      "Hash function 1: ((3574 * x + 13971) % 22003) % 14927\n",
      "Hash function 2: ((18130 * x + 5622) % 24001) % 14927\n",
      "\n",
      "band 10\n",
      "Hash function 1: ((7462 * x + 3344) % 18013) % 14927\n",
      "Hash function 2: ((3402 * x + 267) % 15013) % 14927\n",
      "\n"
     ]
    }
   ],
   "source": [
    "# Generate a family of MinHash functions\n",
    "for l in range(10):\n",
    "    print(\"band\", l+1)\n",
    "    print(\"Hash function 1: ((\", PL_k2[l][0][0], \" * x + \", PL_k2[l][0][1], \") % \", PL_k2[l][0][2], \") % \", 14927, sep=\"\")\n",
    "    print(\"Hash function 2: ((\", PL_k2[l][1][0], \" * x + \", PL_k2[l][1][1], \") % \", PL_k2[l][1][2], \") % \", 14927, sep=\"\")\n",
    "    print()"
   ]
  },
  {
   "cell_type": "markdown",
   "id": "a9572104-2eff-4886-8f27-12f5ee871895",
   "metadata": {
    "tags": []
   },
   "source": [
    "### (c) Construct LSH hash tables, report the collision distribution using heatmap plot"
   ]
  },
  {
   "cell_type": "code",
   "execution_count": 12,
   "id": "545b0fd6-d8ce-4ed5-a0a8-ddb06eaab388",
   "metadata": {},
   "outputs": [],
   "source": [
    "# Create signature matrix\n",
    "def minhash(boolean_matrix, hash_functions):\n",
    "    rows, cols, signature_rows = len(boolean_matrix), len(boolean_matrix[0]), len(hash_functions)\n",
    "    # Initialize signature matrix\n",
    "    signature_matrix = []\n",
    "    for s in range(signature_rows):\n",
    "        signature_matrix.append([sys.maxsize] * cols)\n",
    "    for r in range(rows):\n",
    "        hash_value = list(map(lambda x: x(r), hash_functions))\n",
    "        # If boolean matrix value = 1 and signature value > hash value, replace signature value with the hash value\n",
    "        for c in range(cols):\n",
    "            if boolean_matrix[r][c] == 0:\n",
    "                continue\n",
    "            for i in range(signature_rows):\n",
    "                if signature_matrix[i][c] > hash_value[i]:\n",
    "                    signature_matrix[i][c] = hash_value[i]\n",
    "    return signature_matrix"
   ]
  },
  {
   "cell_type": "code",
   "execution_count": 13,
   "id": "3c4ca300-0e62-45c2-93a3-726601556c87",
   "metadata": {},
   "outputs": [],
   "source": [
    "# Generate boolean matrix\n",
    "boolean_matrix_all = dataset_all.iloc[:, 1:-1].T.values.tolist()\n",
    "boolean_matrix_query = dataset_query.iloc[:, 1:-1].T.values.tolist()"
   ]
  },
  {
   "cell_type": "code",
   "execution_count": 14,
   "id": "5047f91b-30c9-4abd-be9e-8dcc961ebd1d",
   "metadata": {},
   "outputs": [
    {
     "name": "stdout",
     "output_type": "stream",
     "text": [
      "In dataset \"all\", number of shingles: 14927, number of articles: 534\n",
      "In dataset \"query\", number of shingles: 14927, number of articles: 4\n"
     ]
    }
   ],
   "source": [
    "# Check the data dimension of boolean matrix\n",
    "print(\"In dataset \"+'\"'+\"all\"+'\"'+\", number of shingles: \", len(boolean_matrix_all), \", number of articles: \", len(boolean_matrix_all[0]), sep=\"\")\n",
    "print(\"In dataset \"+'\"'+\"query\"+'\"'+\", number of shingles: \", len(boolean_matrix_query), \", number of articles: \", len(boolean_matrix_query[0]), sep=\"\")"
   ]
  },
  {
   "cell_type": "code",
   "execution_count": 15,
   "id": "33b4e2cc-ea30-4cff-8a0c-31cdea38088e",
   "metadata": {},
   "outputs": [],
   "source": [
    "# Create hash function h = ((ax + b) mod p) mod n\n",
    "def h1(x):\n",
    "    return ((PL_k2[l][0][0] * x + PL_k2[l][0][1]) % PL_k2[l][0][2]) % 14927\n",
    "def h2(x):\n",
    "    return ((PL_k2[l][1][0] * x + PL_k2[l][1][1]) % PL_k2[l][1][2]) % 14927"
   ]
  },
  {
   "cell_type": "code",
   "execution_count": 16,
   "id": "6aabb3ad-4820-4d4e-a69c-2da4e90017e4",
   "metadata": {},
   "outputs": [],
   "source": [
    "# Generate signature matrix\n",
    "signature_matrix_all_k2 = []\n",
    "for l in range(10):\n",
    "    boolean_matrix = boolean_matrix_all\n",
    "    signature_matrix_all_k2.append(minhash(boolean_matrix, [h1, h2]))\n",
    "    \n",
    "signature_matrix_query_k2 = []\n",
    "for l in range(10):\n",
    "    boolean_matrix = boolean_matrix_query\n",
    "    signature_matrix_query_k2.append(minhash(boolean_matrix, [h1, h2]))"
   ]
  },
  {
   "cell_type": "code",
   "execution_count": 17,
   "id": "2e6ab462-fed8-4dd7-8d57-acbc41ed9e77",
   "metadata": {},
   "outputs": [
    {
     "name": "stdout",
     "output_type": "stream",
     "text": [
      "Number of bands: 10; Number of rows per band: 2; Number of articles: 534\n",
      "Number of bands: 10; Number of rows per band: 2; Number of articles: 4\n"
     ]
    }
   ],
   "source": [
    "# Check the data dimension of signature matrix\n",
    "print(\"Number of bands: \", len(signature_matrix_all_k2),\n",
    "      \"; Number of rows per band: \", len(signature_matrix_all_k2[0]),\n",
    "      \"; Number of articles: \", len(signature_matrix_all_k2[0][0]),sep=\"\")\n",
    "\n",
    "print(\"Number of bands: \", len(signature_matrix_query_k2),\n",
    "      \"; Number of rows per band: \", len(signature_matrix_query_k2[0]),\n",
    "      \"; Number of articles: \", len(signature_matrix_query_k2[0][0]),sep=\"\")"
   ]
  },
  {
   "cell_type": "code",
   "execution_count": 18,
   "id": "903755f9-af0d-4569-874d-88e572c2f50f",
   "metadata": {},
   "outputs": [],
   "source": [
    "def g_hash_function_k2(signature_matrix):\n",
    "    g_hash_result = []\n",
    "    for i in range(len(signature_matrix)):\n",
    "        g_hash_value = []\n",
    "        m = 600\n",
    "        p = random.choice(prime_List)\n",
    "        c0 = random.randint(0, p)\n",
    "        c1 = random.randint(1, p)\n",
    "        c2 = random.randint(1, p)\n",
    "        for j in range(len(signature_matrix[0][0])):\n",
    "            signature_matrix_value=[]\n",
    "            for k in range(len(signature_matrix[0])):\n",
    "                signature_matrix_value.append(signature_matrix[i][k][j])\n",
    "            g_hash_value.append(((c0 + c1 * signature_matrix_value[0] + c2 * signature_matrix_value[1]) % p) % m)\n",
    "        g_hash_result.append(g_hash_value)\n",
    "    return g_hash_result"
   ]
  },
  {
   "cell_type": "code",
   "execution_count": 19,
   "id": "d03e64f5-65ff-4efa-9cb7-a416d68f0609",
   "metadata": {},
   "outputs": [],
   "source": [
    "# Initialize the collision matrix\n",
    "collision = [[0 for i in range(600)] for j in range(10)]\n",
    "g_hash_result_k2 = g_hash_function_k2(signature_matrix_all_k2)\n",
    "# Put the same hash result into the same bucket\n",
    "for l in range(len(g_hash_result_k2)):\n",
    "    for m in range(len(g_hash_result_k2[0])):\n",
    "        bucket_num = g_hash_result_k2[l][m]\n",
    "        collision[l][bucket_num] += 1"
   ]
  },
  {
   "cell_type": "code",
   "execution_count": 20,
   "id": "d92893ca-c34f-4fdd-887b-3a0d28bb5237",
   "metadata": {},
   "outputs": [
    {
     "data": {
      "image/png": "[encoded data removed]",
      "text/plain": [
       "<Figure size 3000x600 with 2 Axes>"
      ]
     },
     "metadata": {
      "needs_background": "light"
     },
     "output_type": "display_data"
    }
   ],
   "source": [
    "y_labels = ['band 1', 'band 2', 'band 3', 'band 4', 'band 5', 'band 6', 'band 7', 'band 8', 'band 9', 'band 10']\n",
    "plt.figure(dpi=120,figsize=(25,5))\n",
    "sns.heatmap(collision, yticklabels=y_labels)\n",
    "plt.xlabel('Buckets Number')\n",
    "plt.show()"
   ]
  },
  {
   "cell_type": "markdown",
   "id": "4c1fda9c-f7da-4a96-8f7a-2bd11cb40764",
   "metadata": {
    "tags": []
   },
   "source": [
    "## Part II: Nearest Neighbor Search"
   ]
  },
  {
   "cell_type": "markdown",
   "id": "27174bd7-7581-4197-9ca8-94cb38c286d6",
   "metadata": {
    "tags": []
   },
   "source": [
    "### (a) Query the LSH tables and return the top-10 articles that have the highest Jaccard similarities"
   ]
  },
  {
   "cell_type": "markdown",
   "id": "86da0ea2-5cc2-4c3f-b0eb-0e753e2a96eb",
   "metadata": {
    "tags": []
   },
   "source": [
    "#### (a.0) Define functions"
   ]
  },
  {
   "cell_type": "code",
   "execution_count": 21,
   "id": "27e8d28b-b40d-4ac6-98cf-9de5ab4f4299",
   "metadata": {},
   "outputs": [],
   "source": [
    "# Retrieve articles with the same bucket number as the target article\n",
    "def find_same_bucket(query_number, g_hash_result):\n",
    "    same_bucket_list = []\n",
    "    for l in range(len(g_hash_result)):\n",
    "        bucket_num = []\n",
    "        for m in range(len(g_hash_result[0])):\n",
    "            if g_hash_result[l][m] == g_hash_result[l][query_number-1]:\n",
    "                bucket_num.append(m+1)\n",
    "        same_bucket_list.append(bucket_num)\n",
    "    return same_bucket_list"
   ]
  },
  {
   "cell_type": "code",
   "execution_count": 22,
   "id": "2eab1d3b-9100-4d27-b097-9d5c41bf9bc9",
   "metadata": {},
   "outputs": [],
   "source": [
    "# Extract the signature of each article from the signature matrix\n",
    "def signature_extract(signature_matrix):\n",
    "    flat_signature_matrix = [element for sub_list in signature_matrix for element in sub_list]\n",
    "    signature_list = list(map(list, zip(*flat_signature_matrix)))\n",
    "    return signature_list"
   ]
  },
  {
   "cell_type": "code",
   "execution_count": 23,
   "id": "0c9ee066-1112-43e2-a75e-839d2f70a600",
   "metadata": {},
   "outputs": [],
   "source": [
    "# Compute Jaccard Similarity between q and each article in Dq\n",
    "def jaccard_similarity_signature_matrix(query_article_number, signature_list_query, signature_list_all, sorted_same_bucket_list):\n",
    "    index = dataset_query[(dataset_query[0] == query_article_number)].index.tolist()\n",
    "    similarity = []\n",
    "    for i in sorted_same_bucket_list:\n",
    "        count = 0\n",
    "        for j in range(len(signature_list_query[0])):\n",
    "            if signature_list_query[index[0]][j] == signature_list_all[i-1][j]:\n",
    "                count += 1\n",
    "        similarity.append(float(count / len(signature_list_query[0])))\n",
    "    return similarity"
   ]
  },
  {
   "cell_type": "code",
   "execution_count": 24,
   "id": "5783ad86-b953-490d-89e9-73a329120927",
   "metadata": {},
   "outputs": [],
   "source": [
    "# Generate similarity table\n",
    "def generate_similarity_table_bucketList(query_article_number, sorted_same_bucket_list, similarity):\n",
    "    column_name = []\n",
    "    for i in sorted_same_bucket_list:\n",
    "        column_name.append(str(i))\n",
    "    similarity_table = pd.DataFrame(similarity, columns=[\"Q \"+str(query_article_number)], index=column_name).T\n",
    "    return similarity_table"
   ]
  },
  {
   "cell_type": "code",
   "execution_count": 25,
   "id": "90ba79b1-d728-4c7d-9200-7ff96f7b36b3",
   "metadata": {},
   "outputs": [],
   "source": [
    "# Generate the list of top-10 articles with highest Jaccard Similarity in descending order for each query q\n",
    "def generate_top10_table_bucketList(rank):\n",
    "    news_id = []\n",
    "    Jaccard_sim = []\n",
    "    class_label = []\n",
    "    if len(sorted_same_bucket_list) < 10:\n",
    "        num = len(sorted_same_bucket_list)\n",
    "    else:\n",
    "        num = 10\n",
    "    for i in range(num):\n",
    "        news_id.append(rank.columns[i])\n",
    "        Jaccard_sim.append(rank.iloc[0][i])\n",
    "        class_label.append(dataset_all.iloc[:,-1][int(rank.columns[i])-1])\n",
    "    top10_table = pd.DataFrame([news_id, Jaccard_sim, class_label], columns=list(range(1,num+1)), index=['news_id','Jaccard_sim','class_label']).T\n",
    "    return top10_table"
   ]
  },
  {
   "cell_type": "code",
   "execution_count": 26,
   "id": "7978c0bd-5f37-47f4-8d99-e17ba5f32135",
   "metadata": {},
   "outputs": [],
   "source": [
    "# Extract the signature of each article from the signature matrix\n",
    "signature_list_all = signature_extract(signature_matrix_all_k2)\n",
    "signature_list_query = signature_extract(signature_matrix_query_k2)"
   ]
  },
  {
   "cell_type": "markdown",
   "id": "2f38f29b-eac4-4644-8eb4-3078045a7d29",
   "metadata": {
    "tags": []
   },
   "source": [
    "#### (a.1) Query article 531"
   ]
  },
  {
   "cell_type": "code",
   "execution_count": 27,
   "id": "bb2f05ed-2108-4be8-b86b-f89952471bec",
   "metadata": {},
   "outputs": [
    {
     "name": "stdout",
     "output_type": "stream",
     "text": [
      "[[114, 130, 314, 454, 510, 531], [418, 531], [118, 362, 483, 531], [162, 219, 531], [336, 531], [531], [89, 127, 165, 279, 531], [481, 483, 531], [324, 531], [314, 531]]\n"
     ]
    }
   ],
   "source": [
    "# Retrieve articles with the same bucket number as the target article\n",
    "same_bucket_list = find_same_bucket(531, g_hash_result_k2)\n",
    "print(same_bucket_list)"
   ]
  },
  {
   "cell_type": "code",
   "execution_count": 28,
   "id": "e3bbcc9f-2590-4041-9727-422481ed231a",
   "metadata": {},
   "outputs": [
    {
     "name": "stdout",
     "output_type": "stream",
     "text": [
      "[89, 114, 118, 127, 130, 162, 165, 219, 279, 314, 324, 336, 362, 418, 454, 481, 483, 510, 531]\n"
     ]
    }
   ],
   "source": [
    "# Flattening, deduplication and sorting\n",
    "sorted_same_bucket_list = sorted(list(set([element for sub_list in same_bucket_list for element in sub_list])))\n",
    "print(sorted_same_bucket_list)"
   ]
  },
  {
   "cell_type": "code",
   "execution_count": 29,
   "id": "b152cb5c-0424-46b8-959d-cba9a3697140",
   "metadata": {},
   "outputs": [
    {
     "data": {
      "text/html": [
       "<div>\n",
       "<style scoped>\n",
       "    .dataframe tbody tr th:only-of-type {\n",
       "        vertical-align: middle;\n",
       "    }\n",
       "\n",
       "    .dataframe tbody tr th {\n",
       "        vertical-align: top;\n",
       "    }\n",
       "\n",
       "    .dataframe thead th {\n",
       "        text-align: right;\n",
       "    }\n",
       "</style>\n",
       "<table border=\"1\" class=\"dataframe\">\n",
       "  <thead>\n",
       "    <tr style=\"text-align: right;\">\n",
       "      <th></th>\n",
       "      <th>89</th>\n",
       "      <th>114</th>\n",
       "      <th>118</th>\n",
       "      <th>127</th>\n",
       "      <th>130</th>\n",
       "      <th>162</th>\n",
       "      <th>165</th>\n",
       "      <th>219</th>\n",
       "      <th>279</th>\n",
       "      <th>314</th>\n",
       "      <th>324</th>\n",
       "      <th>336</th>\n",
       "      <th>362</th>\n",
       "      <th>418</th>\n",
       "      <th>454</th>\n",
       "      <th>481</th>\n",
       "      <th>483</th>\n",
       "      <th>510</th>\n",
       "      <th>531</th>\n",
       "    </tr>\n",
       "  </thead>\n",
       "  <tbody>\n",
       "    <tr>\n",
       "      <th>Q 531</th>\n",
       "      <td>0.05</td>\n",
       "      <td>0.15</td>\n",
       "      <td>0.1</td>\n",
       "      <td>0.0</td>\n",
       "      <td>0.25</td>\n",
       "      <td>0.05</td>\n",
       "      <td>0.0</td>\n",
       "      <td>0.05</td>\n",
       "      <td>0.0</td>\n",
       "      <td>0.5</td>\n",
       "      <td>0.05</td>\n",
       "      <td>0.1</td>\n",
       "      <td>0.1</td>\n",
       "      <td>0.0</td>\n",
       "      <td>0.0</td>\n",
       "      <td>0.05</td>\n",
       "      <td>0.0</td>\n",
       "      <td>0.15</td>\n",
       "      <td>1.0</td>\n",
       "    </tr>\n",
       "  </tbody>\n",
       "</table>\n",
       "</div>"
      ],
      "text/plain": [
       "         89   114  118  127   130   162  165   219  279  314   324  336  362  \\\n",
       "Q 531  0.05  0.15  0.1  0.0  0.25  0.05  0.0  0.05  0.0  0.5  0.05  0.1  0.1   \n",
       "\n",
       "       418  454   481  483   510  531  \n",
       "Q 531  0.0  0.0  0.05  0.0  0.15  1.0  "
      ]
     },
     "execution_count": 29,
     "metadata": {},
     "output_type": "execute_result"
    }
   ],
   "source": [
    "# Compute Jaccard Similarity between q and each article in Dq\n",
    "similarity = jaccard_similarity_signature_matrix(531, signature_list_query, signature_list_all, sorted_same_bucket_list)\n",
    "# Generate similarity table\n",
    "similarity_table = generate_similarity_table_bucketList(531, sorted_same_bucket_list, similarity)\n",
    "similarity_table"
   ]
  },
  {
   "cell_type": "code",
   "execution_count": 30,
   "id": "637ceac8-c925-4dff-abab-dceeae7d19e4",
   "metadata": {},
   "outputs": [
    {
     "data": {
      "text/html": [
       "<div>\n",
       "<style scoped>\n",
       "    .dataframe tbody tr th:only-of-type {\n",
       "        vertical-align: middle;\n",
       "    }\n",
       "\n",
       "    .dataframe tbody tr th {\n",
       "        vertical-align: top;\n",
       "    }\n",
       "\n",
       "    .dataframe thead th {\n",
       "        text-align: right;\n",
       "    }\n",
       "</style>\n",
       "<table border=\"1\" class=\"dataframe\">\n",
       "  <thead>\n",
       "    <tr style=\"text-align: right;\">\n",
       "      <th></th>\n",
       "      <th>news_id</th>\n",
       "      <th>Jaccard_sim</th>\n",
       "      <th>class_label</th>\n",
       "    </tr>\n",
       "  </thead>\n",
       "  <tbody>\n",
       "    <tr>\n",
       "      <th>1</th>\n",
       "      <td>531</td>\n",
       "      <td>1.0</td>\n",
       "      <td>entertainment</td>\n",
       "    </tr>\n",
       "    <tr>\n",
       "      <th>2</th>\n",
       "      <td>314</td>\n",
       "      <td>0.5</td>\n",
       "      <td>entertainment</td>\n",
       "    </tr>\n",
       "    <tr>\n",
       "      <th>3</th>\n",
       "      <td>130</td>\n",
       "      <td>0.25</td>\n",
       "      <td>entertainment</td>\n",
       "    </tr>\n",
       "    <tr>\n",
       "      <th>4</th>\n",
       "      <td>114</td>\n",
       "      <td>0.15</td>\n",
       "      <td>entertainment</td>\n",
       "    </tr>\n",
       "    <tr>\n",
       "      <th>5</th>\n",
       "      <td>510</td>\n",
       "      <td>0.15</td>\n",
       "      <td>entertainment</td>\n",
       "    </tr>\n",
       "    <tr>\n",
       "      <th>6</th>\n",
       "      <td>118</td>\n",
       "      <td>0.1</td>\n",
       "      <td>entertainment</td>\n",
       "    </tr>\n",
       "    <tr>\n",
       "      <th>7</th>\n",
       "      <td>362</td>\n",
       "      <td>0.1</td>\n",
       "      <td>entertainment</td>\n",
       "    </tr>\n",
       "    <tr>\n",
       "      <th>8</th>\n",
       "      <td>336</td>\n",
       "      <td>0.1</td>\n",
       "      <td>entertainment</td>\n",
       "    </tr>\n",
       "    <tr>\n",
       "      <th>9</th>\n",
       "      <td>481</td>\n",
       "      <td>0.05</td>\n",
       "      <td>entertainment</td>\n",
       "    </tr>\n",
       "    <tr>\n",
       "      <th>10</th>\n",
       "      <td>324</td>\n",
       "      <td>0.05</td>\n",
       "      <td>tech</td>\n",
       "    </tr>\n",
       "  </tbody>\n",
       "</table>\n",
       "</div>"
      ],
      "text/plain": [
       "   news_id Jaccard_sim    class_label\n",
       "1      531         1.0  entertainment\n",
       "2      314         0.5  entertainment\n",
       "3      130        0.25  entertainment\n",
       "4      114        0.15  entertainment\n",
       "5      510        0.15  entertainment\n",
       "6      118         0.1  entertainment\n",
       "7      362         0.1  entertainment\n",
       "8      336         0.1  entertainment\n",
       "9      481        0.05  entertainment\n",
       "10     324        0.05           tech"
      ]
     },
     "execution_count": 30,
     "metadata": {},
     "output_type": "execute_result"
    }
   ],
   "source": [
    "# Generate the list of top-10 articles with highest Jaccard Similarity in descending order for each query q\n",
    "rank = similarity_table.sort_values(by='Q 531', axis=1, ascending=False)\n",
    "top10_table_k2_531 = generate_top10_table_bucketList(rank)\n",
    "top10_table_k2_531"
   ]
  },
  {
   "cell_type": "markdown",
   "id": "57a3cf7a-a4bd-45d7-ada1-182854819738",
   "metadata": {
    "tags": []
   },
   "source": [
    "#### (a.2) Query article 532"
   ]
  },
  {
   "cell_type": "code",
   "execution_count": 31,
   "id": "b3442782-67c9-4dd1-9b82-a89f3e50483e",
   "metadata": {},
   "outputs": [
    {
     "name": "stdout",
     "output_type": "stream",
     "text": [
      "[[38, 76, 105, 116, 121, 125, 143, 201, 316, 349, 413, 427, 453, 455, 464, 522, 528, 532], [532], [146, 281, 320, 348, 386, 505, 528, 532], [438, 532], [532], [349, 532], [532], [148, 181, 245, 532], [532], [1, 131, 153, 532]]\n"
     ]
    }
   ],
   "source": [
    "# Retrieve articles with the same bucket number as the target article\n",
    "same_bucket_list = find_same_bucket(532, g_hash_result_k2)\n",
    "print(same_bucket_list)"
   ]
  },
  {
   "cell_type": "code",
   "execution_count": 32,
   "id": "25a4def8-b968-4265-a31a-afaf1a095c6a",
   "metadata": {},
   "outputs": [
    {
     "name": "stdout",
     "output_type": "stream",
     "text": [
      "[1, 38, 76, 105, 116, 121, 125, 131, 143, 146, 148, 153, 181, 201, 245, 281, 316, 320, 348, 349, 386, 413, 427, 438, 453, 455, 464, 505, 522, 528, 532]\n"
     ]
    }
   ],
   "source": [
    "# Flattening, deduplication and sorting\n",
    "sorted_same_bucket_list = sorted(list(set([element for sub_list in same_bucket_list for element in sub_list])))\n",
    "print(sorted_same_bucket_list)"
   ]
  },
  {
   "cell_type": "code",
   "execution_count": 33,
   "id": "7e087a7e-cf43-4b0d-a516-e92918952c43",
   "metadata": {},
   "outputs": [
    {
     "data": {
      "text/html": [
       "<div>\n",
       "<style scoped>\n",
       "    .dataframe tbody tr th:only-of-type {\n",
       "        vertical-align: middle;\n",
       "    }\n",
       "\n",
       "    .dataframe tbody tr th {\n",
       "        vertical-align: top;\n",
       "    }\n",
       "\n",
       "    .dataframe thead th {\n",
       "        text-align: right;\n",
       "    }\n",
       "</style>\n",
       "<table border=\"1\" class=\"dataframe\">\n",
       "  <thead>\n",
       "    <tr style=\"text-align: right;\">\n",
       "      <th></th>\n",
       "      <th>1</th>\n",
       "      <th>38</th>\n",
       "      <th>76</th>\n",
       "      <th>105</th>\n",
       "      <th>116</th>\n",
       "      <th>121</th>\n",
       "      <th>125</th>\n",
       "      <th>131</th>\n",
       "      <th>143</th>\n",
       "      <th>146</th>\n",
       "      <th>...</th>\n",
       "      <th>413</th>\n",
       "      <th>427</th>\n",
       "      <th>438</th>\n",
       "      <th>453</th>\n",
       "      <th>455</th>\n",
       "      <th>464</th>\n",
       "      <th>505</th>\n",
       "      <th>522</th>\n",
       "      <th>528</th>\n",
       "      <th>532</th>\n",
       "    </tr>\n",
       "  </thead>\n",
       "  <tbody>\n",
       "    <tr>\n",
       "      <th>Q 532</th>\n",
       "      <td>0.0</td>\n",
       "      <td>0.1</td>\n",
       "      <td>0.15</td>\n",
       "      <td>0.1</td>\n",
       "      <td>0.1</td>\n",
       "      <td>0.1</td>\n",
       "      <td>0.1</td>\n",
       "      <td>0.1</td>\n",
       "      <td>0.15</td>\n",
       "      <td>0.15</td>\n",
       "      <td>...</td>\n",
       "      <td>0.1</td>\n",
       "      <td>0.15</td>\n",
       "      <td>0.05</td>\n",
       "      <td>0.15</td>\n",
       "      <td>0.1</td>\n",
       "      <td>0.1</td>\n",
       "      <td>0.1</td>\n",
       "      <td>0.1</td>\n",
       "      <td>0.2</td>\n",
       "      <td>1.0</td>\n",
       "    </tr>\n",
       "  </tbody>\n",
       "</table>\n",
       "<p>1 rows × 31 columns</p>\n",
       "</div>"
      ],
      "text/plain": [
       "         1   38    76  105  116  121  125  131   143   146  ...  413   427  \\\n",
       "Q 532  0.0  0.1  0.15  0.1  0.1  0.1  0.1  0.1  0.15  0.15  ...  0.1  0.15   \n",
       "\n",
       "        438   453  455  464  505  522  528  532  \n",
       "Q 532  0.05  0.15  0.1  0.1  0.1  0.1  0.2  1.0  \n",
       "\n",
       "[1 rows x 31 columns]"
      ]
     },
     "execution_count": 33,
     "metadata": {},
     "output_type": "execute_result"
    }
   ],
   "source": [
    "# Compute Jaccard Similarity between q and each article in Dq\n",
    "similarity = jaccard_similarity_signature_matrix(532, signature_list_query, signature_list_all, sorted_same_bucket_list)\n",
    "# Generate similarity table\n",
    "similarity_table = generate_similarity_table_bucketList(532, sorted_same_bucket_list, similarity)\n",
    "similarity_table"
   ]
  },
  {
   "cell_type": "code",
   "execution_count": 34,
   "id": "7fba6923-b24a-467d-ac56-d254b83f66cc",
   "metadata": {},
   "outputs": [
    {
     "data": {
      "text/html": [
       "<div>\n",
       "<style scoped>\n",
       "    .dataframe tbody tr th:only-of-type {\n",
       "        vertical-align: middle;\n",
       "    }\n",
       "\n",
       "    .dataframe tbody tr th {\n",
       "        vertical-align: top;\n",
       "    }\n",
       "\n",
       "    .dataframe thead th {\n",
       "        text-align: right;\n",
       "    }\n",
       "</style>\n",
       "<table border=\"1\" class=\"dataframe\">\n",
       "  <thead>\n",
       "    <tr style=\"text-align: right;\">\n",
       "      <th></th>\n",
       "      <th>news_id</th>\n",
       "      <th>Jaccard_sim</th>\n",
       "      <th>class_label</th>\n",
       "    </tr>\n",
       "  </thead>\n",
       "  <tbody>\n",
       "    <tr>\n",
       "      <th>1</th>\n",
       "      <td>532</td>\n",
       "      <td>1.0</td>\n",
       "      <td>entertainment</td>\n",
       "    </tr>\n",
       "    <tr>\n",
       "      <th>2</th>\n",
       "      <td>528</td>\n",
       "      <td>0.2</td>\n",
       "      <td>tech</td>\n",
       "    </tr>\n",
       "    <tr>\n",
       "      <th>3</th>\n",
       "      <td>76</td>\n",
       "      <td>0.15</td>\n",
       "      <td>entertainment</td>\n",
       "    </tr>\n",
       "    <tr>\n",
       "      <th>4</th>\n",
       "      <td>453</td>\n",
       "      <td>0.15</td>\n",
       "      <td>tech</td>\n",
       "    </tr>\n",
       "    <tr>\n",
       "      <th>5</th>\n",
       "      <td>143</td>\n",
       "      <td>0.15</td>\n",
       "      <td>entertainment</td>\n",
       "    </tr>\n",
       "    <tr>\n",
       "      <th>6</th>\n",
       "      <td>146</td>\n",
       "      <td>0.15</td>\n",
       "      <td>entertainment</td>\n",
       "    </tr>\n",
       "    <tr>\n",
       "      <th>7</th>\n",
       "      <td>427</td>\n",
       "      <td>0.15</td>\n",
       "      <td>entertainment</td>\n",
       "    </tr>\n",
       "    <tr>\n",
       "      <th>8</th>\n",
       "      <td>201</td>\n",
       "      <td>0.1</td>\n",
       "      <td>tech</td>\n",
       "    </tr>\n",
       "    <tr>\n",
       "      <th>9</th>\n",
       "      <td>386</td>\n",
       "      <td>0.1</td>\n",
       "      <td>tech</td>\n",
       "    </tr>\n",
       "    <tr>\n",
       "      <th>10</th>\n",
       "      <td>455</td>\n",
       "      <td>0.1</td>\n",
       "      <td>tech</td>\n",
       "    </tr>\n",
       "  </tbody>\n",
       "</table>\n",
       "</div>"
      ],
      "text/plain": [
       "   news_id Jaccard_sim    class_label\n",
       "1      532         1.0  entertainment\n",
       "2      528         0.2           tech\n",
       "3       76        0.15  entertainment\n",
       "4      453        0.15           tech\n",
       "5      143        0.15  entertainment\n",
       "6      146        0.15  entertainment\n",
       "7      427        0.15  entertainment\n",
       "8      201         0.1           tech\n",
       "9      386         0.1           tech\n",
       "10     455         0.1           tech"
      ]
     },
     "execution_count": 34,
     "metadata": {},
     "output_type": "execute_result"
    }
   ],
   "source": [
    "# Generate the list of top-10 articles with highest Jaccard Similarity in descending order for each query q\n",
    "rank = similarity_table.sort_values(by='Q 532', axis=1, ascending=False)\n",
    "top10_table_k2_532 = generate_top10_table_bucketList(rank)\n",
    "top10_table_k2_532"
   ]
  },
  {
   "cell_type": "markdown",
   "id": "decd24b8-adf8-4f71-b96b-586e1ed64a7c",
   "metadata": {
    "tags": []
   },
   "source": [
    "#### (a.3) Query article 533"
   ]
  },
  {
   "cell_type": "code",
   "execution_count": 35,
   "id": "51febcca-189f-4fd2-8c3e-a1857148acca",
   "metadata": {},
   "outputs": [
    {
     "name": "stdout",
     "output_type": "stream",
     "text": [
      "[[58, 533], [406, 533], [75, 82, 108, 121, 124, 135, 166, 176, 287, 314, 341, 392, 444, 455, 464, 492, 512, 533], [151, 533], [16, 43, 533], [533], [91, 280, 455, 464, 488, 533], [22, 533], [337, 533], [533]]\n"
     ]
    }
   ],
   "source": [
    "# Retrieve articles with the same bucket number as the target article\n",
    "same_bucket_list = find_same_bucket(533, g_hash_result_k2)\n",
    "print(same_bucket_list)"
   ]
  },
  {
   "cell_type": "code",
   "execution_count": 36,
   "id": "f57e0725-6de6-4997-8ce5-7dbfccf325e9",
   "metadata": {},
   "outputs": [
    {
     "name": "stdout",
     "output_type": "stream",
     "text": [
      "[16, 22, 43, 58, 75, 82, 91, 108, 121, 124, 135, 151, 166, 176, 280, 287, 314, 337, 341, 392, 406, 444, 455, 464, 488, 492, 512, 533]\n"
     ]
    }
   ],
   "source": [
    "# Flattening, deduplication and sorting\n",
    "sorted_same_bucket_list = sorted(list(set([element for sub_list in same_bucket_list for element in sub_list])))\n",
    "print(sorted_same_bucket_list)"
   ]
  },
  {
   "cell_type": "code",
   "execution_count": 37,
   "id": "aadd9c79-e7f7-45d5-b8b4-bce4b057c87f",
   "metadata": {},
   "outputs": [
    {
     "data": {
      "text/html": [
       "<div>\n",
       "<style scoped>\n",
       "    .dataframe tbody tr th:only-of-type {\n",
       "        vertical-align: middle;\n",
       "    }\n",
       "\n",
       "    .dataframe tbody tr th {\n",
       "        vertical-align: top;\n",
       "    }\n",
       "\n",
       "    .dataframe thead th {\n",
       "        text-align: right;\n",
       "    }\n",
       "</style>\n",
       "<table border=\"1\" class=\"dataframe\">\n",
       "  <thead>\n",
       "    <tr style=\"text-align: right;\">\n",
       "      <th></th>\n",
       "      <th>16</th>\n",
       "      <th>22</th>\n",
       "      <th>43</th>\n",
       "      <th>58</th>\n",
       "      <th>75</th>\n",
       "      <th>82</th>\n",
       "      <th>91</th>\n",
       "      <th>108</th>\n",
       "      <th>121</th>\n",
       "      <th>124</th>\n",
       "      <th>...</th>\n",
       "      <th>341</th>\n",
       "      <th>392</th>\n",
       "      <th>406</th>\n",
       "      <th>444</th>\n",
       "      <th>455</th>\n",
       "      <th>464</th>\n",
       "      <th>488</th>\n",
       "      <th>492</th>\n",
       "      <th>512</th>\n",
       "      <th>533</th>\n",
       "    </tr>\n",
       "  </thead>\n",
       "  <tbody>\n",
       "    <tr>\n",
       "      <th>Q 533</th>\n",
       "      <td>0.1</td>\n",
       "      <td>0.1</td>\n",
       "      <td>0.0</td>\n",
       "      <td>0.0</td>\n",
       "      <td>0.05</td>\n",
       "      <td>0.1</td>\n",
       "      <td>0.2</td>\n",
       "      <td>0.05</td>\n",
       "      <td>0.15</td>\n",
       "      <td>0.2</td>\n",
       "      <td>...</td>\n",
       "      <td>0.1</td>\n",
       "      <td>0.0</td>\n",
       "      <td>0.05</td>\n",
       "      <td>0.05</td>\n",
       "      <td>0.2</td>\n",
       "      <td>0.2</td>\n",
       "      <td>0.1</td>\n",
       "      <td>0.05</td>\n",
       "      <td>0.15</td>\n",
       "      <td>1.0</td>\n",
       "    </tr>\n",
       "  </tbody>\n",
       "</table>\n",
       "<p>1 rows × 28 columns</p>\n",
       "</div>"
      ],
      "text/plain": [
       "        16   22   43   58    75   82   91   108   121  124  ...  341  392  \\\n",
       "Q 533  0.1  0.1  0.0  0.0  0.05  0.1  0.2  0.05  0.15  0.2  ...  0.1  0.0   \n",
       "\n",
       "        406   444  455  464  488   492   512  533  \n",
       "Q 533  0.05  0.05  0.2  0.2  0.1  0.05  0.15  1.0  \n",
       "\n",
       "[1 rows x 28 columns]"
      ]
     },
     "execution_count": 37,
     "metadata": {},
     "output_type": "execute_result"
    }
   ],
   "source": [
    "# Compute Jaccard Similarity between q and each article in Dq\n",
    "similarity = jaccard_similarity_signature_matrix(533, signature_list_query, signature_list_all, sorted_same_bucket_list)\n",
    "# Generate similarity table\n",
    "similarity_table = generate_similarity_table_bucketList(533, sorted_same_bucket_list, similarity)\n",
    "similarity_table"
   ]
  },
  {
   "cell_type": "code",
   "execution_count": 38,
   "id": "7845ca9e-472a-4f26-b4ca-972f068b41ee",
   "metadata": {},
   "outputs": [
    {
     "data": {
      "text/html": [
       "<div>\n",
       "<style scoped>\n",
       "    .dataframe tbody tr th:only-of-type {\n",
       "        vertical-align: middle;\n",
       "    }\n",
       "\n",
       "    .dataframe tbody tr th {\n",
       "        vertical-align: top;\n",
       "    }\n",
       "\n",
       "    .dataframe thead th {\n",
       "        text-align: right;\n",
       "    }\n",
       "</style>\n",
       "<table border=\"1\" class=\"dataframe\">\n",
       "  <thead>\n",
       "    <tr style=\"text-align: right;\">\n",
       "      <th></th>\n",
       "      <th>news_id</th>\n",
       "      <th>Jaccard_sim</th>\n",
       "      <th>class_label</th>\n",
       "    </tr>\n",
       "  </thead>\n",
       "  <tbody>\n",
       "    <tr>\n",
       "      <th>1</th>\n",
       "      <td>533</td>\n",
       "      <td>1.0</td>\n",
       "      <td>tech</td>\n",
       "    </tr>\n",
       "    <tr>\n",
       "      <th>2</th>\n",
       "      <td>464</td>\n",
       "      <td>0.2</td>\n",
       "      <td>tech</td>\n",
       "    </tr>\n",
       "    <tr>\n",
       "      <th>3</th>\n",
       "      <td>455</td>\n",
       "      <td>0.2</td>\n",
       "      <td>tech</td>\n",
       "    </tr>\n",
       "    <tr>\n",
       "      <th>4</th>\n",
       "      <td>91</td>\n",
       "      <td>0.2</td>\n",
       "      <td>tech</td>\n",
       "    </tr>\n",
       "    <tr>\n",
       "      <th>5</th>\n",
       "      <td>124</td>\n",
       "      <td>0.2</td>\n",
       "      <td>tech</td>\n",
       "    </tr>\n",
       "    <tr>\n",
       "      <th>6</th>\n",
       "      <td>287</td>\n",
       "      <td>0.2</td>\n",
       "      <td>tech</td>\n",
       "    </tr>\n",
       "    <tr>\n",
       "      <th>7</th>\n",
       "      <td>512</td>\n",
       "      <td>0.15</td>\n",
       "      <td>tech</td>\n",
       "    </tr>\n",
       "    <tr>\n",
       "      <th>8</th>\n",
       "      <td>121</td>\n",
       "      <td>0.15</td>\n",
       "      <td>tech</td>\n",
       "    </tr>\n",
       "    <tr>\n",
       "      <th>9</th>\n",
       "      <td>166</td>\n",
       "      <td>0.1</td>\n",
       "      <td>tech</td>\n",
       "    </tr>\n",
       "    <tr>\n",
       "      <th>10</th>\n",
       "      <td>488</td>\n",
       "      <td>0.1</td>\n",
       "      <td>tech</td>\n",
       "    </tr>\n",
       "  </tbody>\n",
       "</table>\n",
       "</div>"
      ],
      "text/plain": [
       "   news_id Jaccard_sim class_label\n",
       "1      533         1.0        tech\n",
       "2      464         0.2        tech\n",
       "3      455         0.2        tech\n",
       "4       91         0.2        tech\n",
       "5      124         0.2        tech\n",
       "6      287         0.2        tech\n",
       "7      512        0.15        tech\n",
       "8      121        0.15        tech\n",
       "9      166         0.1        tech\n",
       "10     488         0.1        tech"
      ]
     },
     "execution_count": 38,
     "metadata": {},
     "output_type": "execute_result"
    }
   ],
   "source": [
    "# Generate the list of top-10 articles with highest Jaccard Similarity in descending order for each query q\n",
    "rank = similarity_table.sort_values(by='Q 533', axis=1, ascending=False)\n",
    "top10_table_k2_533 = generate_top10_table_bucketList(rank)\n",
    "top10_table_k2_533"
   ]
  },
  {
   "cell_type": "markdown",
   "id": "60179a5b-5ca1-4139-bf56-7024dc51c575",
   "metadata": {
    "tags": []
   },
   "source": [
    "#### (a.4) Query article 534"
   ]
  },
  {
   "cell_type": "code",
   "execution_count": 39,
   "id": "e61f1196-8fa4-4217-a913-151947c4e92a",
   "metadata": {},
   "outputs": [
    {
     "name": "stdout",
     "output_type": "stream",
     "text": [
      "[[126, 283, 440, 462, 534], [437, 534], [534], [72, 534], [5, 193, 363, 534], [534], [133, 185, 447, 534], [534], [534], [534]]\n"
     ]
    }
   ],
   "source": [
    "# Retrieve articles with the same bucket number as the target article\n",
    "same_bucket_list = find_same_bucket(534, g_hash_result_k2)\n",
    "print(same_bucket_list)"
   ]
  },
  {
   "cell_type": "code",
   "execution_count": 40,
   "id": "ffd5fe52-ceaa-4e7f-b43a-23645dabd48f",
   "metadata": {},
   "outputs": [
    {
     "name": "stdout",
     "output_type": "stream",
     "text": [
      "[5, 72, 126, 133, 185, 193, 283, 363, 437, 440, 447, 462, 534]\n"
     ]
    }
   ],
   "source": [
    "# Flattening, deduplication and sorting\n",
    "sorted_same_bucket_list = sorted(list(set([element for sub_list in same_bucket_list for element in sub_list])))\n",
    "print(sorted_same_bucket_list)"
   ]
  },
  {
   "cell_type": "code",
   "execution_count": 41,
   "id": "d265fdc5-82c7-4b1c-808c-7932bed05de2",
   "metadata": {},
   "outputs": [
    {
     "data": {
      "text/html": [
       "<div>\n",
       "<style scoped>\n",
       "    .dataframe tbody tr th:only-of-type {\n",
       "        vertical-align: middle;\n",
       "    }\n",
       "\n",
       "    .dataframe tbody tr th {\n",
       "        vertical-align: top;\n",
       "    }\n",
       "\n",
       "    .dataframe thead th {\n",
       "        text-align: right;\n",
       "    }\n",
       "</style>\n",
       "<table border=\"1\" class=\"dataframe\">\n",
       "  <thead>\n",
       "    <tr style=\"text-align: right;\">\n",
       "      <th></th>\n",
       "      <th>5</th>\n",
       "      <th>72</th>\n",
       "      <th>126</th>\n",
       "      <th>133</th>\n",
       "      <th>185</th>\n",
       "      <th>193</th>\n",
       "      <th>283</th>\n",
       "      <th>363</th>\n",
       "      <th>437</th>\n",
       "      <th>440</th>\n",
       "      <th>447</th>\n",
       "      <th>462</th>\n",
       "      <th>534</th>\n",
       "    </tr>\n",
       "  </thead>\n",
       "  <tbody>\n",
       "    <tr>\n",
       "      <th>Q 534</th>\n",
       "      <td>0.05</td>\n",
       "      <td>0.05</td>\n",
       "      <td>0.0</td>\n",
       "      <td>0.0</td>\n",
       "      <td>0.05</td>\n",
       "      <td>0.1</td>\n",
       "      <td>0.25</td>\n",
       "      <td>0.2</td>\n",
       "      <td>0.05</td>\n",
       "      <td>0.15</td>\n",
       "      <td>0.15</td>\n",
       "      <td>0.15</td>\n",
       "      <td>1.0</td>\n",
       "    </tr>\n",
       "  </tbody>\n",
       "</table>\n",
       "</div>"
      ],
      "text/plain": [
       "          5    72  126  133   185  193   283  363   437   440   447   462  534\n",
       "Q 534  0.05  0.05  0.0  0.0  0.05  0.1  0.25  0.2  0.05  0.15  0.15  0.15  1.0"
      ]
     },
     "execution_count": 41,
     "metadata": {},
     "output_type": "execute_result"
    }
   ],
   "source": [
    "# Compute Jaccard Similarity between q and each article in Dq\n",
    "similarity = jaccard_similarity_signature_matrix(534, signature_list_query, signature_list_all, sorted_same_bucket_list)\n",
    "# Generate similarity table\n",
    "similarity_table = generate_similarity_table_bucketList(534, sorted_same_bucket_list, similarity)\n",
    "similarity_table"
   ]
  },
  {
   "cell_type": "code",
   "execution_count": 42,
   "id": "22083895-8700-4cf5-8a99-52c20f43c2ab",
   "metadata": {},
   "outputs": [
    {
     "data": {
      "text/html": [
       "<div>\n",
       "<style scoped>\n",
       "    .dataframe tbody tr th:only-of-type {\n",
       "        vertical-align: middle;\n",
       "    }\n",
       "\n",
       "    .dataframe tbody tr th {\n",
       "        vertical-align: top;\n",
       "    }\n",
       "\n",
       "    .dataframe thead th {\n",
       "        text-align: right;\n",
       "    }\n",
       "</style>\n",
       "<table border=\"1\" class=\"dataframe\">\n",
       "  <thead>\n",
       "    <tr style=\"text-align: right;\">\n",
       "      <th></th>\n",
       "      <th>news_id</th>\n",
       "      <th>Jaccard_sim</th>\n",
       "      <th>class_label</th>\n",
       "    </tr>\n",
       "  </thead>\n",
       "  <tbody>\n",
       "    <tr>\n",
       "      <th>1</th>\n",
       "      <td>534</td>\n",
       "      <td>1.0</td>\n",
       "      <td>tech</td>\n",
       "    </tr>\n",
       "    <tr>\n",
       "      <th>2</th>\n",
       "      <td>283</td>\n",
       "      <td>0.25</td>\n",
       "      <td>tech</td>\n",
       "    </tr>\n",
       "    <tr>\n",
       "      <th>3</th>\n",
       "      <td>363</td>\n",
       "      <td>0.2</td>\n",
       "      <td>entertainment</td>\n",
       "    </tr>\n",
       "    <tr>\n",
       "      <th>4</th>\n",
       "      <td>440</td>\n",
       "      <td>0.15</td>\n",
       "      <td>tech</td>\n",
       "    </tr>\n",
       "    <tr>\n",
       "      <th>5</th>\n",
       "      <td>447</td>\n",
       "      <td>0.15</td>\n",
       "      <td>tech</td>\n",
       "    </tr>\n",
       "    <tr>\n",
       "      <th>6</th>\n",
       "      <td>462</td>\n",
       "      <td>0.15</td>\n",
       "      <td>tech</td>\n",
       "    </tr>\n",
       "    <tr>\n",
       "      <th>7</th>\n",
       "      <td>193</td>\n",
       "      <td>0.1</td>\n",
       "      <td>entertainment</td>\n",
       "    </tr>\n",
       "    <tr>\n",
       "      <th>8</th>\n",
       "      <td>5</td>\n",
       "      <td>0.05</td>\n",
       "      <td>entertainment</td>\n",
       "    </tr>\n",
       "    <tr>\n",
       "      <th>9</th>\n",
       "      <td>72</td>\n",
       "      <td>0.05</td>\n",
       "      <td>entertainment</td>\n",
       "    </tr>\n",
       "    <tr>\n",
       "      <th>10</th>\n",
       "      <td>185</td>\n",
       "      <td>0.05</td>\n",
       "      <td>entertainment</td>\n",
       "    </tr>\n",
       "  </tbody>\n",
       "</table>\n",
       "</div>"
      ],
      "text/plain": [
       "   news_id Jaccard_sim    class_label\n",
       "1      534         1.0           tech\n",
       "2      283        0.25           tech\n",
       "3      363         0.2  entertainment\n",
       "4      440        0.15           tech\n",
       "5      447        0.15           tech\n",
       "6      462        0.15           tech\n",
       "7      193         0.1  entertainment\n",
       "8        5        0.05  entertainment\n",
       "9       72        0.05  entertainment\n",
       "10     185        0.05  entertainment"
      ]
     },
     "execution_count": 42,
     "metadata": {},
     "output_type": "execute_result"
    }
   ],
   "source": [
    "# Generate the list of top-10 articles with highest Jaccard Similarity in descending order for each query q\n",
    "rank = similarity_table.sort_values(by='Q 534', axis=1, ascending=False)\n",
    "top10_table_k2_534 = generate_top10_table_bucketList(rank)\n",
    "top10_table_k2_534"
   ]
  },
  {
   "cell_type": "markdown",
   "id": "31cb346d-697f-4b26-b2a2-a5e601505fea",
   "metadata": {
    "tags": []
   },
   "source": [
    "### (b) Compute Jaccard similarity for query q and all articles in the dataset"
   ]
  },
  {
   "cell_type": "markdown",
   "id": "c485bd40-6d37-4a64-9e86-61515099226b",
   "metadata": {
    "tags": []
   },
   "source": [
    "#### (b.0) Define functions"
   ]
  },
  {
   "cell_type": "code",
   "execution_count": 43,
   "id": "aba1d647-62b1-4a2f-bab7-b7dc8443a928",
   "metadata": {},
   "outputs": [],
   "source": [
    "# Compute Jaccard Similarity for query q and all articles in the dataset\n",
    "def jaccard_similarity_boolean_matrix(query_article_number, boolean_matrix_query_T, boolean_matrix_all_T):\n",
    "    index = dataset_query[(dataset_query[0] == query_article_number)].index.tolist()\n",
    "    similarity = []\n",
    "    for i in boolean_matrix_all_T:\n",
    "        intersection = np.logical_and(boolean_matrix_query_T[index[0]], i)\n",
    "        union = np.logical_or(boolean_matrix_query_T[index[0]], i)\n",
    "        similarity.append(float(intersection.sum() / union.sum()))\n",
    "    return similarity"
   ]
  },
  {
   "cell_type": "code",
   "execution_count": 44,
   "id": "8ab48812-5404-4561-9fc8-95b2a24344a7",
   "metadata": {},
   "outputs": [],
   "source": [
    "# Generate similarity table\n",
    "def generate_similarity_table_allDataset(query_article_number, similarity):\n",
    "    column_name = []\n",
    "    for i in range(534):\n",
    "        column_name.append(str(i+1))\n",
    "    similarity_table = pd.DataFrame(similarity, columns=[\"Q \"+str(query_article_number)], index=column_name).T\n",
    "    return similarity_table"
   ]
  },
  {
   "cell_type": "code",
   "execution_count": 45,
   "id": "607ecd96-e5e3-409e-ba95-100ff1553ca3",
   "metadata": {},
   "outputs": [],
   "source": [
    "# Generate the list of top-10 articles with highest Jaccard Similarity in descending order for each query q\n",
    "def generate_top10_table_allDataset(rank):\n",
    "    news_id = []\n",
    "    Jaccard_sim = []\n",
    "    class_label = []\n",
    "    for i in range(10):\n",
    "        news_id.append(rank.columns[i])\n",
    "        Jaccard_sim.append(rank.iloc[0][i])\n",
    "        class_label.append(dataset_all.iloc[:,-1][int(rank.columns[i])-1])\n",
    "    top10_table = pd.DataFrame([news_id, Jaccard_sim, class_label], columns=list(range(1,11)), index=['news_id','Jaccard_sim','class_label']).T\n",
    "    return top10_table"
   ]
  },
  {
   "cell_type": "code",
   "execution_count": 46,
   "id": "f4f2b506-5fbf-406d-ba1b-953b0bab6fac",
   "metadata": {},
   "outputs": [],
   "source": [
    "# Transpose boolean matrix\n",
    "boolean_matrix_all_T = list(map(list, zip(*boolean_matrix_all)))\n",
    "boolean_matrix_query_T = list(map(list, zip(*boolean_matrix_query)))"
   ]
  },
  {
   "cell_type": "markdown",
   "id": "be382de7-ed48-40f7-a627-50275f6e5bad",
   "metadata": {
    "tags": []
   },
   "source": [
    "#### (b.1) Query article 531"
   ]
  },
  {
   "cell_type": "code",
   "execution_count": 47,
   "id": "71be9e7c-eb91-4559-8057-eeb5a886cdaf",
   "metadata": {},
   "outputs": [
    {
     "data": {
      "text/html": [
       "<div>\n",
       "<style scoped>\n",
       "    .dataframe tbody tr th:only-of-type {\n",
       "        vertical-align: middle;\n",
       "    }\n",
       "\n",
       "    .dataframe tbody tr th {\n",
       "        vertical-align: top;\n",
       "    }\n",
       "\n",
       "    .dataframe thead th {\n",
       "        text-align: right;\n",
       "    }\n",
       "</style>\n",
       "<table border=\"1\" class=\"dataframe\">\n",
       "  <thead>\n",
       "    <tr style=\"text-align: right;\">\n",
       "      <th></th>\n",
       "      <th>1</th>\n",
       "      <th>2</th>\n",
       "      <th>3</th>\n",
       "      <th>4</th>\n",
       "      <th>5</th>\n",
       "      <th>6</th>\n",
       "      <th>7</th>\n",
       "      <th>8</th>\n",
       "      <th>9</th>\n",
       "      <th>10</th>\n",
       "      <th>...</th>\n",
       "      <th>525</th>\n",
       "      <th>526</th>\n",
       "      <th>527</th>\n",
       "      <th>528</th>\n",
       "      <th>529</th>\n",
       "      <th>530</th>\n",
       "      <th>531</th>\n",
       "      <th>532</th>\n",
       "      <th>533</th>\n",
       "      <th>534</th>\n",
       "    </tr>\n",
       "  </thead>\n",
       "  <tbody>\n",
       "    <tr>\n",
       "      <th>Q 531</th>\n",
       "      <td>0.013029</td>\n",
       "      <td>0.021164</td>\n",
       "      <td>0.025253</td>\n",
       "      <td>0.048485</td>\n",
       "      <td>0.018561</td>\n",
       "      <td>0.019048</td>\n",
       "      <td>0.030702</td>\n",
       "      <td>0.018957</td>\n",
       "      <td>0.020725</td>\n",
       "      <td>0.011719</td>\n",
       "      <td>...</td>\n",
       "      <td>0.015748</td>\n",
       "      <td>0.033473</td>\n",
       "      <td>0.015385</td>\n",
       "      <td>0.012158</td>\n",
       "      <td>0.022082</td>\n",
       "      <td>0.015873</td>\n",
       "      <td>1.0</td>\n",
       "      <td>0.036545</td>\n",
       "      <td>0.022951</td>\n",
       "      <td>0.009804</td>\n",
       "    </tr>\n",
       "  </tbody>\n",
       "</table>\n",
       "<p>1 rows × 534 columns</p>\n",
       "</div>"
      ],
      "text/plain": [
       "              1         2         3         4         5         6         7  \\\n",
       "Q 531  0.013029  0.021164  0.025253  0.048485  0.018561  0.019048  0.030702   \n",
       "\n",
       "              8         9        10  ...       525       526       527  \\\n",
       "Q 531  0.018957  0.020725  0.011719  ...  0.015748  0.033473  0.015385   \n",
       "\n",
       "            528       529       530  531       532       533       534  \n",
       "Q 531  0.012158  0.022082  0.015873  1.0  0.036545  0.022951  0.009804  \n",
       "\n",
       "[1 rows x 534 columns]"
      ]
     },
     "execution_count": 47,
     "metadata": {},
     "output_type": "execute_result"
    }
   ],
   "source": [
    "# Compute Jaccard Similarity for query q and all articles in the dataset\n",
    "similarity = jaccard_similarity_boolean_matrix(531, boolean_matrix_query_T, boolean_matrix_all_T)\n",
    "# Generate similarity table\n",
    "similarity_table_truth_531 = generate_similarity_table_allDataset(531, similarity)\n",
    "similarity_table_truth_531"
   ]
  },
  {
   "cell_type": "code",
   "execution_count": 48,
   "id": "42260879-703d-4a75-acb9-4f456118f128",
   "metadata": {},
   "outputs": [
    {
     "data": {
      "text/html": [
       "<div>\n",
       "<style scoped>\n",
       "    .dataframe tbody tr th:only-of-type {\n",
       "        vertical-align: middle;\n",
       "    }\n",
       "\n",
       "    .dataframe tbody tr th {\n",
       "        vertical-align: top;\n",
       "    }\n",
       "\n",
       "    .dataframe thead th {\n",
       "        text-align: right;\n",
       "    }\n",
       "</style>\n",
       "<table border=\"1\" class=\"dataframe\">\n",
       "  <thead>\n",
       "    <tr style=\"text-align: right;\">\n",
       "      <th></th>\n",
       "      <th>news_id</th>\n",
       "      <th>Jaccard_sim</th>\n",
       "      <th>class_label</th>\n",
       "    </tr>\n",
       "  </thead>\n",
       "  <tbody>\n",
       "    <tr>\n",
       "      <th>1</th>\n",
       "      <td>531</td>\n",
       "      <td>1.0</td>\n",
       "      <td>entertainment</td>\n",
       "    </tr>\n",
       "    <tr>\n",
       "      <th>2</th>\n",
       "      <td>145</td>\n",
       "      <td>0.197183</td>\n",
       "      <td>entertainment</td>\n",
       "    </tr>\n",
       "    <tr>\n",
       "      <th>3</th>\n",
       "      <td>70</td>\n",
       "      <td>0.167785</td>\n",
       "      <td>entertainment</td>\n",
       "    </tr>\n",
       "    <tr>\n",
       "      <th>4</th>\n",
       "      <td>314</td>\n",
       "      <td>0.165385</td>\n",
       "      <td>entertainment</td>\n",
       "    </tr>\n",
       "    <tr>\n",
       "      <th>5</th>\n",
       "      <td>130</td>\n",
       "      <td>0.114583</td>\n",
       "      <td>entertainment</td>\n",
       "    </tr>\n",
       "    <tr>\n",
       "      <th>6</th>\n",
       "      <td>412</td>\n",
       "      <td>0.072398</td>\n",
       "      <td>entertainment</td>\n",
       "    </tr>\n",
       "    <tr>\n",
       "      <th>7</th>\n",
       "      <td>317</td>\n",
       "      <td>0.064516</td>\n",
       "      <td>entertainment</td>\n",
       "    </tr>\n",
       "    <tr>\n",
       "      <th>8</th>\n",
       "      <td>503</td>\n",
       "      <td>0.062147</td>\n",
       "      <td>entertainment</td>\n",
       "    </tr>\n",
       "    <tr>\n",
       "      <th>9</th>\n",
       "      <td>35</td>\n",
       "      <td>0.062112</td>\n",
       "      <td>entertainment</td>\n",
       "    </tr>\n",
       "    <tr>\n",
       "      <th>10</th>\n",
       "      <td>321</td>\n",
       "      <td>0.060302</td>\n",
       "      <td>entertainment</td>\n",
       "    </tr>\n",
       "  </tbody>\n",
       "</table>\n",
       "</div>"
      ],
      "text/plain": [
       "   news_id Jaccard_sim    class_label\n",
       "1      531         1.0  entertainment\n",
       "2      145    0.197183  entertainment\n",
       "3       70    0.167785  entertainment\n",
       "4      314    0.165385  entertainment\n",
       "5      130    0.114583  entertainment\n",
       "6      412    0.072398  entertainment\n",
       "7      317    0.064516  entertainment\n",
       "8      503    0.062147  entertainment\n",
       "9       35    0.062112  entertainment\n",
       "10     321    0.060302  entertainment"
      ]
     },
     "execution_count": 48,
     "metadata": {},
     "output_type": "execute_result"
    }
   ],
   "source": [
    "# Generate the list of top-10 articles with highest Jaccard Similarity in descending order for each query q\n",
    "rank = similarity_table_truth_531.sort_values(by='Q 531', axis=1, ascending=False)\n",
    "top10_table_truth_531 = generate_top10_table_allDataset(rank)\n",
    "top10_table_truth_531"
   ]
  },
  {
   "cell_type": "markdown",
   "id": "4a83bfea-817f-4112-855d-fdf093f0e8e2",
   "metadata": {
    "tags": []
   },
   "source": [
    "#### (b.2) Query article 532"
   ]
  },
  {
   "cell_type": "code",
   "execution_count": 49,
   "id": "7bea3ce8-3111-4036-8c67-237580b5f9bf",
   "metadata": {},
   "outputs": [
    {
     "data": {
      "text/html": [
       "<div>\n",
       "<style scoped>\n",
       "    .dataframe tbody tr th:only-of-type {\n",
       "        vertical-align: middle;\n",
       "    }\n",
       "\n",
       "    .dataframe tbody tr th {\n",
       "        vertical-align: top;\n",
       "    }\n",
       "\n",
       "    .dataframe thead th {\n",
       "        text-align: right;\n",
       "    }\n",
       "</style>\n",
       "<table border=\"1\" class=\"dataframe\">\n",
       "  <thead>\n",
       "    <tr style=\"text-align: right;\">\n",
       "      <th></th>\n",
       "      <th>1</th>\n",
       "      <th>2</th>\n",
       "      <th>3</th>\n",
       "      <th>4</th>\n",
       "      <th>5</th>\n",
       "      <th>6</th>\n",
       "      <th>7</th>\n",
       "      <th>8</th>\n",
       "      <th>9</th>\n",
       "      <th>10</th>\n",
       "      <th>...</th>\n",
       "      <th>525</th>\n",
       "      <th>526</th>\n",
       "      <th>527</th>\n",
       "      <th>528</th>\n",
       "      <th>529</th>\n",
       "      <th>530</th>\n",
       "      <th>531</th>\n",
       "      <th>532</th>\n",
       "      <th>533</th>\n",
       "      <th>534</th>\n",
       "    </tr>\n",
       "  </thead>\n",
       "  <tbody>\n",
       "    <tr>\n",
       "      <th>Q 532</th>\n",
       "      <td>0.056738</td>\n",
       "      <td>0.028125</td>\n",
       "      <td>0.039877</td>\n",
       "      <td>0.05102</td>\n",
       "      <td>0.080827</td>\n",
       "      <td>0.029412</td>\n",
       "      <td>0.05698</td>\n",
       "      <td>0.035398</td>\n",
       "      <td>0.075051</td>\n",
       "      <td>0.034031</td>\n",
       "      <td>...</td>\n",
       "      <td>0.053476</td>\n",
       "      <td>0.058011</td>\n",
       "      <td>0.044843</td>\n",
       "      <td>0.056306</td>\n",
       "      <td>0.047836</td>\n",
       "      <td>0.028213</td>\n",
       "      <td>0.036545</td>\n",
       "      <td>1.0</td>\n",
       "      <td>0.069212</td>\n",
       "      <td>0.027027</td>\n",
       "    </tr>\n",
       "  </tbody>\n",
       "</table>\n",
       "<p>1 rows × 534 columns</p>\n",
       "</div>"
      ],
      "text/plain": [
       "              1         2         3        4         5         6        7  \\\n",
       "Q 532  0.056738  0.028125  0.039877  0.05102  0.080827  0.029412  0.05698   \n",
       "\n",
       "              8         9        10  ...       525       526       527  \\\n",
       "Q 532  0.035398  0.075051  0.034031  ...  0.053476  0.058011  0.044843   \n",
       "\n",
       "            528       529       530       531  532       533       534  \n",
       "Q 532  0.056306  0.047836  0.028213  0.036545  1.0  0.069212  0.027027  \n",
       "\n",
       "[1 rows x 534 columns]"
      ]
     },
     "execution_count": 49,
     "metadata": {},
     "output_type": "execute_result"
    }
   ],
   "source": [
    "# Compute Jaccard Similarity for query q and all articles in the dataset\n",
    "similarity = jaccard_similarity_boolean_matrix(532, boolean_matrix_query_T, boolean_matrix_all_T)\n",
    "# Generate similarity table\n",
    "similarity_table_truth_532 = generate_similarity_table_allDataset(532, similarity)\n",
    "similarity_table_truth_532"
   ]
  },
  {
   "cell_type": "code",
   "execution_count": 50,
   "id": "587fbd3e-7863-435c-9d76-fb23b27aae37",
   "metadata": {},
   "outputs": [
    {
     "data": {
      "text/html": [
       "<div>\n",
       "<style scoped>\n",
       "    .dataframe tbody tr th:only-of-type {\n",
       "        vertical-align: middle;\n",
       "    }\n",
       "\n",
       "    .dataframe tbody tr th {\n",
       "        vertical-align: top;\n",
       "    }\n",
       "\n",
       "    .dataframe thead th {\n",
       "        text-align: right;\n",
       "    }\n",
       "</style>\n",
       "<table border=\"1\" class=\"dataframe\">\n",
       "  <thead>\n",
       "    <tr style=\"text-align: right;\">\n",
       "      <th></th>\n",
       "      <th>news_id</th>\n",
       "      <th>Jaccard_sim</th>\n",
       "      <th>class_label</th>\n",
       "    </tr>\n",
       "  </thead>\n",
       "  <tbody>\n",
       "    <tr>\n",
       "      <th>1</th>\n",
       "      <td>532</td>\n",
       "      <td>1.0</td>\n",
       "      <td>entertainment</td>\n",
       "    </tr>\n",
       "    <tr>\n",
       "      <th>2</th>\n",
       "      <td>419</td>\n",
       "      <td>0.094118</td>\n",
       "      <td>entertainment</td>\n",
       "    </tr>\n",
       "    <tr>\n",
       "      <th>3</th>\n",
       "      <td>42</td>\n",
       "      <td>0.094017</td>\n",
       "      <td>entertainment</td>\n",
       "    </tr>\n",
       "    <tr>\n",
       "      <th>4</th>\n",
       "      <td>520</td>\n",
       "      <td>0.092275</td>\n",
       "      <td>entertainment</td>\n",
       "    </tr>\n",
       "    <tr>\n",
       "      <th>5</th>\n",
       "      <td>524</td>\n",
       "      <td>0.09205</td>\n",
       "      <td>tech</td>\n",
       "    </tr>\n",
       "    <tr>\n",
       "      <th>6</th>\n",
       "      <td>197</td>\n",
       "      <td>0.091176</td>\n",
       "      <td>entertainment</td>\n",
       "    </tr>\n",
       "    <tr>\n",
       "      <th>7</th>\n",
       "      <td>251</td>\n",
       "      <td>0.091176</td>\n",
       "      <td>entertainment</td>\n",
       "    </tr>\n",
       "    <tr>\n",
       "      <th>8</th>\n",
       "      <td>501</td>\n",
       "      <td>0.090476</td>\n",
       "      <td>tech</td>\n",
       "    </tr>\n",
       "    <tr>\n",
       "      <th>9</th>\n",
       "      <td>221</td>\n",
       "      <td>0.090476</td>\n",
       "      <td>tech</td>\n",
       "    </tr>\n",
       "    <tr>\n",
       "      <th>10</th>\n",
       "      <td>125</td>\n",
       "      <td>0.089245</td>\n",
       "      <td>tech</td>\n",
       "    </tr>\n",
       "  </tbody>\n",
       "</table>\n",
       "</div>"
      ],
      "text/plain": [
       "   news_id Jaccard_sim    class_label\n",
       "1      532         1.0  entertainment\n",
       "2      419    0.094118  entertainment\n",
       "3       42    0.094017  entertainment\n",
       "4      520    0.092275  entertainment\n",
       "5      524     0.09205           tech\n",
       "6      197    0.091176  entertainment\n",
       "7      251    0.091176  entertainment\n",
       "8      501    0.090476           tech\n",
       "9      221    0.090476           tech\n",
       "10     125    0.089245           tech"
      ]
     },
     "execution_count": 50,
     "metadata": {},
     "output_type": "execute_result"
    }
   ],
   "source": [
    "# Generate the list of top-10 articles with highest Jaccard Similarity in descending order for each query q\n",
    "rank = similarity_table_truth_532.sort_values(by='Q 532', axis=1, ascending=False)\n",
    "top10_table_truth_532 = generate_top10_table_allDataset(rank)\n",
    "top10_table_truth_532"
   ]
  },
  {
   "cell_type": "markdown",
   "id": "49147639-927d-47fb-ace5-df711e70998e",
   "metadata": {
    "tags": []
   },
   "source": [
    "#### (b.3) Query article 533"
   ]
  },
  {
   "cell_type": "code",
   "execution_count": 51,
   "id": "1adbb0da-962d-4c3d-b5a6-f6bfc3ac192a",
   "metadata": {},
   "outputs": [
    {
     "data": {
      "text/html": [
       "<div>\n",
       "<style scoped>\n",
       "    .dataframe tbody tr th:only-of-type {\n",
       "        vertical-align: middle;\n",
       "    }\n",
       "\n",
       "    .dataframe tbody tr th {\n",
       "        vertical-align: top;\n",
       "    }\n",
       "\n",
       "    .dataframe thead th {\n",
       "        text-align: right;\n",
       "    }\n",
       "</style>\n",
       "<table border=\"1\" class=\"dataframe\">\n",
       "  <thead>\n",
       "    <tr style=\"text-align: right;\">\n",
       "      <th></th>\n",
       "      <th>1</th>\n",
       "      <th>2</th>\n",
       "      <th>3</th>\n",
       "      <th>4</th>\n",
       "      <th>5</th>\n",
       "      <th>6</th>\n",
       "      <th>7</th>\n",
       "      <th>8</th>\n",
       "      <th>9</th>\n",
       "      <th>10</th>\n",
       "      <th>...</th>\n",
       "      <th>525</th>\n",
       "      <th>526</th>\n",
       "      <th>527</th>\n",
       "      <th>528</th>\n",
       "      <th>529</th>\n",
       "      <th>530</th>\n",
       "      <th>531</th>\n",
       "      <th>532</th>\n",
       "      <th>533</th>\n",
       "      <th>534</th>\n",
       "    </tr>\n",
       "  </thead>\n",
       "  <tbody>\n",
       "    <tr>\n",
       "      <th>Q 533</th>\n",
       "      <td>0.109181</td>\n",
       "      <td>0.037855</td>\n",
       "      <td>0.039877</td>\n",
       "      <td>0.054608</td>\n",
       "      <td>0.078799</td>\n",
       "      <td>0.044776</td>\n",
       "      <td>0.048023</td>\n",
       "      <td>0.070122</td>\n",
       "      <td>0.111111</td>\n",
       "      <td>0.042216</td>\n",
       "      <td>...</td>\n",
       "      <td>0.047872</td>\n",
       "      <td>0.055096</td>\n",
       "      <td>0.04955</td>\n",
       "      <td>0.056306</td>\n",
       "      <td>0.067285</td>\n",
       "      <td>0.0347</td>\n",
       "      <td>0.022951</td>\n",
       "      <td>0.069212</td>\n",
       "      <td>1.0</td>\n",
       "      <td>0.033233</td>\n",
       "    </tr>\n",
       "  </tbody>\n",
       "</table>\n",
       "<p>1 rows × 534 columns</p>\n",
       "</div>"
      ],
      "text/plain": [
       "              1         2         3         4         5         6         7  \\\n",
       "Q 533  0.109181  0.037855  0.039877  0.054608  0.078799  0.044776  0.048023   \n",
       "\n",
       "              8         9        10  ...       525       526      527  \\\n",
       "Q 533  0.070122  0.111111  0.042216  ...  0.047872  0.055096  0.04955   \n",
       "\n",
       "            528       529     530       531       532  533       534  \n",
       "Q 533  0.056306  0.067285  0.0347  0.022951  0.069212  1.0  0.033233  \n",
       "\n",
       "[1 rows x 534 columns]"
      ]
     },
     "execution_count": 51,
     "metadata": {},
     "output_type": "execute_result"
    }
   ],
   "source": [
    "# Compute Jaccard Similarity for query q and all articles in the dataset\n",
    "similarity = jaccard_similarity_boolean_matrix(533, boolean_matrix_query_T, boolean_matrix_all_T)\n",
    "# Generate similarity table\n",
    "similarity_table_truth_533 = generate_similarity_table_allDataset(533, similarity)\n",
    "similarity_table_truth_533"
   ]
  },
  {
   "cell_type": "code",
   "execution_count": 52,
   "id": "2cd0c47f-ffdd-464f-9cf9-4e96ce807383",
   "metadata": {},
   "outputs": [
    {
     "data": {
      "text/html": [
       "<div>\n",
       "<style scoped>\n",
       "    .dataframe tbody tr th:only-of-type {\n",
       "        vertical-align: middle;\n",
       "    }\n",
       "\n",
       "    .dataframe tbody tr th {\n",
       "        vertical-align: top;\n",
       "    }\n",
       "\n",
       "    .dataframe thead th {\n",
       "        text-align: right;\n",
       "    }\n",
       "</style>\n",
       "<table border=\"1\" class=\"dataframe\">\n",
       "  <thead>\n",
       "    <tr style=\"text-align: right;\">\n",
       "      <th></th>\n",
       "      <th>news_id</th>\n",
       "      <th>Jaccard_sim</th>\n",
       "      <th>class_label</th>\n",
       "    </tr>\n",
       "  </thead>\n",
       "  <tbody>\n",
       "    <tr>\n",
       "      <th>1</th>\n",
       "      <td>533</td>\n",
       "      <td>1.0</td>\n",
       "      <td>tech</td>\n",
       "    </tr>\n",
       "    <tr>\n",
       "      <th>2</th>\n",
       "      <td>64</td>\n",
       "      <td>0.166667</td>\n",
       "      <td>tech</td>\n",
       "    </tr>\n",
       "    <tr>\n",
       "      <th>3</th>\n",
       "      <td>306</td>\n",
       "      <td>0.166227</td>\n",
       "      <td>tech</td>\n",
       "    </tr>\n",
       "    <tr>\n",
       "      <th>4</th>\n",
       "      <td>117</td>\n",
       "      <td>0.139151</td>\n",
       "      <td>tech</td>\n",
       "    </tr>\n",
       "    <tr>\n",
       "      <th>5</th>\n",
       "      <td>484</td>\n",
       "      <td>0.139151</td>\n",
       "      <td>tech</td>\n",
       "    </tr>\n",
       "    <tr>\n",
       "      <th>6</th>\n",
       "      <td>408</td>\n",
       "      <td>0.137209</td>\n",
       "      <td>tech</td>\n",
       "    </tr>\n",
       "    <tr>\n",
       "      <th>7</th>\n",
       "      <td>275</td>\n",
       "      <td>0.137209</td>\n",
       "      <td>tech</td>\n",
       "    </tr>\n",
       "    <tr>\n",
       "      <th>8</th>\n",
       "      <td>495</td>\n",
       "      <td>0.135632</td>\n",
       "      <td>tech</td>\n",
       "    </tr>\n",
       "    <tr>\n",
       "      <th>9</th>\n",
       "      <td>132</td>\n",
       "      <td>0.127098</td>\n",
       "      <td>tech</td>\n",
       "    </tr>\n",
       "    <tr>\n",
       "      <th>10</th>\n",
       "      <td>464</td>\n",
       "      <td>0.126543</td>\n",
       "      <td>tech</td>\n",
       "    </tr>\n",
       "  </tbody>\n",
       "</table>\n",
       "</div>"
      ],
      "text/plain": [
       "   news_id Jaccard_sim class_label\n",
       "1      533         1.0        tech\n",
       "2       64    0.166667        tech\n",
       "3      306    0.166227        tech\n",
       "4      117    0.139151        tech\n",
       "5      484    0.139151        tech\n",
       "6      408    0.137209        tech\n",
       "7      275    0.137209        tech\n",
       "8      495    0.135632        tech\n",
       "9      132    0.127098        tech\n",
       "10     464    0.126543        tech"
      ]
     },
     "execution_count": 52,
     "metadata": {},
     "output_type": "execute_result"
    }
   ],
   "source": [
    "# Generate the list of top-10 articles with highest Jaccard Similarity in descending order for each query q\n",
    "rank = similarity_table_truth_533.sort_values(by='Q 533', axis=1, ascending=False)\n",
    "top10_table_truth_533 = generate_top10_table_allDataset(rank)\n",
    "top10_table_truth_533"
   ]
  },
  {
   "cell_type": "markdown",
   "id": "ef1b9b4c-afa5-423e-8b36-ef0929050170",
   "metadata": {
    "tags": []
   },
   "source": [
    "#### (b.4) Query article 534"
   ]
  },
  {
   "cell_type": "code",
   "execution_count": 53,
   "id": "6128f6c7-8777-443f-9c6e-2596d8f97ea9",
   "metadata": {},
   "outputs": [
    {
     "data": {
      "text/html": [
       "<div>\n",
       "<style scoped>\n",
       "    .dataframe tbody tr th:only-of-type {\n",
       "        vertical-align: middle;\n",
       "    }\n",
       "\n",
       "    .dataframe tbody tr th {\n",
       "        vertical-align: top;\n",
       "    }\n",
       "\n",
       "    .dataframe thead th {\n",
       "        text-align: right;\n",
       "    }\n",
       "</style>\n",
       "<table border=\"1\" class=\"dataframe\">\n",
       "  <thead>\n",
       "    <tr style=\"text-align: right;\">\n",
       "      <th></th>\n",
       "      <th>1</th>\n",
       "      <th>2</th>\n",
       "      <th>3</th>\n",
       "      <th>4</th>\n",
       "      <th>5</th>\n",
       "      <th>6</th>\n",
       "      <th>7</th>\n",
       "      <th>8</th>\n",
       "      <th>9</th>\n",
       "      <th>10</th>\n",
       "      <th>...</th>\n",
       "      <th>525</th>\n",
       "      <th>526</th>\n",
       "      <th>527</th>\n",
       "      <th>528</th>\n",
       "      <th>529</th>\n",
       "      <th>530</th>\n",
       "      <th>531</th>\n",
       "      <th>532</th>\n",
       "      <th>533</th>\n",
       "      <th>534</th>\n",
       "    </tr>\n",
       "  </thead>\n",
       "  <tbody>\n",
       "    <tr>\n",
       "      <th>Q 534</th>\n",
       "      <td>0.055728</td>\n",
       "      <td>0.004505</td>\n",
       "      <td>0.026432</td>\n",
       "      <td>0.025253</td>\n",
       "      <td>0.030769</td>\n",
       "      <td>0.033898</td>\n",
       "      <td>0.015326</td>\n",
       "      <td>0.029412</td>\n",
       "      <td>0.041769</td>\n",
       "      <td>0.043321</td>\n",
       "      <td>...</td>\n",
       "      <td>0.107692</td>\n",
       "      <td>0.053232</td>\n",
       "      <td>0.01983</td>\n",
       "      <td>0.049133</td>\n",
       "      <td>0.056716</td>\n",
       "      <td>0.023041</td>\n",
       "      <td>0.009804</td>\n",
       "      <td>0.027027</td>\n",
       "      <td>0.033233</td>\n",
       "      <td>1.0</td>\n",
       "    </tr>\n",
       "  </tbody>\n",
       "</table>\n",
       "<p>1 rows × 534 columns</p>\n",
       "</div>"
      ],
      "text/plain": [
       "              1         2         3         4         5         6         7  \\\n",
       "Q 534  0.055728  0.004505  0.026432  0.025253  0.030769  0.033898  0.015326   \n",
       "\n",
       "              8         9        10  ...       525       526      527  \\\n",
       "Q 534  0.029412  0.041769  0.043321  ...  0.107692  0.053232  0.01983   \n",
       "\n",
       "            528       529       530       531       532       533  534  \n",
       "Q 534  0.049133  0.056716  0.023041  0.009804  0.027027  0.033233  1.0  \n",
       "\n",
       "[1 rows x 534 columns]"
      ]
     },
     "execution_count": 53,
     "metadata": {},
     "output_type": "execute_result"
    }
   ],
   "source": [
    "# Compute Jaccard Similarity for query q and all articles in the dataset\n",
    "similarity = jaccard_similarity_boolean_matrix(534, boolean_matrix_query_T, boolean_matrix_all_T)\n",
    "# Generate similarity table\n",
    "similarity_table_truth_534 = generate_similarity_table_allDataset(534, similarity)\n",
    "similarity_table_truth_534"
   ]
  },
  {
   "cell_type": "code",
   "execution_count": 54,
   "id": "5e95ac09-2300-4248-92e9-0c2767e69d62",
   "metadata": {},
   "outputs": [
    {
     "data": {
      "text/html": [
       "<div>\n",
       "<style scoped>\n",
       "    .dataframe tbody tr th:only-of-type {\n",
       "        vertical-align: middle;\n",
       "    }\n",
       "\n",
       "    .dataframe tbody tr th {\n",
       "        vertical-align: top;\n",
       "    }\n",
       "\n",
       "    .dataframe thead th {\n",
       "        text-align: right;\n",
       "    }\n",
       "</style>\n",
       "<table border=\"1\" class=\"dataframe\">\n",
       "  <thead>\n",
       "    <tr style=\"text-align: right;\">\n",
       "      <th></th>\n",
       "      <th>news_id</th>\n",
       "      <th>Jaccard_sim</th>\n",
       "      <th>class_label</th>\n",
       "    </tr>\n",
       "  </thead>\n",
       "  <tbody>\n",
       "    <tr>\n",
       "      <th>1</th>\n",
       "      <td>534</td>\n",
       "      <td>1.0</td>\n",
       "      <td>tech</td>\n",
       "    </tr>\n",
       "    <tr>\n",
       "      <th>2</th>\n",
       "      <td>211</td>\n",
       "      <td>0.122727</td>\n",
       "      <td>tech</td>\n",
       "    </tr>\n",
       "    <tr>\n",
       "      <th>3</th>\n",
       "      <td>324</td>\n",
       "      <td>0.110727</td>\n",
       "      <td>tech</td>\n",
       "    </tr>\n",
       "    <tr>\n",
       "      <th>4</th>\n",
       "      <td>330</td>\n",
       "      <td>0.110619</td>\n",
       "      <td>tech</td>\n",
       "    </tr>\n",
       "    <tr>\n",
       "      <th>5</th>\n",
       "      <td>371</td>\n",
       "      <td>0.110599</td>\n",
       "      <td>tech</td>\n",
       "    </tr>\n",
       "    <tr>\n",
       "      <th>6</th>\n",
       "      <td>183</td>\n",
       "      <td>0.110599</td>\n",
       "      <td>tech</td>\n",
       "    </tr>\n",
       "    <tr>\n",
       "      <th>7</th>\n",
       "      <td>525</td>\n",
       "      <td>0.107692</td>\n",
       "      <td>tech</td>\n",
       "    </tr>\n",
       "    <tr>\n",
       "      <th>8</th>\n",
       "      <td>83</td>\n",
       "      <td>0.091205</td>\n",
       "      <td>tech</td>\n",
       "    </tr>\n",
       "    <tr>\n",
       "      <th>9</th>\n",
       "      <td>440</td>\n",
       "      <td>0.090909</td>\n",
       "      <td>tech</td>\n",
       "    </tr>\n",
       "    <tr>\n",
       "      <th>10</th>\n",
       "      <td>255</td>\n",
       "      <td>0.088496</td>\n",
       "      <td>tech</td>\n",
       "    </tr>\n",
       "  </tbody>\n",
       "</table>\n",
       "</div>"
      ],
      "text/plain": [
       "   news_id Jaccard_sim class_label\n",
       "1      534         1.0        tech\n",
       "2      211    0.122727        tech\n",
       "3      324    0.110727        tech\n",
       "4      330    0.110619        tech\n",
       "5      371    0.110599        tech\n",
       "6      183    0.110599        tech\n",
       "7      525    0.107692        tech\n",
       "8       83    0.091205        tech\n",
       "9      440    0.090909        tech\n",
       "10     255    0.088496        tech"
      ]
     },
     "execution_count": 54,
     "metadata": {},
     "output_type": "execute_result"
    }
   ],
   "source": [
    "# Generate the list of top-10 articles with highest Jaccard Similarity in descending order for each query q\n",
    "rank = similarity_table_truth_534.sort_values(by='Q 534', axis=1, ascending=False)\n",
    "top10_table_truth_534 = generate_top10_table_allDataset(rank)\n",
    "top10_table_truth_534"
   ]
  },
  {
   "cell_type": "markdown",
   "id": "6276c3d2-02a7-4a9f-8756-4a9920fe6639",
   "metadata": {
    "tags": []
   },
   "source": [
    "### (c) Compare the query time in Part II(a) and Part II(b) per query in milliseconds"
   ]
  },
  {
   "cell_type": "markdown",
   "id": "b53d72b4-2a02-4c6b-90da-a1817893dc61",
   "metadata": {
    "tags": []
   },
   "source": [
    "#### (c.1) Query time in Part II(a)"
   ]
  },
  {
   "cell_type": "code",
   "execution_count": 55,
   "id": "526f1c69-4604-4082-9083-cc9564ac41a0",
   "metadata": {},
   "outputs": [],
   "source": [
    "# Based on \"Query article 531\" and remove non-essential operations such as \"print\"\n",
    "# Set start time\n",
    "start = time.time()\n",
    "same_bucket_list = find_same_bucket(531, g_hash_result_k2)\n",
    "sorted_same_bucket_list = sorted(list(set([element for sub_list in same_bucket_list for element in sub_list])))\n",
    "similarity = jaccard_similarity_signature_matrix(531, signature_list_query, signature_list_all, sorted_same_bucket_list)\n",
    "similarity_table = generate_similarity_table_bucketList(531, sorted_same_bucket_list, similarity)\n",
    "rank = similarity_table.sort_values(by='Q 531', axis=1, ascending=False)\n",
    "top10_table_k2_531 = generate_top10_table_bucketList(rank)\n",
    "# Set end time\n",
    "end = time.time()\n",
    "# Calculate runtime\n",
    "runtime = (end - start) * 1000\n",
    "runtime_k2_a531 = round(runtime, 2)"
   ]
  },
  {
   "cell_type": "code",
   "execution_count": 56,
   "id": "68d71845-4b67-46c8-b1a0-f639c8ea6b1c",
   "metadata": {},
   "outputs": [],
   "source": [
    "# Based on \"Query article 532\" and remove non-essential operations such as \"print\"\n",
    "# Set start time\n",
    "start = time.time()\n",
    "same_bucket_list = find_same_bucket(532, g_hash_result_k2)\n",
    "sorted_same_bucket_list = sorted(list(set([element for sub_list in same_bucket_list for element in sub_list])))\n",
    "similarity = jaccard_similarity_signature_matrix(532, signature_list_query, signature_list_all, sorted_same_bucket_list)\n",
    "similarity_table = generate_similarity_table_bucketList(532, sorted_same_bucket_list, similarity)\n",
    "rank = similarity_table.sort_values(by='Q 532', axis=1, ascending=False)\n",
    "top10_table_k2_532 = generate_top10_table_bucketList(rank)\n",
    "# Set end time\n",
    "end = time.time()\n",
    "# Calculate runtime\n",
    "runtime = (end - start) * 1000\n",
    "runtime_k2_a532 = round(runtime, 2)"
   ]
  },
  {
   "cell_type": "code",
   "execution_count": 57,
   "id": "4558ac58-ce3f-44e3-a0a0-58989da5ef93",
   "metadata": {},
   "outputs": [],
   "source": [
    "# Based on \"Query article 533\" and remove non-essential operations such as \"print\"\n",
    "# Set start time\n",
    "start = time.time()\n",
    "same_bucket_list = find_same_bucket(533, g_hash_result_k2)\n",
    "sorted_same_bucket_list = sorted(list(set([element for sub_list in same_bucket_list for element in sub_list])))\n",
    "similarity = jaccard_similarity_signature_matrix(533, signature_list_query, signature_list_all, sorted_same_bucket_list)\n",
    "similarity_table = generate_similarity_table_bucketList(533, sorted_same_bucket_list, similarity)\n",
    "rank = similarity_table.sort_values(by='Q 533', axis=1, ascending=False)\n",
    "top10_table_k2_533 = generate_top10_table_bucketList(rank)\n",
    "# Set end time\n",
    "end = time.time()\n",
    "# Calculate runtime\n",
    "runtime = (end - start) * 1000\n",
    "runtime_k2_a533 = round(runtime, 2)"
   ]
  },
  {
   "cell_type": "code",
   "execution_count": 58,
   "id": "503a1535-25c8-496c-a146-5afa2b27d245",
   "metadata": {},
   "outputs": [],
   "source": [
    "# Based on \"Query article 534\" and remove non-essential operations such as \"print\"\n",
    "# Set start time\n",
    "start = time.time()\n",
    "same_bucket_list = find_same_bucket(534, g_hash_result_k2)\n",
    "sorted_same_bucket_list = sorted(list(set([element for sub_list in same_bucket_list for element in sub_list])))\n",
    "similarity = jaccard_similarity_signature_matrix(534, signature_list_query, signature_list_all, sorted_same_bucket_list)\n",
    "similarity_table = generate_similarity_table_bucketList(534, sorted_same_bucket_list, similarity)\n",
    "rank = similarity_table.sort_values(by='Q 534', axis=1, ascending=False)\n",
    "top10_table_k2_534 = generate_top10_table_bucketList(rank)\n",
    "# Set end time\n",
    "end = time.time()\n",
    "# Calculate runtime\n",
    "runtime = (end - start) * 1000\n",
    "runtime_k2_a534 = round(runtime, 2)"
   ]
  },
  {
   "cell_type": "markdown",
   "id": "bd8e0692-5e49-4539-a02d-621d15fc0029",
   "metadata": {
    "tags": []
   },
   "source": [
    "#### (c.2) Query time in Part II(b)"
   ]
  },
  {
   "cell_type": "code",
   "execution_count": 59,
   "id": "e037f1b3-460f-4cb7-ae62-7a0471e08d6b",
   "metadata": {},
   "outputs": [],
   "source": [
    "# Based on \"Query article 531\" and remove non-essential operations such as \"print\"\n",
    "# Set start time\n",
    "start = time.time()\n",
    "similarity = jaccard_similarity_boolean_matrix(531, boolean_matrix_query_T, boolean_matrix_all_T)\n",
    "similarity_table_truth_531 = generate_similarity_table_allDataset(531, similarity)\n",
    "rank = similarity_table_truth_531.sort_values(by='Q 531', axis=1, ascending=False)\n",
    "top10_table_truth_531 = generate_top10_table_allDataset(rank)\n",
    "# Set end time\n",
    "end = time.time()\n",
    "# Calculate runtime\n",
    "runtime = (end - start) * 1000\n",
    "runtime_b1 = round(runtime, 2)"
   ]
  },
  {
   "cell_type": "code",
   "execution_count": 60,
   "id": "f231a329-c93e-4846-a805-44dfaca518c0",
   "metadata": {},
   "outputs": [],
   "source": [
    "# Based on \"Query article 532\" and remove non-essential operations such as \"print\"\n",
    "# Set start time\n",
    "start = time.time()\n",
    "similarity = jaccard_similarity_boolean_matrix(532, boolean_matrix_query_T, boolean_matrix_all_T)\n",
    "similarity_table_truth_532 = generate_similarity_table_allDataset(532, similarity)\n",
    "rank = similarity_table_truth_532.sort_values(by='Q 532', axis=1, ascending=False)\n",
    "top10_table_truth_532 = generate_top10_table_allDataset(rank)\n",
    "# Set end time\n",
    "end = time.time()\n",
    "# Calculate runtime\n",
    "runtime = (end - start) * 1000\n",
    "runtime_b2 = round(runtime, 2)"
   ]
  },
  {
   "cell_type": "code",
   "execution_count": 61,
   "id": "237334eb-2abd-4589-a16a-9d8d7150782f",
   "metadata": {},
   "outputs": [],
   "source": [
    "# Based on \"Query article 533\" and remove non-essential operations such as \"print\"\n",
    "# Set start time\n",
    "start = time.time()\n",
    "similarity = jaccard_similarity_boolean_matrix(533, boolean_matrix_query_T, boolean_matrix_all_T)\n",
    "similarity_table_truth_533 = generate_similarity_table_allDataset(533, similarity)\n",
    "rank = similarity_table_truth_533.sort_values(by='Q 533', axis=1, ascending=False)\n",
    "top10_table_truth_533 = generate_top10_table_allDataset(rank)\n",
    "# Set end time\n",
    "end = time.time()\n",
    "# Calculate runtime\n",
    "runtime = (end - start) * 1000\n",
    "runtime_b3 = round(runtime, 2)"
   ]
  },
  {
   "cell_type": "code",
   "execution_count": 62,
   "id": "e72fa2ff-02d5-40c4-8dd1-7efe9e3269a5",
   "metadata": {},
   "outputs": [],
   "source": [
    "# Based on \"Query article 534\" and remove non-essential operations such as \"print\"\n",
    "# Set start time\n",
    "start = time.time()\n",
    "similarity = jaccard_similarity_boolean_matrix(534, boolean_matrix_query_T, boolean_matrix_all_T)\n",
    "similarity_table_truth_534 = generate_similarity_table_allDataset(534, similarity)\n",
    "rank = similarity_table_truth_534.sort_values(by='Q 534', axis=1, ascending=False)\n",
    "top10_table_truth_534 = generate_top10_table_allDataset(rank)\n",
    "# Set end time\n",
    "end = time.time()\n",
    "# Calculate runtime\n",
    "runtime = (end - start) * 1000\n",
    "runtime_b4 = round(runtime, 2)"
   ]
  },
  {
   "cell_type": "markdown",
   "id": "cdc62823-033d-47b5-8b7e-3839832364ca",
   "metadata": {
    "tags": []
   },
   "source": [
    "#### (c.3) Report query time and comment on their differences"
   ]
  },
  {
   "cell_type": "code",
   "execution_count": 63,
   "id": "d03c6fdc-58e5-46ce-b9f4-e384f05a83fa",
   "metadata": {},
   "outputs": [
    {
     "name": "stdout",
     "output_type": "stream",
     "text": [
      "When k=2, query time for query 531 in Part II(a): 3.99 ms\n",
      "When k=2, query time for query 532 in Part II(a): 4.99 ms\n",
      "When k=2, query time for query 533 in Part II(a): 3.92 ms\n",
      "When k=2, query time for query 534 in Part II(a): 4.99 ms\n"
     ]
    }
   ],
   "source": [
    "print('When k=2, query time for query 531 in Part II(a):', runtime_k2_a531, 'ms')\n",
    "print('When k=2, query time for query 532 in Part II(a):', runtime_k2_a532, 'ms')\n",
    "print('When k=2, query time for query 533 in Part II(a):', runtime_k2_a533, 'ms')\n",
    "print('When k=2, query time for query 534 in Part II(a):', runtime_k2_a534, 'ms')"
   ]
  },
  {
   "cell_type": "code",
   "execution_count": 64,
   "id": "524c7e54-4c5b-4828-8073-36859c7b5839",
   "metadata": {},
   "outputs": [
    {
     "name": "stdout",
     "output_type": "stream",
     "text": [
      "Query time for query article 531 in Part II(b): 2217.71 ms\n",
      "Query time for query article 532 in Part II(b): 2034.33 ms\n",
      "Query time for query article 533 in Part II(b): 1986.65 ms\n",
      "Query time for query article 534 in Part II(b): 2013.94 ms\n"
     ]
    }
   ],
   "source": [
    "print('Query time for query article 531 in Part II(b):', runtime_b1, 'ms')\n",
    "print('Query time for query article 532 in Part II(b):', runtime_b2, 'ms')\n",
    "print('Query time for query article 533 in Part II(b):', runtime_b3, 'ms')\n",
    "print('Query time for query article 534 in Part II(b):', runtime_b4, 'ms')"
   ]
  },
  {
   "cell_type": "markdown",
   "id": "6137020c-921b-4a82-90ef-687f80c1ce3f",
   "metadata": {},
   "source": [
    "From the above results, it can be observed that queries based on the Boolean Matrix (Bit Vector) are significantly slower than those based on Signature Matrix.\n",
    "MinHash reduces the data dimension by the hash signature approach and constructs a Hash Table (set m buckets) so that similar results are put in the same bucket.\n",
    "This greatly improves query efficiency, especially when dealing with massive data, which can significantly reduce query time."
   ]
  },
  {
   "cell_type": "markdown",
   "id": "284b4ec6-0aa5-44f4-8808-4a1dc05e0bef",
   "metadata": {
    "tags": []
   },
   "source": [
    "## Part III: Search Quality Evaluation"
   ]
  },
  {
   "cell_type": "markdown",
   "id": "030d957c-7717-4925-b2dc-cfc8fcdf34ad",
   "metadata": {
    "tags": []
   },
   "source": [
    "### (a) Investigate the impact of the hash size (k)"
   ]
  },
  {
   "cell_type": "markdown",
   "id": "6fbc5d6d-bc3c-4223-821b-5ab03170ec43",
   "metadata": {
    "tags": []
   },
   "source": [
    "#### (a.1) Query with hash size k = 4"
   ]
  },
  {
   "cell_type": "markdown",
   "id": "f2012758-6f7d-4901-a3e5-9e95c7d6d4d3",
   "metadata": {
    "tags": []
   },
   "source": [
    "##### (a.1.1) Construct a family of MinHash functions and generate LSH hash tables"
   ]
  },
  {
   "cell_type": "code",
   "execution_count": 65,
   "id": "9dc88ed2-00fc-4621-9b13-95cdadf8e6c4",
   "metadata": {},
   "outputs": [],
   "source": [
    "# Create a list to store all parameters\n",
    "PL_k4 = []\n",
    "# Randomly generate the parameters of the hash function\n",
    "for l in range(10):\n",
    "    parameter = []\n",
    "    for k in range(4):\n",
    "        # Pick a large prime number p ≥ n\n",
    "        p = random.choice(prime_List)\n",
    "        # Pick a random pair of integers 0 < a < p, 0 ≤ b < p\n",
    "        a = random.randint(1, p)\n",
    "        b = random.randint(0, p)\n",
    "        parameter.append([a, b, p])\n",
    "    PL_k4.append(parameter)"
   ]
  },
  {
   "cell_type": "code",
   "execution_count": 66,
   "id": "244deb11-f6d9-45b9-9ac5-0476106efd86",
   "metadata": {},
   "outputs": [
    {
     "name": "stdout",
     "output_type": "stream",
     "text": [
      "band 1\n",
      "Hash function 1: ((9213 * x + 8028) % 16001) % 14927\n",
      "Hash function 2: ((4655 * x + 14228) % 20011) % 14927\n",
      "Hash function 3: ((5484 * x + 14824) % 21001) % 14927\n",
      "Hash function 4: ((1295 * x + 16456) % 23003) % 14927\n",
      "\n",
      "band 2\n",
      "Hash function 1: ((17353 * x + 3490) % 19001) % 14927\n",
      "Hash function 2: ((14817 * x + 1596) % 19001) % 14927\n",
      "Hash function 3: ((16062 * x + 9106) % 17011) % 14927\n",
      "Hash function 4: ((7380 * x + 11552) % 24001) % 14927\n",
      "\n",
      "band 3\n",
      "Hash function 1: ((9223 * x + 8011) % 15013) % 14927\n",
      "Hash function 2: ((263 * x + 12791) % 23003) % 14927\n",
      "Hash function 3: ((14835 * x + 16418) % 21001) % 14927\n",
      "Hash function 4: ((4427 * x + 11446) % 20011) % 14927\n",
      "\n",
      "band 4\n",
      "Hash function 1: ((12941 * x + 3540) % 15013) % 14927\n",
      "Hash function 2: ((9240 * x + 11598) % 22003) % 14927\n",
      "Hash function 3: ((257 * x + 17639) % 18013) % 14927\n",
      "Hash function 4: ((16147 * x + 1303) % 20011) % 14927\n",
      "\n",
      "band 5\n",
      "Hash function 1: ((9165 * x + 8855) % 20011) % 14927\n",
      "Hash function 2: ((18648 * x + 3485) % 21001) % 14927\n",
      "Hash function 3: ((13511 * x + 1335) % 20011) % 14927\n",
      "Hash function 4: ((12850 * x + 8710) % 21001) % 14927\n",
      "\n",
      "band 6\n",
      "Hash function 1: ((10569 * x + 5862) % 21001) % 14927\n",
      "Hash function 2: ((11081 * x + 4008) % 15013) % 14927\n",
      "Hash function 3: ((14319 * x + 12618) % 15013) % 14927\n",
      "Hash function 4: ((18074 * x + 18717) % 24001) % 14927\n",
      "\n",
      "band 7\n",
      "Hash function 1: ((9608 * x + 16713) % 21001) % 14927\n",
      "Hash function 2: ((10503 * x + 5547) % 21001) % 14927\n",
      "Hash function 3: ((11258 * x + 7323) % 24001) % 14927\n",
      "Hash function 4: ((3569 * x + 17772) % 24001) % 14927\n",
      "\n",
      "band 8\n",
      "Hash function 1: ((6085 * x + 10507) % 19001) % 14927\n",
      "Hash function 2: ((6336 * x + 13057) % 15013) % 14927\n",
      "Hash function 3: ((7060 * x + 4372) % 24001) % 14927\n",
      "Hash function 4: ((15361 * x + 5970) % 19001) % 14927\n",
      "\n",
      "band 9\n",
      "Hash function 1: ((8612 * x + 13273) % 20011) % 14927\n",
      "Hash function 2: ((1804 * x + 13862) % 17011) % 14927\n",
      "Hash function 3: ((5203 * x + 1655) % 21001) % 14927\n",
      "Hash function 4: ((19181 * x + 9151) % 21001) % 14927\n",
      "\n",
      "band 10\n",
      "Hash function 1: ((20292 * x + 3915) % 21001) % 14927\n",
      "Hash function 2: ((11440 * x + 2409) % 16001) % 14927\n",
      "Hash function 3: ((22283 * x + 12547) % 24001) % 14927\n",
      "Hash function 4: ((17924 * x + 8630) % 24001) % 14927\n",
      "\n"
     ]
    }
   ],
   "source": [
    "# Generate a family of MinHash functions\n",
    "for l in range(10):\n",
    "    print(\"band\", l+1)\n",
    "    print(\"Hash function 1: ((\", PL_k4[l][0][0], \" * x + \", PL_k4[l][0][1], \") % \", PL_k4[l][0][2], \") % \", 14927, sep=\"\")\n",
    "    print(\"Hash function 2: ((\", PL_k4[l][1][0], \" * x + \", PL_k4[l][1][1], \") % \", PL_k4[l][1][2], \") % \", 14927, sep=\"\")\n",
    "    print(\"Hash function 3: ((\", PL_k4[l][2][0], \" * x + \", PL_k4[l][2][1], \") % \", PL_k4[l][2][2], \") % \", 14927, sep=\"\")\n",
    "    print(\"Hash function 4: ((\", PL_k4[l][3][0], \" * x + \", PL_k4[l][3][1], \") % \", PL_k4[l][3][2], \") % \", 14927, sep=\"\")\n",
    "    print()"
   ]
  },
  {
   "cell_type": "code",
   "execution_count": 67,
   "id": "8b0f146a-2725-43e0-9af5-448740d1a26a",
   "metadata": {},
   "outputs": [],
   "source": [
    "# Create hash function h = ((ax + b) mod p) mod n\n",
    "def h1(x):\n",
    "    return ((PL_k4[l][0][0] * x + PL_k4[l][0][1]) % PL_k4[l][0][2]) % 14927\n",
    "def h2(x):\n",
    "    return ((PL_k4[l][1][0] * x + PL_k4[l][1][1]) % PL_k4[l][1][2]) % 14927\n",
    "def h3(x):\n",
    "    return ((PL_k4[l][2][0] * x + PL_k4[l][2][1]) % PL_k4[l][2][2]) % 14927\n",
    "def h4(x):\n",
    "    return ((PL_k4[l][3][0] * x + PL_k4[l][3][1]) % PL_k4[l][3][2]) % 14927"
   ]
  },
  {
   "cell_type": "code",
   "execution_count": 68,
   "id": "920dad3b-91fb-4782-bd3b-719dac59b904",
   "metadata": {},
   "outputs": [],
   "source": [
    "# Generate signature matrix\n",
    "signature_matrix_all_k4 = []\n",
    "for l in range(10):\n",
    "    boolean_matrix = boolean_matrix_all\n",
    "    signature_matrix_all_k4.append(minhash(boolean_matrix, [h1, h2, h3, h4]))\n",
    "    \n",
    "signature_matrix_query_k4 = []\n",
    "for l in range(10):\n",
    "    boolean_matrix = boolean_matrix_query\n",
    "    signature_matrix_query_k4.append(minhash(boolean_matrix, [h1, h2, h3, h4]))"
   ]
  },
  {
   "cell_type": "code",
   "execution_count": 69,
   "id": "37b4b58e-1086-4b93-be81-c76c04dcf5ec",
   "metadata": {},
   "outputs": [
    {
     "name": "stdout",
     "output_type": "stream",
     "text": [
      "Number of bands: 10; Number of rows per band: 4; Number of articles: 534\n",
      "Number of bands: 10; Number of rows per band: 4; Number of articles: 4\n"
     ]
    }
   ],
   "source": [
    "# Check the data dimension of signature matrix\n",
    "print(\"Number of bands: \", len(signature_matrix_all_k4),\n",
    "      \"; Number of rows per band: \", len(signature_matrix_all_k4[0]),\n",
    "      \"; Number of articles: \", len(signature_matrix_all_k4[0][0]),sep=\"\")\n",
    "\n",
    "print(\"Number of bands: \", len(signature_matrix_query_k4),\n",
    "      \"; Number of rows per band: \", len(signature_matrix_query_k4[0]),\n",
    "      \"; Number of articles: \", len(signature_matrix_query_k4[0][0]),sep=\"\")"
   ]
  },
  {
   "cell_type": "code",
   "execution_count": 70,
   "id": "3394c260-2fe3-4a30-a4ef-cf19b58f022b",
   "metadata": {},
   "outputs": [],
   "source": [
    "def g_hash_function_k4(signature_matrix):\n",
    "    g_hash_result = []\n",
    "    for i in range(len(signature_matrix)):\n",
    "        g_hash_value = []\n",
    "        m = 600\n",
    "        p = random.choice(prime_List)\n",
    "        c0 = random.randint(0, p)\n",
    "        c1 = random.randint(1, p)\n",
    "        c2 = random.randint(1, p)\n",
    "        c3 = random.randint(1, p)\n",
    "        c4 = random.randint(1, p)\n",
    "        for j in range(len(signature_matrix[0][0])):\n",
    "            signature_matrix_value=[]\n",
    "            for k in range(len(signature_matrix[0])):\n",
    "                signature_matrix_value.append(signature_matrix[i][k][j])\n",
    "            g_hash_value.append(((c0 + c1 * signature_matrix_value[0] + c2 * signature_matrix_value[1] + c3 * signature_matrix_value[2] + c4 * signature_matrix_value[3]) % p) % m)\n",
    "        g_hash_result.append(g_hash_value)\n",
    "    return g_hash_result"
   ]
  },
  {
   "cell_type": "code",
   "execution_count": 71,
   "id": "14c0ecbb-7220-4a79-bd72-42bf1a038963",
   "metadata": {},
   "outputs": [],
   "source": [
    "g_hash_result_k4 = g_hash_function_k4(signature_matrix_all_k4)"
   ]
  },
  {
   "cell_type": "markdown",
   "id": "d5c9f1a0-d68a-4811-a1dc-204223c7a55b",
   "metadata": {
    "tags": []
   },
   "source": [
    "##### (a.1.2) Query q using Part II(a) approach"
   ]
  },
  {
   "cell_type": "code",
   "execution_count": 72,
   "id": "56e18ddf-2e52-4ec1-8eba-fafc8994b847",
   "metadata": {},
   "outputs": [],
   "source": [
    "# Extract the signature of each article from the signature matrix\n",
    "signature_list_all = signature_extract(signature_matrix_all_k4)\n",
    "signature_list_query = signature_extract(signature_matrix_query_k4)"
   ]
  },
  {
   "cell_type": "code",
   "execution_count": 73,
   "id": "cf0c3a1f-ef02-4ac1-803a-58780af6a49d",
   "metadata": {},
   "outputs": [
    {
     "data": {
      "text/html": [
       "<div>\n",
       "<style scoped>\n",
       "    .dataframe tbody tr th:only-of-type {\n",
       "        vertical-align: middle;\n",
       "    }\n",
       "\n",
       "    .dataframe tbody tr th {\n",
       "        vertical-align: top;\n",
       "    }\n",
       "\n",
       "    .dataframe thead th {\n",
       "        text-align: right;\n",
       "    }\n",
       "</style>\n",
       "<table border=\"1\" class=\"dataframe\">\n",
       "  <thead>\n",
       "    <tr style=\"text-align: right;\">\n",
       "      <th></th>\n",
       "      <th>113</th>\n",
       "      <th>127</th>\n",
       "      <th>237</th>\n",
       "      <th>279</th>\n",
       "      <th>288</th>\n",
       "      <th>421</th>\n",
       "      <th>457</th>\n",
       "      <th>458</th>\n",
       "      <th>460</th>\n",
       "      <th>505</th>\n",
       "      <th>507</th>\n",
       "      <th>531</th>\n",
       "    </tr>\n",
       "  </thead>\n",
       "  <tbody>\n",
       "    <tr>\n",
       "      <th>Q 531</th>\n",
       "      <td>0.05</td>\n",
       "      <td>0.1</td>\n",
       "      <td>0.025</td>\n",
       "      <td>0.1</td>\n",
       "      <td>0.075</td>\n",
       "      <td>0.025</td>\n",
       "      <td>0.05</td>\n",
       "      <td>0.025</td>\n",
       "      <td>0.05</td>\n",
       "      <td>0.025</td>\n",
       "      <td>0.05</td>\n",
       "      <td>1.0</td>\n",
       "    </tr>\n",
       "  </tbody>\n",
       "</table>\n",
       "</div>"
      ],
      "text/plain": [
       "        113  127    237  279    288    421   457    458   460    505   507  \\\n",
       "Q 531  0.05  0.1  0.025  0.1  0.075  0.025  0.05  0.025  0.05  0.025  0.05   \n",
       "\n",
       "       531  \n",
       "Q 531  1.0  "
      ]
     },
     "execution_count": 73,
     "metadata": {},
     "output_type": "execute_result"
    }
   ],
   "source": [
    "# Retrieve articles with the same bucket number as the target article\n",
    "same_bucket_list = find_same_bucket(531, g_hash_result_k4)\n",
    "# Flattening, deduplication and sorting\n",
    "sorted_same_bucket_list = sorted(list(set([element for sub_list in same_bucket_list for element in sub_list])))\n",
    "# Compute Jaccard Similarity between q and each article in Dq\n",
    "similarity = jaccard_similarity_signature_matrix(531, signature_list_query, signature_list_all, sorted_same_bucket_list)\n",
    "# Generate similarity table\n",
    "similarity_table = generate_similarity_table_bucketList(531, sorted_same_bucket_list, similarity)\n",
    "similarity_table"
   ]
  },
  {
   "cell_type": "code",
   "execution_count": 74,
   "id": "71da961b-ea56-4ee7-9318-706e8818d1dc",
   "metadata": {
    "tags": []
   },
   "outputs": [
    {
     "data": {
      "text/html": [
       "<div>\n",
       "<style scoped>\n",
       "    .dataframe tbody tr th:only-of-type {\n",
       "        vertical-align: middle;\n",
       "    }\n",
       "\n",
       "    .dataframe tbody tr th {\n",
       "        vertical-align: top;\n",
       "    }\n",
       "\n",
       "    .dataframe thead th {\n",
       "        text-align: right;\n",
       "    }\n",
       "</style>\n",
       "<table border=\"1\" class=\"dataframe\">\n",
       "  <thead>\n",
       "    <tr style=\"text-align: right;\">\n",
       "      <th></th>\n",
       "      <th>news_id</th>\n",
       "      <th>Jaccard_sim</th>\n",
       "      <th>class_label</th>\n",
       "    </tr>\n",
       "  </thead>\n",
       "  <tbody>\n",
       "    <tr>\n",
       "      <th>1</th>\n",
       "      <td>531</td>\n",
       "      <td>1.0</td>\n",
       "      <td>entertainment</td>\n",
       "    </tr>\n",
       "    <tr>\n",
       "      <th>2</th>\n",
       "      <td>127</td>\n",
       "      <td>0.1</td>\n",
       "      <td>tech</td>\n",
       "    </tr>\n",
       "    <tr>\n",
       "      <th>3</th>\n",
       "      <td>279</td>\n",
       "      <td>0.1</td>\n",
       "      <td>tech</td>\n",
       "    </tr>\n",
       "    <tr>\n",
       "      <th>4</th>\n",
       "      <td>288</td>\n",
       "      <td>0.075</td>\n",
       "      <td>entertainment</td>\n",
       "    </tr>\n",
       "    <tr>\n",
       "      <th>5</th>\n",
       "      <td>113</td>\n",
       "      <td>0.05</td>\n",
       "      <td>tech</td>\n",
       "    </tr>\n",
       "    <tr>\n",
       "      <th>6</th>\n",
       "      <td>457</td>\n",
       "      <td>0.05</td>\n",
       "      <td>entertainment</td>\n",
       "    </tr>\n",
       "    <tr>\n",
       "      <th>7</th>\n",
       "      <td>460</td>\n",
       "      <td>0.05</td>\n",
       "      <td>tech</td>\n",
       "    </tr>\n",
       "    <tr>\n",
       "      <th>8</th>\n",
       "      <td>507</td>\n",
       "      <td>0.05</td>\n",
       "      <td>entertainment</td>\n",
       "    </tr>\n",
       "    <tr>\n",
       "      <th>9</th>\n",
       "      <td>237</td>\n",
       "      <td>0.025</td>\n",
       "      <td>tech</td>\n",
       "    </tr>\n",
       "    <tr>\n",
       "      <th>10</th>\n",
       "      <td>421</td>\n",
       "      <td>0.025</td>\n",
       "      <td>entertainment</td>\n",
       "    </tr>\n",
       "  </tbody>\n",
       "</table>\n",
       "</div>"
      ],
      "text/plain": [
       "   news_id Jaccard_sim    class_label\n",
       "1      531         1.0  entertainment\n",
       "2      127         0.1           tech\n",
       "3      279         0.1           tech\n",
       "4      288       0.075  entertainment\n",
       "5      113        0.05           tech\n",
       "6      457        0.05  entertainment\n",
       "7      460        0.05           tech\n",
       "8      507        0.05  entertainment\n",
       "9      237       0.025           tech\n",
       "10     421       0.025  entertainment"
      ]
     },
     "execution_count": 74,
     "metadata": {},
     "output_type": "execute_result"
    }
   ],
   "source": [
    "# Generate the list of top-10 articles with highest Jaccard Similarity in descending order for each query q\n",
    "rank = similarity_table.sort_values(by='Q 531', axis=1, ascending=False)\n",
    "top10_table_k4_531 = generate_top10_table_bucketList(rank)\n",
    "top10_table_k4_531"
   ]
  },
  {
   "cell_type": "code",
   "execution_count": 75,
   "id": "44b9fe0a-5fd7-4a6c-83fc-f116609de9fb",
   "metadata": {},
   "outputs": [
    {
     "data": {
      "text/html": [
       "<div>\n",
       "<style scoped>\n",
       "    .dataframe tbody tr th:only-of-type {\n",
       "        vertical-align: middle;\n",
       "    }\n",
       "\n",
       "    .dataframe tbody tr th {\n",
       "        vertical-align: top;\n",
       "    }\n",
       "\n",
       "    .dataframe thead th {\n",
       "        text-align: right;\n",
       "    }\n",
       "</style>\n",
       "<table border=\"1\" class=\"dataframe\">\n",
       "  <thead>\n",
       "    <tr style=\"text-align: right;\">\n",
       "      <th></th>\n",
       "      <th>15</th>\n",
       "      <th>19</th>\n",
       "      <th>36</th>\n",
       "      <th>47</th>\n",
       "      <th>87</th>\n",
       "      <th>119</th>\n",
       "      <th>201</th>\n",
       "      <th>211</th>\n",
       "      <th>398</th>\n",
       "      <th>471</th>\n",
       "      <th>473</th>\n",
       "      <th>476</th>\n",
       "      <th>520</th>\n",
       "      <th>532</th>\n",
       "    </tr>\n",
       "  </thead>\n",
       "  <tbody>\n",
       "    <tr>\n",
       "      <th>Q 532</th>\n",
       "      <td>0.025</td>\n",
       "      <td>0.125</td>\n",
       "      <td>0.1</td>\n",
       "      <td>0.125</td>\n",
       "      <td>0.025</td>\n",
       "      <td>0.075</td>\n",
       "      <td>0.125</td>\n",
       "      <td>0.075</td>\n",
       "      <td>0.075</td>\n",
       "      <td>0.1</td>\n",
       "      <td>0.05</td>\n",
       "      <td>0.025</td>\n",
       "      <td>0.125</td>\n",
       "      <td>1.0</td>\n",
       "    </tr>\n",
       "  </tbody>\n",
       "</table>\n",
       "</div>"
      ],
      "text/plain": [
       "          15     19   36     47     87    119    201    211    398  471   473  \\\n",
       "Q 532  0.025  0.125  0.1  0.125  0.025  0.075  0.125  0.075  0.075  0.1  0.05   \n",
       "\n",
       "         476    520  532  \n",
       "Q 532  0.025  0.125  1.0  "
      ]
     },
     "execution_count": 75,
     "metadata": {},
     "output_type": "execute_result"
    }
   ],
   "source": [
    "# Retrieve articles with the same bucket number as the target article\n",
    "same_bucket_list = find_same_bucket(532, g_hash_result_k4)\n",
    "# Flattening, deduplication and sorting\n",
    "sorted_same_bucket_list = sorted(list(set([element for sub_list in same_bucket_list for element in sub_list])))\n",
    "# Compute Jaccard Similarity between q and each article in Dq\n",
    "similarity = jaccard_similarity_signature_matrix(532, signature_list_query, signature_list_all, sorted_same_bucket_list)\n",
    "# Generate similarity table\n",
    "similarity_table = generate_similarity_table_bucketList(532, sorted_same_bucket_list, similarity)\n",
    "similarity_table"
   ]
  },
  {
   "cell_type": "code",
   "execution_count": 76,
   "id": "8f37376a-5901-434b-bf02-ef5b97f633be",
   "metadata": {},
   "outputs": [
    {
     "data": {
      "text/html": [
       "<div>\n",
       "<style scoped>\n",
       "    .dataframe tbody tr th:only-of-type {\n",
       "        vertical-align: middle;\n",
       "    }\n",
       "\n",
       "    .dataframe tbody tr th {\n",
       "        vertical-align: top;\n",
       "    }\n",
       "\n",
       "    .dataframe thead th {\n",
       "        text-align: right;\n",
       "    }\n",
       "</style>\n",
       "<table border=\"1\" class=\"dataframe\">\n",
       "  <thead>\n",
       "    <tr style=\"text-align: right;\">\n",
       "      <th></th>\n",
       "      <th>news_id</th>\n",
       "      <th>Jaccard_sim</th>\n",
       "      <th>class_label</th>\n",
       "    </tr>\n",
       "  </thead>\n",
       "  <tbody>\n",
       "    <tr>\n",
       "      <th>1</th>\n",
       "      <td>532</td>\n",
       "      <td>1.0</td>\n",
       "      <td>entertainment</td>\n",
       "    </tr>\n",
       "    <tr>\n",
       "      <th>2</th>\n",
       "      <td>19</td>\n",
       "      <td>0.125</td>\n",
       "      <td>tech</td>\n",
       "    </tr>\n",
       "    <tr>\n",
       "      <th>3</th>\n",
       "      <td>47</td>\n",
       "      <td>0.125</td>\n",
       "      <td>tech</td>\n",
       "    </tr>\n",
       "    <tr>\n",
       "      <th>4</th>\n",
       "      <td>201</td>\n",
       "      <td>0.125</td>\n",
       "      <td>tech</td>\n",
       "    </tr>\n",
       "    <tr>\n",
       "      <th>5</th>\n",
       "      <td>520</td>\n",
       "      <td>0.125</td>\n",
       "      <td>entertainment</td>\n",
       "    </tr>\n",
       "    <tr>\n",
       "      <th>6</th>\n",
       "      <td>36</td>\n",
       "      <td>0.1</td>\n",
       "      <td>tech</td>\n",
       "    </tr>\n",
       "    <tr>\n",
       "      <th>7</th>\n",
       "      <td>471</td>\n",
       "      <td>0.1</td>\n",
       "      <td>entertainment</td>\n",
       "    </tr>\n",
       "    <tr>\n",
       "      <th>8</th>\n",
       "      <td>119</td>\n",
       "      <td>0.075</td>\n",
       "      <td>entertainment</td>\n",
       "    </tr>\n",
       "    <tr>\n",
       "      <th>9</th>\n",
       "      <td>211</td>\n",
       "      <td>0.075</td>\n",
       "      <td>tech</td>\n",
       "    </tr>\n",
       "    <tr>\n",
       "      <th>10</th>\n",
       "      <td>398</td>\n",
       "      <td>0.075</td>\n",
       "      <td>tech</td>\n",
       "    </tr>\n",
       "  </tbody>\n",
       "</table>\n",
       "</div>"
      ],
      "text/plain": [
       "   news_id Jaccard_sim    class_label\n",
       "1      532         1.0  entertainment\n",
       "2       19       0.125           tech\n",
       "3       47       0.125           tech\n",
       "4      201       0.125           tech\n",
       "5      520       0.125  entertainment\n",
       "6       36         0.1           tech\n",
       "7      471         0.1  entertainment\n",
       "8      119       0.075  entertainment\n",
       "9      211       0.075           tech\n",
       "10     398       0.075           tech"
      ]
     },
     "execution_count": 76,
     "metadata": {},
     "output_type": "execute_result"
    }
   ],
   "source": [
    "# Generate the list of top-10 articles with highest Jaccard Similarity in descending order for each query q\n",
    "rank = similarity_table.sort_values(by='Q 532', axis=1, ascending=False)\n",
    "top10_table_k4_532 = generate_top10_table_bucketList(rank)\n",
    "top10_table_k4_532"
   ]
  },
  {
   "cell_type": "code",
   "execution_count": 77,
   "id": "9e96912b-d482-4c32-b1b5-93053629841e",
   "metadata": {},
   "outputs": [
    {
     "data": {
      "text/html": [
       "<div>\n",
       "<style scoped>\n",
       "    .dataframe tbody tr th:only-of-type {\n",
       "        vertical-align: middle;\n",
       "    }\n",
       "\n",
       "    .dataframe tbody tr th {\n",
       "        vertical-align: top;\n",
       "    }\n",
       "\n",
       "    .dataframe thead th {\n",
       "        text-align: right;\n",
       "    }\n",
       "</style>\n",
       "<table border=\"1\" class=\"dataframe\">\n",
       "  <thead>\n",
       "    <tr style=\"text-align: right;\">\n",
       "      <th></th>\n",
       "      <th>96</th>\n",
       "      <th>128</th>\n",
       "      <th>231</th>\n",
       "      <th>232</th>\n",
       "      <th>262</th>\n",
       "      <th>300</th>\n",
       "      <th>347</th>\n",
       "      <th>349</th>\n",
       "      <th>533</th>\n",
       "    </tr>\n",
       "  </thead>\n",
       "  <tbody>\n",
       "    <tr>\n",
       "      <th>Q 533</th>\n",
       "      <td>0.125</td>\n",
       "      <td>0.0</td>\n",
       "      <td>0.0</td>\n",
       "      <td>0.025</td>\n",
       "      <td>0.05</td>\n",
       "      <td>0.0</td>\n",
       "      <td>0.125</td>\n",
       "      <td>0.075</td>\n",
       "      <td>1.0</td>\n",
       "    </tr>\n",
       "  </tbody>\n",
       "</table>\n",
       "</div>"
      ],
      "text/plain": [
       "          96  128  231    232   262  300    347    349  533\n",
       "Q 533  0.125  0.0  0.0  0.025  0.05  0.0  0.125  0.075  1.0"
      ]
     },
     "execution_count": 77,
     "metadata": {},
     "output_type": "execute_result"
    }
   ],
   "source": [
    "# Retrieve articles with the same bucket number as the target article\n",
    "same_bucket_list = find_same_bucket(533, g_hash_result_k4)\n",
    "# Flattening, deduplication and sorting\n",
    "sorted_same_bucket_list = sorted(list(set([element for sub_list in same_bucket_list for element in sub_list])))\n",
    "# Compute Jaccard Similarity between q and each article in Dq\n",
    "similarity = jaccard_similarity_signature_matrix(533, signature_list_query, signature_list_all, sorted_same_bucket_list)\n",
    "# Generate similarity table\n",
    "similarity_table = generate_similarity_table_bucketList(533, sorted_same_bucket_list, similarity)\n",
    "similarity_table"
   ]
  },
  {
   "cell_type": "code",
   "execution_count": 78,
   "id": "20fa8942-6c90-49a3-b866-766197c35079",
   "metadata": {},
   "outputs": [
    {
     "data": {
      "text/html": [
       "<div>\n",
       "<style scoped>\n",
       "    .dataframe tbody tr th:only-of-type {\n",
       "        vertical-align: middle;\n",
       "    }\n",
       "\n",
       "    .dataframe tbody tr th {\n",
       "        vertical-align: top;\n",
       "    }\n",
       "\n",
       "    .dataframe thead th {\n",
       "        text-align: right;\n",
       "    }\n",
       "</style>\n",
       "<table border=\"1\" class=\"dataframe\">\n",
       "  <thead>\n",
       "    <tr style=\"text-align: right;\">\n",
       "      <th></th>\n",
       "      <th>news_id</th>\n",
       "      <th>Jaccard_sim</th>\n",
       "      <th>class_label</th>\n",
       "    </tr>\n",
       "  </thead>\n",
       "  <tbody>\n",
       "    <tr>\n",
       "      <th>1</th>\n",
       "      <td>533</td>\n",
       "      <td>1.0</td>\n",
       "      <td>tech</td>\n",
       "    </tr>\n",
       "    <tr>\n",
       "      <th>2</th>\n",
       "      <td>96</td>\n",
       "      <td>0.125</td>\n",
       "      <td>entertainment</td>\n",
       "    </tr>\n",
       "    <tr>\n",
       "      <th>3</th>\n",
       "      <td>347</td>\n",
       "      <td>0.125</td>\n",
       "      <td>tech</td>\n",
       "    </tr>\n",
       "    <tr>\n",
       "      <th>4</th>\n",
       "      <td>349</td>\n",
       "      <td>0.075</td>\n",
       "      <td>entertainment</td>\n",
       "    </tr>\n",
       "    <tr>\n",
       "      <th>5</th>\n",
       "      <td>262</td>\n",
       "      <td>0.05</td>\n",
       "      <td>tech</td>\n",
       "    </tr>\n",
       "    <tr>\n",
       "      <th>6</th>\n",
       "      <td>232</td>\n",
       "      <td>0.025</td>\n",
       "      <td>entertainment</td>\n",
       "    </tr>\n",
       "    <tr>\n",
       "      <th>7</th>\n",
       "      <td>128</td>\n",
       "      <td>0.0</td>\n",
       "      <td>entertainment</td>\n",
       "    </tr>\n",
       "    <tr>\n",
       "      <th>8</th>\n",
       "      <td>231</td>\n",
       "      <td>0.0</td>\n",
       "      <td>entertainment</td>\n",
       "    </tr>\n",
       "    <tr>\n",
       "      <th>9</th>\n",
       "      <td>300</td>\n",
       "      <td>0.0</td>\n",
       "      <td>entertainment</td>\n",
       "    </tr>\n",
       "  </tbody>\n",
       "</table>\n",
       "</div>"
      ],
      "text/plain": [
       "  news_id Jaccard_sim    class_label\n",
       "1     533         1.0           tech\n",
       "2      96       0.125  entertainment\n",
       "3     347       0.125           tech\n",
       "4     349       0.075  entertainment\n",
       "5     262        0.05           tech\n",
       "6     232       0.025  entertainment\n",
       "7     128         0.0  entertainment\n",
       "8     231         0.0  entertainment\n",
       "9     300         0.0  entertainment"
      ]
     },
     "execution_count": 78,
     "metadata": {},
     "output_type": "execute_result"
    }
   ],
   "source": [
    "# Generate the list of top-10 articles with highest Jaccard Similarity in descending order for each query q\n",
    "rank = similarity_table.sort_values(by='Q 533', axis=1, ascending=False)\n",
    "top10_table_k4_533 = generate_top10_table_bucketList(rank)\n",
    "top10_table_k4_533"
   ]
  },
  {
   "cell_type": "code",
   "execution_count": 79,
   "id": "79c1277c-e9ce-4696-9cc5-4a50f2656120",
   "metadata": {},
   "outputs": [
    {
     "data": {
      "text/html": [
       "<div>\n",
       "<style scoped>\n",
       "    .dataframe tbody tr th:only-of-type {\n",
       "        vertical-align: middle;\n",
       "    }\n",
       "\n",
       "    .dataframe tbody tr th {\n",
       "        vertical-align: top;\n",
       "    }\n",
       "\n",
       "    .dataframe thead th {\n",
       "        text-align: right;\n",
       "    }\n",
       "</style>\n",
       "<table border=\"1\" class=\"dataframe\">\n",
       "  <thead>\n",
       "    <tr style=\"text-align: right;\">\n",
       "      <th></th>\n",
       "      <th>3</th>\n",
       "      <th>4</th>\n",
       "      <th>7</th>\n",
       "      <th>70</th>\n",
       "      <th>72</th>\n",
       "      <th>167</th>\n",
       "      <th>310</th>\n",
       "      <th>318</th>\n",
       "      <th>342</th>\n",
       "      <th>367</th>\n",
       "      <th>459</th>\n",
       "      <th>502</th>\n",
       "      <th>534</th>\n",
       "    </tr>\n",
       "  </thead>\n",
       "  <tbody>\n",
       "    <tr>\n",
       "      <th>Q 534</th>\n",
       "      <td>0.05</td>\n",
       "      <td>0.0</td>\n",
       "      <td>0.05</td>\n",
       "      <td>0.025</td>\n",
       "      <td>0.025</td>\n",
       "      <td>0.0</td>\n",
       "      <td>0.075</td>\n",
       "      <td>0.025</td>\n",
       "      <td>0.075</td>\n",
       "      <td>0.025</td>\n",
       "      <td>0.0</td>\n",
       "      <td>0.025</td>\n",
       "      <td>1.0</td>\n",
       "    </tr>\n",
       "  </tbody>\n",
       "</table>\n",
       "</div>"
      ],
      "text/plain": [
       "          3    4     7     70     72  167    310    318    342    367  459  \\\n",
       "Q 534  0.05  0.0  0.05  0.025  0.025  0.0  0.075  0.025  0.075  0.025  0.0   \n",
       "\n",
       "         502  534  \n",
       "Q 534  0.025  1.0  "
      ]
     },
     "execution_count": 79,
     "metadata": {},
     "output_type": "execute_result"
    }
   ],
   "source": [
    "# Retrieve articles with the same bucket number as the target article\n",
    "same_bucket_list = find_same_bucket(534, g_hash_result_k4)\n",
    "# Flattening, deduplication and sorting\n",
    "sorted_same_bucket_list = sorted(list(set([element for sub_list in same_bucket_list for element in sub_list])))\n",
    "# Compute Jaccard Similarity between q and each article in Dq\n",
    "similarity = jaccard_similarity_signature_matrix(534, signature_list_query, signature_list_all, sorted_same_bucket_list)\n",
    "# Generate similarity table\n",
    "similarity_table = generate_similarity_table_bucketList(534, sorted_same_bucket_list, similarity)\n",
    "similarity_table"
   ]
  },
  {
   "cell_type": "code",
   "execution_count": 80,
   "id": "6641126e-2aef-44cc-8150-cbfa9b54ed95",
   "metadata": {},
   "outputs": [
    {
     "data": {
      "text/html": [
       "<div>\n",
       "<style scoped>\n",
       "    .dataframe tbody tr th:only-of-type {\n",
       "        vertical-align: middle;\n",
       "    }\n",
       "\n",
       "    .dataframe tbody tr th {\n",
       "        vertical-align: top;\n",
       "    }\n",
       "\n",
       "    .dataframe thead th {\n",
       "        text-align: right;\n",
       "    }\n",
       "</style>\n",
       "<table border=\"1\" class=\"dataframe\">\n",
       "  <thead>\n",
       "    <tr style=\"text-align: right;\">\n",
       "      <th></th>\n",
       "      <th>news_id</th>\n",
       "      <th>Jaccard_sim</th>\n",
       "      <th>class_label</th>\n",
       "    </tr>\n",
       "  </thead>\n",
       "  <tbody>\n",
       "    <tr>\n",
       "      <th>1</th>\n",
       "      <td>534</td>\n",
       "      <td>1.0</td>\n",
       "      <td>tech</td>\n",
       "    </tr>\n",
       "    <tr>\n",
       "      <th>2</th>\n",
       "      <td>310</td>\n",
       "      <td>0.075</td>\n",
       "      <td>tech</td>\n",
       "    </tr>\n",
       "    <tr>\n",
       "      <th>3</th>\n",
       "      <td>342</td>\n",
       "      <td>0.075</td>\n",
       "      <td>tech</td>\n",
       "    </tr>\n",
       "    <tr>\n",
       "      <th>4</th>\n",
       "      <td>3</td>\n",
       "      <td>0.05</td>\n",
       "      <td>entertainment</td>\n",
       "    </tr>\n",
       "    <tr>\n",
       "      <th>5</th>\n",
       "      <td>7</td>\n",
       "      <td>0.05</td>\n",
       "      <td>entertainment</td>\n",
       "    </tr>\n",
       "    <tr>\n",
       "      <th>6</th>\n",
       "      <td>70</td>\n",
       "      <td>0.025</td>\n",
       "      <td>entertainment</td>\n",
       "    </tr>\n",
       "    <tr>\n",
       "      <th>7</th>\n",
       "      <td>72</td>\n",
       "      <td>0.025</td>\n",
       "      <td>entertainment</td>\n",
       "    </tr>\n",
       "    <tr>\n",
       "      <th>8</th>\n",
       "      <td>318</td>\n",
       "      <td>0.025</td>\n",
       "      <td>entertainment</td>\n",
       "    </tr>\n",
       "    <tr>\n",
       "      <th>9</th>\n",
       "      <td>367</td>\n",
       "      <td>0.025</td>\n",
       "      <td>entertainment</td>\n",
       "    </tr>\n",
       "    <tr>\n",
       "      <th>10</th>\n",
       "      <td>502</td>\n",
       "      <td>0.025</td>\n",
       "      <td>entertainment</td>\n",
       "    </tr>\n",
       "  </tbody>\n",
       "</table>\n",
       "</div>"
      ],
      "text/plain": [
       "   news_id Jaccard_sim    class_label\n",
       "1      534         1.0           tech\n",
       "2      310       0.075           tech\n",
       "3      342       0.075           tech\n",
       "4        3        0.05  entertainment\n",
       "5        7        0.05  entertainment\n",
       "6       70       0.025  entertainment\n",
       "7       72       0.025  entertainment\n",
       "8      318       0.025  entertainment\n",
       "9      367       0.025  entertainment\n",
       "10     502       0.025  entertainment"
      ]
     },
     "execution_count": 80,
     "metadata": {},
     "output_type": "execute_result"
    }
   ],
   "source": [
    "# Generate the list of top-10 articles with highest Jaccard Similarity in descending order for each query q\n",
    "rank = similarity_table.sort_values(by='Q 534', axis=1, ascending=False)\n",
    "top10_table_k4_534 = generate_top10_table_bucketList(rank)\n",
    "top10_table_k4_534"
   ]
  },
  {
   "cell_type": "markdown",
   "id": "d2f5a989-54b2-4c2a-87f1-2d0019ceee78",
   "metadata": {
    "tags": []
   },
   "source": [
    "#### (a.2) Query with hash size k = 8"
   ]
  },
  {
   "cell_type": "markdown",
   "id": "86dfc08e-cc63-458c-9454-346fa99dafb9",
   "metadata": {
    "tags": []
   },
   "source": [
    "##### (a.2.1) Construct a family of MinHash functions and generate LSH hash tables"
   ]
  },
  {
   "cell_type": "code",
   "execution_count": 81,
   "id": "271233aa-1ee1-4714-8eb3-0d2f215ccd0b",
   "metadata": {},
   "outputs": [],
   "source": [
    "# Create a list to store all parameters\n",
    "PL_k8 = []\n",
    "# Randomly generate the parameters of the hash function\n",
    "for l in range(10):\n",
    "    parameter = []\n",
    "    for k in range(8):\n",
    "        # Pick a large prime number p ≥ n\n",
    "        p = random.choice(prime_List)\n",
    "        # Pick a random pair of integers 0 < a < p, 0 ≤ b < p\n",
    "        a = random.randint(1, p)\n",
    "        b = random.randint(0, p)\n",
    "        parameter.append([a, b, p])\n",
    "    PL_k8.append(parameter)"
   ]
  },
  {
   "cell_type": "code",
   "execution_count": 82,
   "id": "f1e8141f-421e-4846-856b-f843d56da474",
   "metadata": {
    "tags": []
   },
   "outputs": [
    {
     "name": "stdout",
     "output_type": "stream",
     "text": [
      "band 1\n",
      "Hash function 1: ((14643 * x + 10499) % 15013) % 14927\n",
      "Hash function 2: ((9852 * x + 10881) % 24001) % 14927\n",
      "Hash function 3: ((10085 * x + 4657) % 16001) % 14927\n",
      "Hash function 4: ((9538 * x + 15555) % 20011) % 14927\n",
      "Hash function 5: ((15116 * x + 8470) % 18013) % 14927\n",
      "Hash function 6: ((2101 * x + 11996) % 16001) % 14927\n",
      "Hash function 7: ((9655 * x + 5599) % 18013) % 14927\n",
      "Hash function 8: ((5655 * x + 10287) % 24001) % 14927\n",
      "\n",
      "band 2\n",
      "Hash function 1: ((6871 * x + 16075) % 24001) % 14927\n",
      "Hash function 2: ((7284 * x + 3566) % 15013) % 14927\n",
      "Hash function 3: ((6195 * x + 4050) % 16001) % 14927\n",
      "Hash function 4: ((785 * x + 3987) % 16001) % 14927\n",
      "Hash function 5: ((3265 * x + 4619) % 15013) % 14927\n",
      "Hash function 6: ((7276 * x + 3167) % 19001) % 14927\n",
      "Hash function 7: ((14222 * x + 14375) % 19001) % 14927\n",
      "Hash function 8: ((16879 * x + 19514) % 24001) % 14927\n",
      "\n",
      "band 3\n",
      "Hash function 1: ((19741 * x + 16877) % 20011) % 14927\n",
      "Hash function 2: ((9674 * x + 4429) % 15013) % 14927\n",
      "Hash function 3: ((14629 * x + 11656) % 19001) % 14927\n",
      "Hash function 4: ((11250 * x + 3361) % 19001) % 14927\n",
      "Hash function 5: ((5048 * x + 10913) % 22003) % 14927\n",
      "Hash function 6: ((13239 * x + 18267) % 24001) % 14927\n",
      "Hash function 7: ((6046 * x + 15457) % 16001) % 14927\n",
      "Hash function 8: ((17322 * x + 4234) % 21001) % 14927\n",
      "\n",
      "band 4\n",
      "Hash function 1: ((10101 * x + 3612) % 18013) % 14927\n",
      "Hash function 2: ((20257 * x + 16884) % 22003) % 14927\n",
      "Hash function 3: ((2268 * x + 16749) % 18013) % 14927\n",
      "Hash function 4: ((19904 * x + 3675) % 24001) % 14927\n",
      "Hash function 5: ((16328 * x + 15564) % 19001) % 14927\n",
      "Hash function 6: ((16794 * x + 3419) % 18013) % 14927\n",
      "Hash function 7: ((8385 * x + 19541) % 20011) % 14927\n",
      "Hash function 8: ((6215 * x + 10156) % 22003) % 14927\n",
      "\n",
      "band 5\n",
      "Hash function 1: ((6928 * x + 2974) % 20011) % 14927\n",
      "Hash function 2: ((9675 * x + 10755) % 18013) % 14927\n",
      "Hash function 3: ((4570 * x + 8776) % 16001) % 14927\n",
      "Hash function 4: ((4755 * x + 18673) % 23003) % 14927\n",
      "Hash function 5: ((1019 * x + 18562) % 24001) % 14927\n",
      "Hash function 6: ((11598 * x + 8879) % 15013) % 14927\n",
      "Hash function 7: ((3405 * x + 10944) % 16001) % 14927\n",
      "Hash function 8: ((16529 * x + 6115) % 18013) % 14927\n",
      "\n",
      "band 6\n",
      "Hash function 1: ((5347 * x + 15088) % 17011) % 14927\n",
      "Hash function 2: ((4111 * x + 7863) % 22003) % 14927\n",
      "Hash function 3: ((12129 * x + 424) % 19001) % 14927\n",
      "Hash function 4: ((17201 * x + 3371) % 20011) % 14927\n",
      "Hash function 5: ((13453 * x + 12215) % 22003) % 14927\n",
      "Hash function 6: ((21012 * x + 1484) % 22003) % 14927\n",
      "Hash function 7: ((5839 * x + 15812) % 17011) % 14927\n",
      "Hash function 8: ((4713 * x + 13034) % 22003) % 14927\n",
      "\n",
      "band 7\n",
      "Hash function 1: ((1728 * x + 3077) % 24001) % 14927\n",
      "Hash function 2: ((18864 * x + 12927) % 23003) % 14927\n",
      "Hash function 3: ((3702 * x + 12814) % 21001) % 14927\n",
      "Hash function 4: ((5830 * x + 13811) % 15013) % 14927\n",
      "Hash function 5: ((5327 * x + 1717) % 19001) % 14927\n",
      "Hash function 6: ((17305 * x + 11199) % 21001) % 14927\n",
      "Hash function 7: ((7605 * x + 5975) % 21001) % 14927\n",
      "Hash function 8: ((3088 * x + 4153) % 23003) % 14927\n",
      "\n",
      "band 8\n",
      "Hash function 1: ((527 * x + 10982) % 15013) % 14927\n",
      "Hash function 2: ((18345 * x + 11440) % 19001) % 14927\n",
      "Hash function 3: ((1053 * x + 7315) % 16001) % 14927\n",
      "Hash function 4: ((8379 * x + 6002) % 22003) % 14927\n",
      "Hash function 5: ((15503 * x + 9947) % 24001) % 14927\n",
      "Hash function 6: ((19667 * x + 7769) % 20011) % 14927\n",
      "Hash function 7: ((2026 * x + 5735) % 23003) % 14927\n",
      "Hash function 8: ((443 * x + 5184) % 20011) % 14927\n",
      "\n",
      "band 9\n",
      "Hash function 1: ((7790 * x + 21803) % 22003) % 14927\n",
      "Hash function 2: ((15992 * x + 17019) % 20011) % 14927\n",
      "Hash function 3: ((5060 * x + 10009) % 15013) % 14927\n",
      "Hash function 4: ((12451 * x + 3025) % 21001) % 14927\n",
      "Hash function 5: ((168 * x + 6359) % 21001) % 14927\n",
      "Hash function 6: ((484 * x + 5401) % 18013) % 14927\n",
      "Hash function 7: ((9715 * x + 1967) % 15013) % 14927\n",
      "Hash function 8: ((11325 * x + 10423) % 15013) % 14927\n",
      "\n",
      "band 10\n",
      "Hash function 1: ((15249 * x + 3364) % 16001) % 14927\n",
      "Hash function 2: ((3567 * x + 707) % 17011) % 14927\n",
      "Hash function 3: ((20550 * x + 7306) % 24001) % 14927\n",
      "Hash function 4: ((2182 * x + 3505) % 15013) % 14927\n",
      "Hash function 5: ((9537 * x + 183) % 19001) % 14927\n",
      "Hash function 6: ((11230 * x + 9308) % 16001) % 14927\n",
      "Hash function 7: ((10079 * x + 18190) % 21001) % 14927\n",
      "Hash function 8: ((13 * x + 15510) % 17011) % 14927\n",
      "\n"
     ]
    }
   ],
   "source": [
    "# Generate a family of MinHash functions\n",
    "for l in range(10):\n",
    "    print(\"band\", l+1)\n",
    "    print(\"Hash function 1: ((\", PL_k8[l][0][0], \" * x + \", PL_k8[l][0][1], \") % \", PL_k8[l][0][2], \") % \", 14927, sep=\"\")\n",
    "    print(\"Hash function 2: ((\", PL_k8[l][1][0], \" * x + \", PL_k8[l][1][1], \") % \", PL_k8[l][1][2], \") % \", 14927, sep=\"\")\n",
    "    print(\"Hash function 3: ((\", PL_k8[l][2][0], \" * x + \", PL_k8[l][2][1], \") % \", PL_k8[l][2][2], \") % \", 14927, sep=\"\")\n",
    "    print(\"Hash function 4: ((\", PL_k8[l][3][0], \" * x + \", PL_k8[l][3][1], \") % \", PL_k8[l][3][2], \") % \", 14927, sep=\"\")\n",
    "    print(\"Hash function 5: ((\", PL_k8[l][4][0], \" * x + \", PL_k8[l][4][1], \") % \", PL_k8[l][4][2], \") % \", 14927, sep=\"\")\n",
    "    print(\"Hash function 6: ((\", PL_k8[l][5][0], \" * x + \", PL_k8[l][5][1], \") % \", PL_k8[l][5][2], \") % \", 14927, sep=\"\")\n",
    "    print(\"Hash function 7: ((\", PL_k8[l][6][0], \" * x + \", PL_k8[l][6][1], \") % \", PL_k8[l][6][2], \") % \", 14927, sep=\"\")\n",
    "    print(\"Hash function 8: ((\", PL_k8[l][7][0], \" * x + \", PL_k8[l][7][1], \") % \", PL_k8[l][7][2], \") % \", 14927, sep=\"\")\n",
    "    print()"
   ]
  },
  {
   "cell_type": "code",
   "execution_count": 83,
   "id": "9db2667b-292f-471c-9f28-cbd8189ededc",
   "metadata": {},
   "outputs": [],
   "source": [
    "# Create hash function h = ((ax + b) mod p) mod n\n",
    "def h1(x):\n",
    "    return ((PL_k8[l][0][0] * x + PL_k8[l][0][1]) % PL_k8[l][0][2]) % 14927\n",
    "def h2(x):\n",
    "    return ((PL_k8[l][1][0] * x + PL_k8[l][1][1]) % PL_k8[l][1][2]) % 14927\n",
    "def h3(x):\n",
    "    return ((PL_k8[l][2][0] * x + PL_k8[l][2][1]) % PL_k8[l][2][2]) % 14927\n",
    "def h4(x):\n",
    "    return ((PL_k8[l][3][0] * x + PL_k8[l][3][1]) % PL_k8[l][3][2]) % 14927\n",
    "def h5(x):\n",
    "    return ((PL_k8[l][4][0] * x + PL_k8[l][4][1]) % PL_k8[l][4][2]) % 14927\n",
    "def h6(x):\n",
    "    return ((PL_k8[l][5][0] * x + PL_k8[l][5][1]) % PL_k8[l][5][2]) % 14927\n",
    "def h7(x):\n",
    "    return ((PL_k8[l][6][0] * x + PL_k8[l][6][1]) % PL_k8[l][6][2]) % 14927\n",
    "def h8(x):\n",
    "    return ((PL_k8[l][7][0] * x + PL_k8[l][7][1]) % PL_k8[l][7][2]) % 14927"
   ]
  },
  {
   "cell_type": "code",
   "execution_count": 84,
   "id": "379f73c5-da39-4efd-983c-05e530120558",
   "metadata": {},
   "outputs": [],
   "source": [
    "# Generate signature matrix\n",
    "signature_matrix_all_k8 = []\n",
    "for l in range(10):\n",
    "    boolean_matrix = boolean_matrix_all\n",
    "    signature_matrix_all_k8.append(minhash(boolean_matrix, [h1, h2, h3, h4, h5, h6, h7, h8]))\n",
    "    \n",
    "signature_matrix_query_k8 = []\n",
    "for l in range(10):\n",
    "    boolean_matrix = boolean_matrix_query\n",
    "    signature_matrix_query_k8.append(minhash(boolean_matrix, [h1, h2, h3, h4, h5, h6, h7, h8]))"
   ]
  },
  {
   "cell_type": "code",
   "execution_count": 85,
   "id": "f8a56f14-95ba-4ec8-8760-df606677b1dc",
   "metadata": {},
   "outputs": [
    {
     "name": "stdout",
     "output_type": "stream",
     "text": [
      "Number of bands: 10; Number of rows per band: 8; Number of articles: 534\n",
      "Number of bands: 10; Number of rows per band: 8; Number of articles: 4\n"
     ]
    }
   ],
   "source": [
    "# Check the data dimension of signature matrix\n",
    "print(\"Number of bands: \", len(signature_matrix_all_k8),\n",
    "      \"; Number of rows per band: \", len(signature_matrix_all_k8[0]),\n",
    "      \"; Number of articles: \", len(signature_matrix_all_k8[0][0]),sep=\"\")\n",
    "\n",
    "print(\"Number of bands: \", len(signature_matrix_query_k8),\n",
    "      \"; Number of rows per band: \", len(signature_matrix_query_k8[0]),\n",
    "      \"; Number of articles: \", len(signature_matrix_query_k8[0][0]),sep=\"\")"
   ]
  },
  {
   "cell_type": "code",
   "execution_count": 86,
   "id": "6aacc446-60d8-4575-9cec-28849475bef4",
   "metadata": {},
   "outputs": [],
   "source": [
    "def g_hash_function_k8(signature_matrix):\n",
    "    g_hash_result = []\n",
    "    for i in range(len(signature_matrix)):\n",
    "        g_hash_value = []\n",
    "        m = 600\n",
    "        p = random.choice(prime_List)\n",
    "        c0 = random.randint(0, p)\n",
    "        c1 = random.randint(1, p)\n",
    "        c2 = random.randint(1, p)\n",
    "        c3 = random.randint(1, p)\n",
    "        c4 = random.randint(1, p)\n",
    "        c5 = random.randint(1, p)\n",
    "        c6 = random.randint(1, p)\n",
    "        c7 = random.randint(1, p)\n",
    "        c8 = random.randint(1, p)\n",
    "        for j in range(len(signature_matrix[0][0])):\n",
    "            signature_matrix_value=[]\n",
    "            for k in range(len(signature_matrix[0])):\n",
    "                signature_matrix_value.append(signature_matrix[i][k][j])\n",
    "            g_hash_value.append(((c0 + c1 * signature_matrix_value[0] + c2 * signature_matrix_value[1] + c3 * signature_matrix_value[2] + c4 * signature_matrix_value[3]\n",
    "                                  + c5 * signature_matrix_value[4] + c6 * signature_matrix_value[5] + c7 * signature_matrix_value[6] + c8 * signature_matrix_value[7]) % p) % m)\n",
    "        g_hash_result.append(g_hash_value)\n",
    "    return g_hash_result"
   ]
  },
  {
   "cell_type": "code",
   "execution_count": 87,
   "id": "2fdabc8f-a3f0-40ae-b8cb-f7dd5f1d4153",
   "metadata": {},
   "outputs": [],
   "source": [
    "g_hash_result_k8 = g_hash_function_k8(signature_matrix_all_k8)"
   ]
  },
  {
   "cell_type": "markdown",
   "id": "822d3501-678c-4d48-8051-0c856aa5badc",
   "metadata": {
    "tags": []
   },
   "source": [
    "##### (a.2.2) Query q using Part II(a) approach"
   ]
  },
  {
   "cell_type": "code",
   "execution_count": 88,
   "id": "e338aa00-2967-4ec5-a5ed-11945bfa1a4a",
   "metadata": {},
   "outputs": [],
   "source": [
    "# Extract the signature of each article from the signature matrix\n",
    "signature_list_all = signature_extract(signature_matrix_all_k8)\n",
    "signature_list_query = signature_extract(signature_matrix_query_k8)"
   ]
  },
  {
   "cell_type": "code",
   "execution_count": 89,
   "id": "1acda6e9-c3d9-4a2a-8cac-fd020e5031ec",
   "metadata": {},
   "outputs": [
    {
     "data": {
      "text/html": [
       "<div>\n",
       "<style scoped>\n",
       "    .dataframe tbody tr th:only-of-type {\n",
       "        vertical-align: middle;\n",
       "    }\n",
       "\n",
       "    .dataframe tbody tr th {\n",
       "        vertical-align: top;\n",
       "    }\n",
       "\n",
       "    .dataframe thead th {\n",
       "        text-align: right;\n",
       "    }\n",
       "</style>\n",
       "<table border=\"1\" class=\"dataframe\">\n",
       "  <thead>\n",
       "    <tr style=\"text-align: right;\">\n",
       "      <th></th>\n",
       "      <th>48</th>\n",
       "      <th>80</th>\n",
       "      <th>260</th>\n",
       "      <th>271</th>\n",
       "      <th>358</th>\n",
       "      <th>407</th>\n",
       "      <th>424</th>\n",
       "      <th>452</th>\n",
       "      <th>531</th>\n",
       "    </tr>\n",
       "  </thead>\n",
       "  <tbody>\n",
       "    <tr>\n",
       "      <th>Q 531</th>\n",
       "      <td>0.0</td>\n",
       "      <td>0.0375</td>\n",
       "      <td>0.0125</td>\n",
       "      <td>0.0375</td>\n",
       "      <td>0.0375</td>\n",
       "      <td>0.0</td>\n",
       "      <td>0.0125</td>\n",
       "      <td>0.025</td>\n",
       "      <td>1.0</td>\n",
       "    </tr>\n",
       "  </tbody>\n",
       "</table>\n",
       "</div>"
      ],
      "text/plain": [
       "        48      80     260     271     358  407     424    452  531\n",
       "Q 531  0.0  0.0375  0.0125  0.0375  0.0375  0.0  0.0125  0.025  1.0"
      ]
     },
     "execution_count": 89,
     "metadata": {},
     "output_type": "execute_result"
    }
   ],
   "source": [
    "# Retrieve articles with the same bucket number as the target article\n",
    "same_bucket_list = find_same_bucket(531, g_hash_result_k8)\n",
    "# Flattening, deduplication and sorting\n",
    "sorted_same_bucket_list = sorted(list(set([element for sub_list in same_bucket_list for element in sub_list])))\n",
    "# Compute Jaccard Similarity between q and each article in Dq\n",
    "similarity = jaccard_similarity_signature_matrix(531, signature_list_query, signature_list_all, sorted_same_bucket_list)\n",
    "# Generate similarity table\n",
    "similarity_table = generate_similarity_table_bucketList(531, sorted_same_bucket_list, similarity)\n",
    "similarity_table"
   ]
  },
  {
   "cell_type": "code",
   "execution_count": 90,
   "id": "6a4ca97c-8a81-4385-860d-b200141318f7",
   "metadata": {},
   "outputs": [
    {
     "data": {
      "text/html": [
       "<div>\n",
       "<style scoped>\n",
       "    .dataframe tbody tr th:only-of-type {\n",
       "        vertical-align: middle;\n",
       "    }\n",
       "\n",
       "    .dataframe tbody tr th {\n",
       "        vertical-align: top;\n",
       "    }\n",
       "\n",
       "    .dataframe thead th {\n",
       "        text-align: right;\n",
       "    }\n",
       "</style>\n",
       "<table border=\"1\" class=\"dataframe\">\n",
       "  <thead>\n",
       "    <tr style=\"text-align: right;\">\n",
       "      <th></th>\n",
       "      <th>news_id</th>\n",
       "      <th>Jaccard_sim</th>\n",
       "      <th>class_label</th>\n",
       "    </tr>\n",
       "  </thead>\n",
       "  <tbody>\n",
       "    <tr>\n",
       "      <th>1</th>\n",
       "      <td>531</td>\n",
       "      <td>1.0</td>\n",
       "      <td>entertainment</td>\n",
       "    </tr>\n",
       "    <tr>\n",
       "      <th>2</th>\n",
       "      <td>80</td>\n",
       "      <td>0.0375</td>\n",
       "      <td>entertainment</td>\n",
       "    </tr>\n",
       "    <tr>\n",
       "      <th>3</th>\n",
       "      <td>271</td>\n",
       "      <td>0.0375</td>\n",
       "      <td>tech</td>\n",
       "    </tr>\n",
       "    <tr>\n",
       "      <th>4</th>\n",
       "      <td>358</td>\n",
       "      <td>0.0375</td>\n",
       "      <td>entertainment</td>\n",
       "    </tr>\n",
       "    <tr>\n",
       "      <th>5</th>\n",
       "      <td>452</td>\n",
       "      <td>0.025</td>\n",
       "      <td>entertainment</td>\n",
       "    </tr>\n",
       "    <tr>\n",
       "      <th>6</th>\n",
       "      <td>260</td>\n",
       "      <td>0.0125</td>\n",
       "      <td>tech</td>\n",
       "    </tr>\n",
       "    <tr>\n",
       "      <th>7</th>\n",
       "      <td>424</td>\n",
       "      <td>0.0125</td>\n",
       "      <td>entertainment</td>\n",
       "    </tr>\n",
       "    <tr>\n",
       "      <th>8</th>\n",
       "      <td>48</td>\n",
       "      <td>0.0</td>\n",
       "      <td>entertainment</td>\n",
       "    </tr>\n",
       "    <tr>\n",
       "      <th>9</th>\n",
       "      <td>407</td>\n",
       "      <td>0.0</td>\n",
       "      <td>tech</td>\n",
       "    </tr>\n",
       "  </tbody>\n",
       "</table>\n",
       "</div>"
      ],
      "text/plain": [
       "  news_id Jaccard_sim    class_label\n",
       "1     531         1.0  entertainment\n",
       "2      80      0.0375  entertainment\n",
       "3     271      0.0375           tech\n",
       "4     358      0.0375  entertainment\n",
       "5     452       0.025  entertainment\n",
       "6     260      0.0125           tech\n",
       "7     424      0.0125  entertainment\n",
       "8      48         0.0  entertainment\n",
       "9     407         0.0           tech"
      ]
     },
     "execution_count": 90,
     "metadata": {},
     "output_type": "execute_result"
    }
   ],
   "source": [
    "# Generate the list of top-10 articles with highest Jaccard Similarity in descending order for each query q\n",
    "rank = similarity_table.sort_values(by='Q 531', axis=1, ascending=False)\n",
    "top10_table_k8_531 = generate_top10_table_bucketList(rank)\n",
    "top10_table_k8_531"
   ]
  },
  {
   "cell_type": "code",
   "execution_count": 91,
   "id": "b21ce48e-485e-45f1-94ab-cbf379fc12a8",
   "metadata": {},
   "outputs": [
    {
     "data": {
      "text/html": [
       "<div>\n",
       "<style scoped>\n",
       "    .dataframe tbody tr th:only-of-type {\n",
       "        vertical-align: middle;\n",
       "    }\n",
       "\n",
       "    .dataframe tbody tr th {\n",
       "        vertical-align: top;\n",
       "    }\n",
       "\n",
       "    .dataframe thead th {\n",
       "        text-align: right;\n",
       "    }\n",
       "</style>\n",
       "<table border=\"1\" class=\"dataframe\">\n",
       "  <thead>\n",
       "    <tr style=\"text-align: right;\">\n",
       "      <th></th>\n",
       "      <th>19</th>\n",
       "      <th>37</th>\n",
       "      <th>47</th>\n",
       "      <th>117</th>\n",
       "      <th>144</th>\n",
       "      <th>236</th>\n",
       "      <th>273</th>\n",
       "      <th>292</th>\n",
       "      <th>331</th>\n",
       "      <th>366</th>\n",
       "      <th>418</th>\n",
       "      <th>484</th>\n",
       "      <th>530</th>\n",
       "      <th>532</th>\n",
       "    </tr>\n",
       "  </thead>\n",
       "  <tbody>\n",
       "    <tr>\n",
       "      <th>Q 532</th>\n",
       "      <td>0.1</td>\n",
       "      <td>0.05</td>\n",
       "      <td>0.1</td>\n",
       "      <td>0.1</td>\n",
       "      <td>0.0375</td>\n",
       "      <td>0.0875</td>\n",
       "      <td>0.025</td>\n",
       "      <td>0.0625</td>\n",
       "      <td>0.0375</td>\n",
       "      <td>0.05</td>\n",
       "      <td>0.025</td>\n",
       "      <td>0.1</td>\n",
       "      <td>0.0375</td>\n",
       "      <td>1.0</td>\n",
       "    </tr>\n",
       "  </tbody>\n",
       "</table>\n",
       "</div>"
      ],
      "text/plain": [
       "        19    37   47  117     144     236    273     292     331   366  \\\n",
       "Q 532  0.1  0.05  0.1  0.1  0.0375  0.0875  0.025  0.0625  0.0375  0.05   \n",
       "\n",
       "         418  484     530  532  \n",
       "Q 532  0.025  0.1  0.0375  1.0  "
      ]
     },
     "execution_count": 91,
     "metadata": {},
     "output_type": "execute_result"
    }
   ],
   "source": [
    "# Retrieve articles with the same bucket number as the target article\n",
    "same_bucket_list = find_same_bucket(532, g_hash_result_k8)\n",
    "# Flattening, deduplication and sorting\n",
    "sorted_same_bucket_list = sorted(list(set([element for sub_list in same_bucket_list for element in sub_list])))\n",
    "# Compute Jaccard Similarity between q and each article in Dq\n",
    "similarity = jaccard_similarity_signature_matrix(532, signature_list_query, signature_list_all, sorted_same_bucket_list)\n",
    "# Generate similarity table\n",
    "similarity_table = generate_similarity_table_bucketList(532, sorted_same_bucket_list, similarity)\n",
    "similarity_table"
   ]
  },
  {
   "cell_type": "code",
   "execution_count": 92,
   "id": "8b6dca1c-4610-4dc7-a46b-ba57e0c6cae2",
   "metadata": {},
   "outputs": [
    {
     "data": {
      "text/html": [
       "<div>\n",
       "<style scoped>\n",
       "    .dataframe tbody tr th:only-of-type {\n",
       "        vertical-align: middle;\n",
       "    }\n",
       "\n",
       "    .dataframe tbody tr th {\n",
       "        vertical-align: top;\n",
       "    }\n",
       "\n",
       "    .dataframe thead th {\n",
       "        text-align: right;\n",
       "    }\n",
       "</style>\n",
       "<table border=\"1\" class=\"dataframe\">\n",
       "  <thead>\n",
       "    <tr style=\"text-align: right;\">\n",
       "      <th></th>\n",
       "      <th>news_id</th>\n",
       "      <th>Jaccard_sim</th>\n",
       "      <th>class_label</th>\n",
       "    </tr>\n",
       "  </thead>\n",
       "  <tbody>\n",
       "    <tr>\n",
       "      <th>1</th>\n",
       "      <td>532</td>\n",
       "      <td>1.0</td>\n",
       "      <td>entertainment</td>\n",
       "    </tr>\n",
       "    <tr>\n",
       "      <th>2</th>\n",
       "      <td>19</td>\n",
       "      <td>0.1</td>\n",
       "      <td>tech</td>\n",
       "    </tr>\n",
       "    <tr>\n",
       "      <th>3</th>\n",
       "      <td>47</td>\n",
       "      <td>0.1</td>\n",
       "      <td>tech</td>\n",
       "    </tr>\n",
       "    <tr>\n",
       "      <th>4</th>\n",
       "      <td>117</td>\n",
       "      <td>0.1</td>\n",
       "      <td>tech</td>\n",
       "    </tr>\n",
       "    <tr>\n",
       "      <th>5</th>\n",
       "      <td>484</td>\n",
       "      <td>0.1</td>\n",
       "      <td>tech</td>\n",
       "    </tr>\n",
       "    <tr>\n",
       "      <th>6</th>\n",
       "      <td>236</td>\n",
       "      <td>0.0875</td>\n",
       "      <td>tech</td>\n",
       "    </tr>\n",
       "    <tr>\n",
       "      <th>7</th>\n",
       "      <td>292</td>\n",
       "      <td>0.0625</td>\n",
       "      <td>tech</td>\n",
       "    </tr>\n",
       "    <tr>\n",
       "      <th>8</th>\n",
       "      <td>37</td>\n",
       "      <td>0.05</td>\n",
       "      <td>entertainment</td>\n",
       "    </tr>\n",
       "    <tr>\n",
       "      <th>9</th>\n",
       "      <td>366</td>\n",
       "      <td>0.05</td>\n",
       "      <td>entertainment</td>\n",
       "    </tr>\n",
       "    <tr>\n",
       "      <th>10</th>\n",
       "      <td>144</td>\n",
       "      <td>0.0375</td>\n",
       "      <td>tech</td>\n",
       "    </tr>\n",
       "  </tbody>\n",
       "</table>\n",
       "</div>"
      ],
      "text/plain": [
       "   news_id Jaccard_sim    class_label\n",
       "1      532         1.0  entertainment\n",
       "2       19         0.1           tech\n",
       "3       47         0.1           tech\n",
       "4      117         0.1           tech\n",
       "5      484         0.1           tech\n",
       "6      236      0.0875           tech\n",
       "7      292      0.0625           tech\n",
       "8       37        0.05  entertainment\n",
       "9      366        0.05  entertainment\n",
       "10     144      0.0375           tech"
      ]
     },
     "execution_count": 92,
     "metadata": {},
     "output_type": "execute_result"
    }
   ],
   "source": [
    "# Generate the list of top-10 articles with highest Jaccard Similarity in descending order for each query q\n",
    "rank = similarity_table.sort_values(by='Q 532', axis=1, ascending=False)\n",
    "top10_table_k8_532 = generate_top10_table_bucketList(rank)\n",
    "top10_table_k8_532"
   ]
  },
  {
   "cell_type": "code",
   "execution_count": 93,
   "id": "51eac964-cfac-4c2d-906d-16933d1f590e",
   "metadata": {},
   "outputs": [
    {
     "data": {
      "text/html": [
       "<div>\n",
       "<style scoped>\n",
       "    .dataframe tbody tr th:only-of-type {\n",
       "        vertical-align: middle;\n",
       "    }\n",
       "\n",
       "    .dataframe tbody tr th {\n",
       "        vertical-align: top;\n",
       "    }\n",
       "\n",
       "    .dataframe thead th {\n",
       "        text-align: right;\n",
       "    }\n",
       "</style>\n",
       "<table border=\"1\" class=\"dataframe\">\n",
       "  <thead>\n",
       "    <tr style=\"text-align: right;\">\n",
       "      <th></th>\n",
       "      <th>27</th>\n",
       "      <th>94</th>\n",
       "      <th>121</th>\n",
       "      <th>168</th>\n",
       "      <th>172</th>\n",
       "      <th>173</th>\n",
       "      <th>199</th>\n",
       "      <th>227</th>\n",
       "      <th>248</th>\n",
       "      <th>443</th>\n",
       "      <th>533</th>\n",
       "      <th>534</th>\n",
       "    </tr>\n",
       "  </thead>\n",
       "  <tbody>\n",
       "    <tr>\n",
       "      <th>Q 533</th>\n",
       "      <td>0.1875</td>\n",
       "      <td>0.0875</td>\n",
       "      <td>0.0375</td>\n",
       "      <td>0.0375</td>\n",
       "      <td>0.025</td>\n",
       "      <td>0.1625</td>\n",
       "      <td>0.0625</td>\n",
       "      <td>0.0875</td>\n",
       "      <td>0.0375</td>\n",
       "      <td>0.0625</td>\n",
       "      <td>1.0</td>\n",
       "      <td>0.0875</td>\n",
       "    </tr>\n",
       "  </tbody>\n",
       "</table>\n",
       "</div>"
      ],
      "text/plain": [
       "           27      94     121     168    172     173     199     227     248  \\\n",
       "Q 533  0.1875  0.0875  0.0375  0.0375  0.025  0.1625  0.0625  0.0875  0.0375   \n",
       "\n",
       "          443  533     534  \n",
       "Q 533  0.0625  1.0  0.0875  "
      ]
     },
     "execution_count": 93,
     "metadata": {},
     "output_type": "execute_result"
    }
   ],
   "source": [
    "# Retrieve articles with the same bucket number as the target article\n",
    "same_bucket_list = find_same_bucket(533, g_hash_result_k8)\n",
    "# Flattening, deduplication and sorting\n",
    "sorted_same_bucket_list = sorted(list(set([element for sub_list in same_bucket_list for element in sub_list])))\n",
    "# Compute Jaccard Similarity between q and each article in Dq\n",
    "similarity = jaccard_similarity_signature_matrix(533, signature_list_query, signature_list_all, sorted_same_bucket_list)\n",
    "# Generate similarity table\n",
    "similarity_table = generate_similarity_table_bucketList(533, sorted_same_bucket_list, similarity)\n",
    "similarity_table"
   ]
  },
  {
   "cell_type": "code",
   "execution_count": 94,
   "id": "2253a7b0-8293-4497-8f69-038c3c9d8af8",
   "metadata": {},
   "outputs": [
    {
     "data": {
      "text/html": [
       "<div>\n",
       "<style scoped>\n",
       "    .dataframe tbody tr th:only-of-type {\n",
       "        vertical-align: middle;\n",
       "    }\n",
       "\n",
       "    .dataframe tbody tr th {\n",
       "        vertical-align: top;\n",
       "    }\n",
       "\n",
       "    .dataframe thead th {\n",
       "        text-align: right;\n",
       "    }\n",
       "</style>\n",
       "<table border=\"1\" class=\"dataframe\">\n",
       "  <thead>\n",
       "    <tr style=\"text-align: right;\">\n",
       "      <th></th>\n",
       "      <th>news_id</th>\n",
       "      <th>Jaccard_sim</th>\n",
       "      <th>class_label</th>\n",
       "    </tr>\n",
       "  </thead>\n",
       "  <tbody>\n",
       "    <tr>\n",
       "      <th>1</th>\n",
       "      <td>533</td>\n",
       "      <td>1.0</td>\n",
       "      <td>tech</td>\n",
       "    </tr>\n",
       "    <tr>\n",
       "      <th>2</th>\n",
       "      <td>27</td>\n",
       "      <td>0.1875</td>\n",
       "      <td>tech</td>\n",
       "    </tr>\n",
       "    <tr>\n",
       "      <th>3</th>\n",
       "      <td>173</td>\n",
       "      <td>0.1625</td>\n",
       "      <td>tech</td>\n",
       "    </tr>\n",
       "    <tr>\n",
       "      <th>4</th>\n",
       "      <td>94</td>\n",
       "      <td>0.0875</td>\n",
       "      <td>tech</td>\n",
       "    </tr>\n",
       "    <tr>\n",
       "      <th>5</th>\n",
       "      <td>227</td>\n",
       "      <td>0.0875</td>\n",
       "      <td>tech</td>\n",
       "    </tr>\n",
       "    <tr>\n",
       "      <th>6</th>\n",
       "      <td>534</td>\n",
       "      <td>0.0875</td>\n",
       "      <td>tech</td>\n",
       "    </tr>\n",
       "    <tr>\n",
       "      <th>7</th>\n",
       "      <td>199</td>\n",
       "      <td>0.0625</td>\n",
       "      <td>entertainment</td>\n",
       "    </tr>\n",
       "    <tr>\n",
       "      <th>8</th>\n",
       "      <td>443</td>\n",
       "      <td>0.0625</td>\n",
       "      <td>entertainment</td>\n",
       "    </tr>\n",
       "    <tr>\n",
       "      <th>9</th>\n",
       "      <td>121</td>\n",
       "      <td>0.0375</td>\n",
       "      <td>tech</td>\n",
       "    </tr>\n",
       "    <tr>\n",
       "      <th>10</th>\n",
       "      <td>168</td>\n",
       "      <td>0.0375</td>\n",
       "      <td>entertainment</td>\n",
       "    </tr>\n",
       "  </tbody>\n",
       "</table>\n",
       "</div>"
      ],
      "text/plain": [
       "   news_id Jaccard_sim    class_label\n",
       "1      533         1.0           tech\n",
       "2       27      0.1875           tech\n",
       "3      173      0.1625           tech\n",
       "4       94      0.0875           tech\n",
       "5      227      0.0875           tech\n",
       "6      534      0.0875           tech\n",
       "7      199      0.0625  entertainment\n",
       "8      443      0.0625  entertainment\n",
       "9      121      0.0375           tech\n",
       "10     168      0.0375  entertainment"
      ]
     },
     "execution_count": 94,
     "metadata": {},
     "output_type": "execute_result"
    }
   ],
   "source": [
    "# Generate the list of top-10 articles with highest Jaccard Similarity in descending order for each query q\n",
    "rank = similarity_table.sort_values(by='Q 533', axis=1, ascending=False)\n",
    "top10_table_k8_533 = generate_top10_table_bucketList(rank)\n",
    "top10_table_k8_533"
   ]
  },
  {
   "cell_type": "code",
   "execution_count": 95,
   "id": "c27593ec-9ece-494c-b02c-b150c47cf45d",
   "metadata": {},
   "outputs": [
    {
     "data": {
      "text/html": [
       "<div>\n",
       "<style scoped>\n",
       "    .dataframe tbody tr th:only-of-type {\n",
       "        vertical-align: middle;\n",
       "    }\n",
       "\n",
       "    .dataframe tbody tr th {\n",
       "        vertical-align: top;\n",
       "    }\n",
       "\n",
       "    .dataframe thead th {\n",
       "        text-align: right;\n",
       "    }\n",
       "</style>\n",
       "<table border=\"1\" class=\"dataframe\">\n",
       "  <thead>\n",
       "    <tr style=\"text-align: right;\">\n",
       "      <th></th>\n",
       "      <th>8</th>\n",
       "      <th>26</th>\n",
       "      <th>52</th>\n",
       "      <th>144</th>\n",
       "      <th>172</th>\n",
       "      <th>190</th>\n",
       "      <th>368</th>\n",
       "      <th>370</th>\n",
       "      <th>374</th>\n",
       "      <th>533</th>\n",
       "      <th>534</th>\n",
       "    </tr>\n",
       "  </thead>\n",
       "  <tbody>\n",
       "    <tr>\n",
       "      <th>Q 534</th>\n",
       "      <td>0.1</td>\n",
       "      <td>0.0375</td>\n",
       "      <td>0.0625</td>\n",
       "      <td>0.0375</td>\n",
       "      <td>0.05</td>\n",
       "      <td>0.0</td>\n",
       "      <td>0.0</td>\n",
       "      <td>0.0</td>\n",
       "      <td>0.05</td>\n",
       "      <td>0.0875</td>\n",
       "      <td>1.0</td>\n",
       "    </tr>\n",
       "  </tbody>\n",
       "</table>\n",
       "</div>"
      ],
      "text/plain": [
       "         8      26      52     144   172  190  368  370   374     533  534\n",
       "Q 534  0.1  0.0375  0.0625  0.0375  0.05  0.0  0.0  0.0  0.05  0.0875  1.0"
      ]
     },
     "execution_count": 95,
     "metadata": {},
     "output_type": "execute_result"
    }
   ],
   "source": [
    "# Retrieve articles with the same bucket number as the target article\n",
    "same_bucket_list = find_same_bucket(534, g_hash_result_k8)\n",
    "# Flattening, deduplication and sorting\n",
    "sorted_same_bucket_list = sorted(list(set([element for sub_list in same_bucket_list for element in sub_list])))\n",
    "# Compute Jaccard Similarity between q and each article in Dq\n",
    "similarity = jaccard_similarity_signature_matrix(534, signature_list_query, signature_list_all, sorted_same_bucket_list)\n",
    "# Generate similarity table\n",
    "similarity_table = generate_similarity_table_bucketList(534, sorted_same_bucket_list, similarity)\n",
    "similarity_table"
   ]
  },
  {
   "cell_type": "code",
   "execution_count": 96,
   "id": "2e0491d7-8b66-4119-9076-dc65626929ff",
   "metadata": {},
   "outputs": [
    {
     "data": {
      "text/html": [
       "<div>\n",
       "<style scoped>\n",
       "    .dataframe tbody tr th:only-of-type {\n",
       "        vertical-align: middle;\n",
       "    }\n",
       "\n",
       "    .dataframe tbody tr th {\n",
       "        vertical-align: top;\n",
       "    }\n",
       "\n",
       "    .dataframe thead th {\n",
       "        text-align: right;\n",
       "    }\n",
       "</style>\n",
       "<table border=\"1\" class=\"dataframe\">\n",
       "  <thead>\n",
       "    <tr style=\"text-align: right;\">\n",
       "      <th></th>\n",
       "      <th>news_id</th>\n",
       "      <th>Jaccard_sim</th>\n",
       "      <th>class_label</th>\n",
       "    </tr>\n",
       "  </thead>\n",
       "  <tbody>\n",
       "    <tr>\n",
       "      <th>1</th>\n",
       "      <td>534</td>\n",
       "      <td>1.0</td>\n",
       "      <td>tech</td>\n",
       "    </tr>\n",
       "    <tr>\n",
       "      <th>2</th>\n",
       "      <td>8</td>\n",
       "      <td>0.1</td>\n",
       "      <td>tech</td>\n",
       "    </tr>\n",
       "    <tr>\n",
       "      <th>3</th>\n",
       "      <td>533</td>\n",
       "      <td>0.0875</td>\n",
       "      <td>tech</td>\n",
       "    </tr>\n",
       "    <tr>\n",
       "      <th>4</th>\n",
       "      <td>52</td>\n",
       "      <td>0.0625</td>\n",
       "      <td>entertainment</td>\n",
       "    </tr>\n",
       "    <tr>\n",
       "      <th>5</th>\n",
       "      <td>172</td>\n",
       "      <td>0.05</td>\n",
       "      <td>tech</td>\n",
       "    </tr>\n",
       "    <tr>\n",
       "      <th>6</th>\n",
       "      <td>374</td>\n",
       "      <td>0.05</td>\n",
       "      <td>entertainment</td>\n",
       "    </tr>\n",
       "    <tr>\n",
       "      <th>7</th>\n",
       "      <td>26</td>\n",
       "      <td>0.0375</td>\n",
       "      <td>tech</td>\n",
       "    </tr>\n",
       "    <tr>\n",
       "      <th>8</th>\n",
       "      <td>144</td>\n",
       "      <td>0.0375</td>\n",
       "      <td>tech</td>\n",
       "    </tr>\n",
       "    <tr>\n",
       "      <th>9</th>\n",
       "      <td>190</td>\n",
       "      <td>0.0</td>\n",
       "      <td>tech</td>\n",
       "    </tr>\n",
       "    <tr>\n",
       "      <th>10</th>\n",
       "      <td>368</td>\n",
       "      <td>0.0</td>\n",
       "      <td>entertainment</td>\n",
       "    </tr>\n",
       "  </tbody>\n",
       "</table>\n",
       "</div>"
      ],
      "text/plain": [
       "   news_id Jaccard_sim    class_label\n",
       "1      534         1.0           tech\n",
       "2        8         0.1           tech\n",
       "3      533      0.0875           tech\n",
       "4       52      0.0625  entertainment\n",
       "5      172        0.05           tech\n",
       "6      374        0.05  entertainment\n",
       "7       26      0.0375           tech\n",
       "8      144      0.0375           tech\n",
       "9      190         0.0           tech\n",
       "10     368         0.0  entertainment"
      ]
     },
     "execution_count": 96,
     "metadata": {},
     "output_type": "execute_result"
    }
   ],
   "source": [
    "# Generate the list of top-10 articles with highest Jaccard Similarity in descending order for each query q\n",
    "rank = similarity_table.sort_values(by='Q 534', axis=1, ascending=False)\n",
    "top10_table_k8_534 = generate_top10_table_bucketList(rank)\n",
    "top10_table_k8_534"
   ]
  },
  {
   "cell_type": "markdown",
   "id": "1e37340d-26e3-4ab0-baf1-475e1d8903aa",
   "metadata": {
    "tags": []
   },
   "source": [
    "#### (a.3) Compute the F1-score"
   ]
  },
  {
   "cell_type": "markdown",
   "id": "6e37dcab-085a-4053-872f-7ee0253cc642",
   "metadata": {
    "tags": []
   },
   "source": [
    "##### (a.3.1) Define functions"
   ]
  },
  {
   "cell_type": "code",
   "execution_count": 97,
   "id": "c90e2278-7682-4898-898d-39c18c9669d0",
   "metadata": {},
   "outputs": [],
   "source": [
    "# Computer F1q\n",
    "def F1q(top10_list, top10_list_truth):\n",
    "    TP = (len(top10_list) + len(top10_list_truth)) - len(list(set(top10_list + top10_list_truth)))\n",
    "    FP = len(top10_list) - TP\n",
    "    FN = len(top10_list_truth) - TP\n",
    "    F1q = TP/(TP+0.5*(FP+FN))\n",
    "    return F1q"
   ]
  },
  {
   "cell_type": "code",
   "execution_count": 98,
   "id": "f8b838c9-53a4-4b48-9fe7-8615aec59840",
   "metadata": {},
   "outputs": [],
   "source": [
    "# Extract query result to list\n",
    "def dftolist(top10_table):\n",
    "    strList = top10_table.iloc[:,0].tolist()\n",
    "    intList = list(map(int, strList))\n",
    "    return intList"
   ]
  },
  {
   "cell_type": "markdown",
   "id": "188f1430-594b-4e9a-b4c3-2b8f0592a491",
   "metadata": {
    "tags": []
   },
   "source": [
    "##### (a.3.2) Extract query result to list"
   ]
  },
  {
   "cell_type": "code",
   "execution_count": 99,
   "id": "175905e7-a250-459a-9417-62ed02f12d55",
   "metadata": {},
   "outputs": [],
   "source": [
    "top10_list_truth_531 = dftolist(top10_table_truth_531)\n",
    "top10_list_truth_532 = dftolist(top10_table_truth_532)\n",
    "top10_list_truth_533 = dftolist(top10_table_truth_533)\n",
    "top10_list_truth_534 = dftolist(top10_table_truth_534)"
   ]
  },
  {
   "cell_type": "code",
   "execution_count": 100,
   "id": "36bbb3d8-49d4-4540-9e33-117310e767ea",
   "metadata": {},
   "outputs": [],
   "source": [
    "top10_list_k2_531 = dftolist(top10_table_k2_531)\n",
    "top10_list_k2_532 = dftolist(top10_table_k2_532)\n",
    "top10_list_k2_533 = dftolist(top10_table_k2_533)\n",
    "top10_list_k2_534 = dftolist(top10_table_k2_534)"
   ]
  },
  {
   "cell_type": "code",
   "execution_count": 101,
   "id": "c4f932cf-b323-40d1-b20b-181af9812151",
   "metadata": {},
   "outputs": [],
   "source": [
    "top10_list_k4_531 = dftolist(top10_table_k4_531)\n",
    "top10_list_k4_532 = dftolist(top10_table_k4_532)\n",
    "top10_list_k4_533 = dftolist(top10_table_k4_533)\n",
    "top10_list_k4_534 = dftolist(top10_table_k4_534)"
   ]
  },
  {
   "cell_type": "code",
   "execution_count": 102,
   "id": "b7a085b3-e425-4b0b-8fe0-1b9a526fbada",
   "metadata": {},
   "outputs": [],
   "source": [
    "top10_list_k8_531 = dftolist(top10_table_k8_531)\n",
    "top10_list_k8_532 = dftolist(top10_table_k8_532)\n",
    "top10_list_k8_533 = dftolist(top10_table_k8_533)\n",
    "top10_list_k8_534 = dftolist(top10_table_k8_534)"
   ]
  },
  {
   "cell_type": "markdown",
   "id": "e2867909-af3b-4b24-8e70-6bfdfad56e44",
   "metadata": {
    "tags": []
   },
   "source": [
    "##### (a.3.3) Compute the F1-score for each query q"
   ]
  },
  {
   "cell_type": "code",
   "execution_count": 103,
   "id": "d978dea9-d46b-4b8f-b6f0-d600baa8ed73",
   "metadata": {},
   "outputs": [],
   "source": [
    "F1q_k2_531 = F1q(top10_list_k2_531, top10_list_truth_531)\n",
    "F1q_k2_532 = F1q(top10_list_k2_532, top10_list_truth_532)\n",
    "F1q_k2_533 = F1q(top10_list_k2_533, top10_list_truth_533)\n",
    "F1q_k2_534 = F1q(top10_list_k2_534, top10_list_truth_534)"
   ]
  },
  {
   "cell_type": "code",
   "execution_count": 104,
   "id": "b6c8c547-c27d-45c0-88bf-2b08e314b4a6",
   "metadata": {},
   "outputs": [],
   "source": [
    "F1q_k4_531 = F1q(top10_list_k4_531, top10_list_truth_531)\n",
    "F1q_k4_532 = F1q(top10_list_k4_532, top10_list_truth_532)\n",
    "F1q_k4_533 = F1q(top10_list_k4_533, top10_list_truth_533)\n",
    "F1q_k4_534 = F1q(top10_list_k4_534, top10_list_truth_534)"
   ]
  },
  {
   "cell_type": "code",
   "execution_count": 105,
   "id": "a10b6851-48bf-4cbe-b8f1-5f731c58b02e",
   "metadata": {},
   "outputs": [],
   "source": [
    "F1q_k8_531 = F1q(top10_list_k8_531, top10_list_truth_531)\n",
    "F1q_k8_532 = F1q(top10_list_k8_532, top10_list_truth_532)\n",
    "F1q_k8_533 = F1q(top10_list_k8_533, top10_list_truth_533)\n",
    "F1q_k8_534 = F1q(top10_list_k8_534, top10_list_truth_534)"
   ]
  },
  {
   "cell_type": "markdown",
   "id": "3653d454-ddcf-4317-91f3-dd1667cd47e8",
   "metadata": {
    "tags": []
   },
   "source": [
    "##### (a.3.4) Output F1q and average F1-score"
   ]
  },
  {
   "cell_type": "code",
   "execution_count": 106,
   "id": "fc15b714-4ced-419d-87ae-9cf36caed875",
   "metadata": {},
   "outputs": [
    {
     "name": "stdout",
     "output_type": "stream",
     "text": [
      "When k=2 the F1q of query 531: 0.3\n",
      "When k=2 the F1q of query 532: 0.1\n",
      "When k=2 the F1q of query 533: 0.2\n",
      "When k=2 the F1q of query 534: 0.2\n"
     ]
    }
   ],
   "source": [
    "print(\"When k=2 the F1q of query 531:\", F1q_k2_531)\n",
    "print(\"When k=2 the F1q of query 532:\", F1q_k2_532)\n",
    "print(\"When k=2 the F1q of query 533:\", F1q_k2_533)\n",
    "print(\"When k=2 the F1q of query 534:\", F1q_k2_534)"
   ]
  },
  {
   "cell_type": "code",
   "execution_count": 107,
   "id": "dfcba0e5-6c6c-4b53-8be3-bb416a429bff",
   "metadata": {},
   "outputs": [
    {
     "name": "stdout",
     "output_type": "stream",
     "text": [
      "The average of F1-score at k=2: 0.2\n"
     ]
    }
   ],
   "source": [
    "avg_F1_k2 = np.mean([F1q_k2_531, F1q_k2_532, F1q_k2_533, F1q_k2_534])\n",
    "print(\"The average of F1-score at k=2:\", avg_F1_k2)"
   ]
  },
  {
   "cell_type": "code",
   "execution_count": 108,
   "id": "88f7fb6b-ea96-40ae-92cd-f27400eaa7c8",
   "metadata": {},
   "outputs": [
    {
     "name": "stdout",
     "output_type": "stream",
     "text": [
      "When k=4 the F1q of query 531: 0.1\n",
      "When k=4 the F1q of query 532: 0.2\n",
      "When k=4 the F1q of query 533: 0.10526315789473684\n",
      "When k=4 the F1q of query 534: 0.1\n"
     ]
    }
   ],
   "source": [
    "print(\"When k=4 the F1q of query 531:\", F1q_k4_531)\n",
    "print(\"When k=4 the F1q of query 532:\", F1q_k4_532)\n",
    "print(\"When k=4 the F1q of query 533:\", F1q_k4_533)\n",
    "print(\"When k=4 the F1q of query 534:\", F1q_k4_534)"
   ]
  },
  {
   "cell_type": "code",
   "execution_count": 109,
   "id": "4a17c893-e4e3-4ed4-856a-b53bab476694",
   "metadata": {},
   "outputs": [
    {
     "name": "stdout",
     "output_type": "stream",
     "text": [
      "The average of F1-score at k=4: 0.12631578947368421\n"
     ]
    }
   ],
   "source": [
    "avg_F1_k4 = np.mean([F1q_k4_531, F1q_k4_532, F1q_k4_533, F1q_k4_534])\n",
    "print(\"The average of F1-score at k=4:\", avg_F1_k4)"
   ]
  },
  {
   "cell_type": "code",
   "execution_count": 110,
   "id": "93464284-d662-466c-bfe0-835f309d99bf",
   "metadata": {},
   "outputs": [
    {
     "name": "stdout",
     "output_type": "stream",
     "text": [
      "When k=8 the F1q of query 531: 0.10526315789473684\n",
      "When k=8 the F1q of query 532: 0.1\n",
      "When k=8 the F1q of query 533: 0.1\n",
      "When k=8 the F1q of query 534: 0.1\n"
     ]
    }
   ],
   "source": [
    "print(\"When k=8 the F1q of query 531:\", F1q_k8_531)\n",
    "print(\"When k=8 the F1q of query 532:\", F1q_k8_532)\n",
    "print(\"When k=8 the F1q of query 533:\", F1q_k8_533)\n",
    "print(\"When k=8 the F1q of query 534:\", F1q_k8_534)"
   ]
  },
  {
   "cell_type": "code",
   "execution_count": 111,
   "id": "68093027-6ee8-4c59-b8a3-d4d23d7af1b2",
   "metadata": {},
   "outputs": [
    {
     "name": "stdout",
     "output_type": "stream",
     "text": [
      "The average of F1-score at k=8: 0.10131578947368422\n"
     ]
    }
   ],
   "source": [
    "avg_F1_k8 = np.mean([F1q_k8_531, F1q_k8_532, F1q_k8_533, F1q_k8_534])\n",
    "print(\"The average of F1-score at k=8:\", avg_F1_k8)"
   ]
  },
  {
   "cell_type": "markdown",
   "id": "98a30a92-43cf-4550-857f-f20cc3259517",
   "metadata": {
    "tags": []
   },
   "source": [
    "##### (a.3.5) Plot F1-score with a varying k=[2, 4, 8]"
   ]
  },
  {
   "cell_type": "code",
   "execution_count": 112,
   "id": "9e090385-0abe-4b71-9a51-cf63fa14871d",
   "metadata": {},
   "outputs": [
    {
     "data": {
      "image/png": "[encoded data removed]",
      "text/plain": [
       "<Figure size 600x400 with 1 Axes>"
      ]
     },
     "metadata": {
      "needs_background": "light"
     },
     "output_type": "display_data"
    }
   ],
   "source": [
    "x = [2, 4, 8]\n",
    "y = [avg_F1_k2, avg_F1_k4, avg_F1_k8]\n",
    "plt.figure(dpi=100)\n",
    "plt.plot(x, y)\n",
    "plt.xlabel('k = [2, 4, 8]')\n",
    "plt.ylabel('Average F1-score')\n",
    "plt.grid()\n",
    "plt.show()"
   ]
  },
  {
   "cell_type": "markdown",
   "id": "775782cb-fc35-43d5-97b0-19ae6cb86863",
   "metadata": {},
   "source": [
    "From the above plot, it can be observed that as the hash size (k) increases, the average F1 score decreases.\n",
    "This means that the hash size affects the query performance, the hash size k is NOT the bigger the better."
   ]
  },
  {
   "cell_type": "markdown",
   "id": "841fdd5b-3847-441f-a0d0-1f5c71e52923",
   "metadata": {
    "tags": []
   },
   "source": [
    "#### (a.4) The average query time in milliseconds with a varying k=[2, 4, 8]"
   ]
  },
  {
   "cell_type": "markdown",
   "id": "45c30e97-5750-4f4e-a8af-cf0a8d0ad6c1",
   "metadata": {
    "tags": []
   },
   "source": [
    "##### (a.4.1) The query time with k = 4"
   ]
  },
  {
   "cell_type": "code",
   "execution_count": 113,
   "id": "3b682969-4f3e-435a-a496-b99f7cfb5fc0",
   "metadata": {},
   "outputs": [],
   "source": [
    "# Based on \"Query article 531\" and remove non-essential operations such as \"print\"\n",
    "# Set start time\n",
    "start = time.time()\n",
    "same_bucket_list = find_same_bucket(531, g_hash_result_k4)\n",
    "sorted_same_bucket_list = sorted(list(set([element for sub_list in same_bucket_list for element in sub_list])))\n",
    "similarity = jaccard_similarity_signature_matrix(531, signature_list_query, signature_list_all, sorted_same_bucket_list)\n",
    "similarity_table = generate_similarity_table_bucketList(531, sorted_same_bucket_list, similarity)\n",
    "rank = similarity_table.sort_values(by='Q 531', axis=1, ascending=False)\n",
    "top10_table_k4_531 = generate_top10_table_bucketList(rank)\n",
    "# Set end time\n",
    "end = time.time()\n",
    "# Calculate runtime\n",
    "runtime = (end - start) * 1000\n",
    "runtime_k4_a531 = round(runtime, 2)"
   ]
  },
  {
   "cell_type": "code",
   "execution_count": 114,
   "id": "6dd62518-c04c-45dd-9426-86e8b5afa043",
   "metadata": {},
   "outputs": [],
   "source": [
    "# Based on \"Query article 532\" and remove non-essential operations such as \"print\"\n",
    "# Set start time\n",
    "start = time.time()\n",
    "same_bucket_list = find_same_bucket(532, g_hash_result_k4)\n",
    "sorted_same_bucket_list = sorted(list(set([element for sub_list in same_bucket_list for element in sub_list])))\n",
    "similarity = jaccard_similarity_signature_matrix(532, signature_list_query, signature_list_all, sorted_same_bucket_list)\n",
    "similarity_table = generate_similarity_table_bucketList(532, sorted_same_bucket_list, similarity)\n",
    "rank = similarity_table.sort_values(by='Q 532', axis=1, ascending=False)\n",
    "top10_table_k4_532 = generate_top10_table_bucketList(rank)\n",
    "# Set end time\n",
    "end = time.time()\n",
    "# Calculate runtime\n",
    "runtime = (end - start) * 1000\n",
    "runtime_k4_a532 = round(runtime, 2)"
   ]
  },
  {
   "cell_type": "code",
   "execution_count": 115,
   "id": "32f9cb2e-2447-421b-b20e-3b436c4ba541",
   "metadata": {},
   "outputs": [],
   "source": [
    "# Based on \"Query article 533\" and remove non-essential operations such as \"print\"\n",
    "# Set start time\n",
    "start = time.time()\n",
    "same_bucket_list = find_same_bucket(533, g_hash_result_k4)\n",
    "sorted_same_bucket_list = sorted(list(set([element for sub_list in same_bucket_list for element in sub_list])))\n",
    "similarity = jaccard_similarity_signature_matrix(533, signature_list_query, signature_list_all, sorted_same_bucket_list)\n",
    "similarity_table = generate_similarity_table_bucketList(533, sorted_same_bucket_list, similarity)\n",
    "rank = similarity_table.sort_values(by='Q 533', axis=1, ascending=False)\n",
    "top10_table_k4_533 = generate_top10_table_bucketList(rank)\n",
    "# Set end time\n",
    "end = time.time()\n",
    "# Calculate runtime\n",
    "runtime = (end - start) * 1000\n",
    "runtime_k4_a533 = round(runtime, 2)"
   ]
  },
  {
   "cell_type": "code",
   "execution_count": 116,
   "id": "1ee02efd-a56a-4a8b-839e-c4c7a8f37c14",
   "metadata": {},
   "outputs": [],
   "source": [
    "# Based on \"Query article 534\" and remove non-essential operations such as \"print\"\n",
    "# Set start time\n",
    "start = time.time()\n",
    "same_bucket_list = find_same_bucket(534, g_hash_result_k4)\n",
    "sorted_same_bucket_list = sorted(list(set([element for sub_list in same_bucket_list for element in sub_list])))\n",
    "similarity = jaccard_similarity_signature_matrix(534, signature_list_query, signature_list_all, sorted_same_bucket_list)\n",
    "similarity_table = generate_similarity_table_bucketList(534, sorted_same_bucket_list, similarity)\n",
    "rank = similarity_table.sort_values(by='Q 534', axis=1, ascending=False)\n",
    "top10_table_k4_534 = generate_top10_table_bucketList(rank)\n",
    "# Set end time\n",
    "end = time.time()\n",
    "# Calculate runtime\n",
    "runtime = (end - start) * 1000\n",
    "runtime_k4_a534 = round(runtime, 2)"
   ]
  },
  {
   "cell_type": "markdown",
   "id": "62b4f08a-f476-418e-bcfc-d72fcbd7ce23",
   "metadata": {
    "tags": []
   },
   "source": [
    "##### (a.4.2) The query time with k = 8"
   ]
  },
  {
   "cell_type": "code",
   "execution_count": 117,
   "id": "65b59be2-b862-443a-bfa9-d91b29f0a5d2",
   "metadata": {},
   "outputs": [],
   "source": [
    "# Based on \"Query article 531\" and remove non-essential operations such as \"print\"\n",
    "# Set start time\n",
    "start = time.time()\n",
    "same_bucket_list = find_same_bucket(531, g_hash_result_k8)\n",
    "sorted_same_bucket_list = sorted(list(set([element for sub_list in same_bucket_list for element in sub_list])))\n",
    "similarity = jaccard_similarity_signature_matrix(531, signature_list_query, signature_list_all, sorted_same_bucket_list)\n",
    "similarity_table = generate_similarity_table_bucketList(531, sorted_same_bucket_list, similarity)\n",
    "rank = similarity_table.sort_values(by='Q 531', axis=1, ascending=False)\n",
    "top10_table_k8_531 = generate_top10_table_bucketList(rank)\n",
    "# Set end time\n",
    "end = time.time()\n",
    "# Calculate runtime\n",
    "runtime = (end - start) * 1000\n",
    "runtime_k8_a531 = round(runtime, 2)"
   ]
  },
  {
   "cell_type": "code",
   "execution_count": 118,
   "id": "0b82edd9-6597-42fc-9d17-3e71712a4bbf",
   "metadata": {},
   "outputs": [],
   "source": [
    "# Based on \"Query article 532\" and remove non-essential operations such as \"print\"\n",
    "# Set start time\n",
    "start = time.time()\n",
    "same_bucket_list = find_same_bucket(532, g_hash_result_k8)\n",
    "sorted_same_bucket_list = sorted(list(set([element for sub_list in same_bucket_list for element in sub_list])))\n",
    "similarity = jaccard_similarity_signature_matrix(532, signature_list_query, signature_list_all, sorted_same_bucket_list)\n",
    "similarity_table = generate_similarity_table_bucketList(532, sorted_same_bucket_list, similarity)\n",
    "rank = similarity_table.sort_values(by='Q 532', axis=1, ascending=False)\n",
    "top10_table_k8_532 = generate_top10_table_bucketList(rank)\n",
    "# Set end time\n",
    "end = time.time()\n",
    "# Calculate runtime\n",
    "runtime = (end - start) * 1000\n",
    "runtime_k8_a532 = round(runtime, 2)"
   ]
  },
  {
   "cell_type": "code",
   "execution_count": 119,
   "id": "49574fba-b71a-4ea6-b28f-4cfe36d6f381",
   "metadata": {},
   "outputs": [],
   "source": [
    "# Based on \"Query article 533\" and remove non-essential operations such as \"print\"\n",
    "# Set start time\n",
    "start = time.time()\n",
    "same_bucket_list = find_same_bucket(533, g_hash_result_k8)\n",
    "sorted_same_bucket_list = sorted(list(set([element for sub_list in same_bucket_list for element in sub_list])))\n",
    "similarity = jaccard_similarity_signature_matrix(533, signature_list_query, signature_list_all, sorted_same_bucket_list)\n",
    "similarity_table = generate_similarity_table_bucketList(533, sorted_same_bucket_list, similarity)\n",
    "rank = similarity_table.sort_values(by='Q 533', axis=1, ascending=False)\n",
    "top10_table_k8_533 = generate_top10_table_bucketList(rank)\n",
    "# Set end time\n",
    "end = time.time()\n",
    "# Calculate runtime\n",
    "runtime = (end - start) * 1000\n",
    "runtime_k8_a533 = round(runtime, 2)"
   ]
  },
  {
   "cell_type": "code",
   "execution_count": 120,
   "id": "2600c4c6-3fad-49f7-ba2e-111e9f239cd4",
   "metadata": {},
   "outputs": [],
   "source": [
    "# Based on \"Query article 534\" and remove non-essential operations such as \"print\"\n",
    "# Set start time\n",
    "start = time.time()\n",
    "same_bucket_list = find_same_bucket(534, g_hash_result_k8)\n",
    "sorted_same_bucket_list = sorted(list(set([element for sub_list in same_bucket_list for element in sub_list])))\n",
    "similarity = jaccard_similarity_signature_matrix(534, signature_list_query, signature_list_all, sorted_same_bucket_list)\n",
    "similarity_table = generate_similarity_table_bucketList(534, sorted_same_bucket_list, similarity)\n",
    "rank = similarity_table.sort_values(by='Q 534', axis=1, ascending=False)\n",
    "top10_table_k8_534 = generate_top10_table_bucketList(rank)\n",
    "# Set end time\n",
    "end = time.time()\n",
    "# Calculate runtime\n",
    "runtime = (end - start) * 1000\n",
    "runtime_k8_a534 = round(runtime, 2)"
   ]
  },
  {
   "cell_type": "markdown",
   "id": "e9fddcf1-0533-4c46-9c65-19d30ab7a062",
   "metadata": {
    "tags": []
   },
   "source": [
    "##### (a.4.3) Output query time with a varying k=[2, 4, 8]"
   ]
  },
  {
   "cell_type": "code",
   "execution_count": 121,
   "id": "86ab9903-9a2b-4c06-8d16-7ae711eebd35",
   "metadata": {},
   "outputs": [
    {
     "name": "stdout",
     "output_type": "stream",
     "text": [
      "When k=2, query time for query 531: 3.99 ms\n",
      "When k=2, query time for query 532: 4.99 ms\n",
      "When k=2, query time for query 533: 3.92 ms\n",
      "When k=2, query time for query 534: 4.99 ms\n"
     ]
    }
   ],
   "source": [
    "print('When k=2, query time for query 531:', runtime_k2_a531, 'ms')\n",
    "print('When k=2, query time for query 532:', runtime_k2_a532, 'ms')\n",
    "print('When k=2, query time for query 533:', runtime_k2_a533, 'ms')\n",
    "print('When k=2, query time for query 534:', runtime_k2_a534, 'ms')"
   ]
  },
  {
   "cell_type": "code",
   "execution_count": 122,
   "id": "96425686-d705-4c4b-bbdb-faf4eddee76e",
   "metadata": {},
   "outputs": [
    {
     "name": "stdout",
     "output_type": "stream",
     "text": [
      "The average query time at k=2: 4.4725\n"
     ]
    }
   ],
   "source": [
    "avg_runtime_k2 = np.mean([runtime_k2_a531, runtime_k2_a532, runtime_k2_a533, runtime_k2_a534])\n",
    "print(\"The average query time at k=2:\", avg_runtime_k2)"
   ]
  },
  {
   "cell_type": "code",
   "execution_count": 123,
   "id": "831e3f69-b489-443a-bdd5-09ba9fe47dc1",
   "metadata": {},
   "outputs": [
    {
     "name": "stdout",
     "output_type": "stream",
     "text": [
      "When k=4, query time for query 531: 3.99 ms\n",
      "When k=4, query time for query 532: 4.98 ms\n",
      "When k=4, query time for query 533: 4.99 ms\n",
      "When k=4, query time for query 534: 5.98 ms\n"
     ]
    }
   ],
   "source": [
    "print('When k=4, query time for query 531:', runtime_k4_a531, 'ms')\n",
    "print('When k=4, query time for query 532:', runtime_k4_a532, 'ms')\n",
    "print('When k=4, query time for query 533:', runtime_k4_a533, 'ms')\n",
    "print('When k=4, query time for query 534:', runtime_k4_a534, 'ms')"
   ]
  },
  {
   "cell_type": "code",
   "execution_count": 124,
   "id": "1e2a836e-a5fe-42ec-b070-1027ecc4f561",
   "metadata": {},
   "outputs": [
    {
     "name": "stdout",
     "output_type": "stream",
     "text": [
      "The average query time at k=4: 4.985\n"
     ]
    }
   ],
   "source": [
    "avg_runtime_k4 = np.mean([runtime_k4_a531, runtime_k4_a532, runtime_k4_a533, runtime_k4_a534])\n",
    "print(\"The average query time at k=4:\", avg_runtime_k4)"
   ]
  },
  {
   "cell_type": "code",
   "execution_count": 125,
   "id": "cc960bb0-3204-45e9-9bc0-ef8087bc3439",
   "metadata": {},
   "outputs": [
    {
     "name": "stdout",
     "output_type": "stream",
     "text": [
      "When k=8, query time for query 531: 6.98 ms\n",
      "When k=8, query time for query 532: 7.98 ms\n",
      "When k=8, query time for query 533: 4.99 ms\n",
      "When k=8, query time for query 534: 4.99 ms\n"
     ]
    }
   ],
   "source": [
    "print('When k=8, query time for query 531:', runtime_k8_a531, 'ms')\n",
    "print('When k=8, query time for query 532:', runtime_k8_a532, 'ms')\n",
    "print('When k=8, query time for query 533:', runtime_k8_a533, 'ms')\n",
    "print('When k=8, query time for query 534:', runtime_k8_a534, 'ms')"
   ]
  },
  {
   "cell_type": "code",
   "execution_count": 126,
   "id": "42e983c5-bd54-4425-8c49-6a62739add51",
   "metadata": {},
   "outputs": [
    {
     "name": "stdout",
     "output_type": "stream",
     "text": [
      "The average query time at k=4: 6.235000000000001\n"
     ]
    }
   ],
   "source": [
    "avg_runtime_k8 = np.mean([runtime_k8_a531, runtime_k8_a532, runtime_k8_a533, runtime_k8_a534])\n",
    "print(\"The average query time at k=4:\", avg_runtime_k8)"
   ]
  },
  {
   "cell_type": "markdown",
   "id": "e3afa2d5-e63a-4768-b994-5475032be6ba",
   "metadata": {
    "tags": []
   },
   "source": [
    "##### (a.4.4) Plot average query time with a varying k=[2, 4, 8]"
   ]
  },
  {
   "cell_type": "code",
   "execution_count": 127,
   "id": "a2218e6c-76e9-4fa3-a6dc-9fe5ade2337d",
   "metadata": {},
   "outputs": [
    {
     "data": {
      "image/png": "[encoded data removed]",
      "text/plain": [
       "<Figure size 600x400 with 1 Axes>"
      ]
     },
     "metadata": {
      "needs_background": "light"
     },
     "output_type": "display_data"
    }
   ],
   "source": [
    "x = [2, 4, 8]\n",
    "y = [avg_runtime_k2, avg_runtime_k4, avg_runtime_k8]\n",
    "plt.figure(dpi=100)\n",
    "plt.plot(x, y)\n",
    "plt.xlabel('k = [2, 4, 8]')\n",
    "plt.ylabel('Average query time in ms')\n",
    "plt.grid()\n",
    "plt.show()"
   ]
  },
  {
   "cell_type": "markdown",
   "id": "a5afaffe-5ec7-4798-b137-5c151aa2ed4d",
   "metadata": {},
   "source": [
    "From the above plot, it can be observed that as the hash size (k) increases, the average query time also increases.\n",
    "This means that the hash size affects the query time, the hash size k is NOT the bigger the better.\n",
    "\n",
    "Note: This comment is only for what was observed in this run.\n",
    "\n",
    "In fact, we found in many runs that due to the influence of computer performance or operating environment, the query time does not necessarily increase with the increase of k. Sometimes the query time is the longest when k=4, and sometimes the query time is the shortest when k=8."
   ]
  },
  {
   "cell_type": "markdown",
   "id": "cd7e1445-b955-4ec7-a3bd-78fd6b607d66",
   "metadata": {
    "tags": []
   },
   "source": [
    "### (b) Explain and suggestion"
   ]
  },
  {
   "cell_type": "markdown",
   "id": "acf690a7-68bd-43e7-9f33-580e247a8b36",
   "metadata": {},
   "source": [
    "In this part, we investigated the impact of different hash sizes (k) on query performance with the same number of bands (l=10).\n",
    "We expect that as k increases, both the F1-score and the query time increase.\n",
    "\n",
    "However, from Part III(a), it can be observed that as k increases, the query time does increase, but the F1-score decreases.\n",
    "We speculate that perhaps because the data are too different, LSH cannot capture the distribution of data similarity.\n",
    "\n",
    "In theory, we would like to make a trade-off between a higher F1-score and less query time.\n",
    "But for this assignment, we can't give useful suggestions, because when k=2, both the F1-score and the query time are optimal.\n",
    "\n",
    "We try an extra assignment, compute and check the trend of FP/FN as k increases."
   ]
  },
  {
   "cell_type": "markdown",
   "id": "aea89a8e-a32f-42bf-874a-03d25a3e3966",
   "metadata": {
    "tags": []
   },
   "source": [
    "## Extra"
   ]
  },
  {
   "cell_type": "markdown",
   "id": "ea89285b-e9a0-4917-a66a-f13aedc0505e",
   "metadata": {},
   "source": [
    "### (1) Define functions"
   ]
  },
  {
   "cell_type": "code",
   "execution_count": 128,
   "id": "2eae5298-4e12-4e9d-9ca5-ee64f437d1f2",
   "metadata": {},
   "outputs": [],
   "source": [
    "# Computer [TP, FP, FN]\n",
    "def F1q_extra(top10_list, top10_list_truth):\n",
    "    TP = (len(top10_list) + len(top10_list_truth)) - len(list(set(top10_list + top10_list_truth)))\n",
    "    FP = len(top10_list) - TP\n",
    "    FN = len(top10_list_truth) - TP\n",
    "    F1q = TP/(TP+0.5*(FP+FN))\n",
    "    parameters = [TP, FP, FN]\n",
    "    return parameters"
   ]
  },
  {
   "cell_type": "markdown",
   "id": "bff1a6e5-967d-4143-9a06-6fcacde272dd",
   "metadata": {},
   "source": [
    "### (2) Compute FP and FN for each query q"
   ]
  },
  {
   "cell_type": "code",
   "execution_count": 129,
   "id": "fd28fdd3-c7e4-4089-aff3-e57bc94f038e",
   "metadata": {},
   "outputs": [],
   "source": [
    "TPFPFN_k2_531 = F1q_extra(top10_list_k2_531, top10_list_truth_531)\n",
    "TPFPFN_k2_532 = F1q_extra(top10_list_k2_532, top10_list_truth_532)\n",
    "TPFPFN_k2_533 = F1q_extra(top10_list_k2_533, top10_list_truth_533)\n",
    "TPFPFN_k2_534 = F1q_extra(top10_list_k2_534, top10_list_truth_534)"
   ]
  },
  {
   "cell_type": "code",
   "execution_count": 130,
   "id": "9132741a-6b78-4ebb-ac18-e1f08ae678de",
   "metadata": {},
   "outputs": [],
   "source": [
    "TPFPFN_k4_531 = F1q_extra(top10_list_k4_531, top10_list_truth_531)\n",
    "TPFPFN_k4_532 = F1q_extra(top10_list_k4_532, top10_list_truth_532)\n",
    "TPFPFN_k4_533 = F1q_extra(top10_list_k4_533, top10_list_truth_533)\n",
    "TPFPFN_k4_534 = F1q_extra(top10_list_k4_534, top10_list_truth_534)"
   ]
  },
  {
   "cell_type": "code",
   "execution_count": 131,
   "id": "bbd4e9df-c35a-44ba-b139-115f44accce7",
   "metadata": {},
   "outputs": [],
   "source": [
    "TPFPFN_k8_531 = F1q_extra(top10_list_k8_531, top10_list_truth_531)\n",
    "TPFPFN_k8_532 = F1q_extra(top10_list_k8_532, top10_list_truth_532)\n",
    "TPFPFN_k8_533 = F1q_extra(top10_list_k8_533, top10_list_truth_533)\n",
    "TPFPFN_k8_534 = F1q_extra(top10_list_k8_534, top10_list_truth_534)"
   ]
  },
  {
   "cell_type": "markdown",
   "id": "c522edc5-efc4-4444-98cc-c825a71b8d71",
   "metadata": {},
   "source": [
    "### (3) Output FP and FN"
   ]
  },
  {
   "cell_type": "code",
   "execution_count": 132,
   "id": "772d770b-e059-40f1-829f-2c42fbad1164",
   "metadata": {},
   "outputs": [
    {
     "name": "stdout",
     "output_type": "stream",
     "text": [
      "When k=2 the FP of query 531: 7\n",
      "When k=2 the FP of query 532: 9\n",
      "When k=2 the FP of query 533: 8\n",
      "When k=2 the FP of query 534: 8\n"
     ]
    }
   ],
   "source": [
    "print(\"When k=2 the FP of query 531:\", TPFPFN_k2_531[1])\n",
    "print(\"When k=2 the FP of query 532:\", TPFPFN_k2_532[1])\n",
    "print(\"When k=2 the FP of query 533:\", TPFPFN_k2_533[1])\n",
    "print(\"When k=2 the FP of query 534:\", TPFPFN_k2_534[1])"
   ]
  },
  {
   "cell_type": "code",
   "execution_count": 133,
   "id": "74413d50-63c2-4f57-ba3c-6c947bb65a31",
   "metadata": {},
   "outputs": [
    {
     "name": "stdout",
     "output_type": "stream",
     "text": [
      "When k=2 the FN of query 531: 7\n",
      "When k=2 the FN of query 532: 9\n",
      "When k=2 the FN of query 533: 8\n",
      "When k=2 the FN of query 534: 8\n"
     ]
    }
   ],
   "source": [
    "print(\"When k=2 the FN of query 531:\", TPFPFN_k2_531[2])\n",
    "print(\"When k=2 the FN of query 532:\", TPFPFN_k2_532[2])\n",
    "print(\"When k=2 the FN of query 533:\", TPFPFN_k2_533[2])\n",
    "print(\"When k=2 the FN of query 534:\", TPFPFN_k2_534[2])"
   ]
  },
  {
   "cell_type": "code",
   "execution_count": 134,
   "id": "9602ebe2-14d6-4ecc-b0f9-d9a06bcc2dd6",
   "metadata": {},
   "outputs": [
    {
     "name": "stdout",
     "output_type": "stream",
     "text": [
      "The average of FP at k=2: 8.0\n"
     ]
    }
   ],
   "source": [
    "avg_FP_k2 = np.mean([TPFPFN_k2_531[1], TPFPFN_k2_532[1], TPFPFN_k2_533[1], TPFPFN_k2_534[1]])\n",
    "print(\"The average of FP at k=2:\", avg_FP_k2)"
   ]
  },
  {
   "cell_type": "code",
   "execution_count": 135,
   "id": "07db6651-141a-49de-9db6-778f24f39160",
   "metadata": {},
   "outputs": [
    {
     "name": "stdout",
     "output_type": "stream",
     "text": [
      "The average of FN at k=2: 8.0\n"
     ]
    }
   ],
   "source": [
    "avg_FN_k2 = np.mean([TPFPFN_k2_531[2], TPFPFN_k2_532[2], TPFPFN_k2_533[2], TPFPFN_k2_534[2]])\n",
    "print(\"The average of FN at k=2:\", avg_FN_k2)"
   ]
  },
  {
   "cell_type": "code",
   "execution_count": 136,
   "id": "1a782e7c-69cb-4184-9c27-27eebfa81988",
   "metadata": {},
   "outputs": [
    {
     "name": "stdout",
     "output_type": "stream",
     "text": [
      "When k=4 the FP of query 531: 9\n",
      "When k=4 the FP of query 532: 8\n",
      "When k=4 the FP of query 533: 8\n",
      "When k=4 the FP of query 534: 9\n"
     ]
    }
   ],
   "source": [
    "print(\"When k=4 the FP of query 531:\", TPFPFN_k4_531[1])\n",
    "print(\"When k=4 the FP of query 532:\", TPFPFN_k4_532[1])\n",
    "print(\"When k=4 the FP of query 533:\", TPFPFN_k4_533[1])\n",
    "print(\"When k=4 the FP of query 534:\", TPFPFN_k4_534[1])"
   ]
  },
  {
   "cell_type": "code",
   "execution_count": 137,
   "id": "c069103a-acaf-4aa5-8454-8a3778c5d70f",
   "metadata": {},
   "outputs": [
    {
     "name": "stdout",
     "output_type": "stream",
     "text": [
      "When k=4 the FN of query 531: 9\n",
      "When k=4 the FN of query 532: 8\n",
      "When k=4 the FN of query 533: 9\n",
      "When k=4 the FN of query 534: 9\n"
     ]
    }
   ],
   "source": [
    "print(\"When k=4 the FN of query 531:\", TPFPFN_k4_531[2])\n",
    "print(\"When k=4 the FN of query 532:\", TPFPFN_k4_532[2])\n",
    "print(\"When k=4 the FN of query 533:\", TPFPFN_k4_533[2])\n",
    "print(\"When k=4 the FN of query 534:\", TPFPFN_k4_534[2])"
   ]
  },
  {
   "cell_type": "code",
   "execution_count": 138,
   "id": "30296407-9031-4231-8dba-3a2bded2a7aa",
   "metadata": {},
   "outputs": [
    {
     "name": "stdout",
     "output_type": "stream",
     "text": [
      "The average of FP at k=4: 8.5\n"
     ]
    }
   ],
   "source": [
    "avg_FP_k4 = np.mean([TPFPFN_k4_531[1], TPFPFN_k4_532[1], TPFPFN_k4_533[1], TPFPFN_k4_534[1]])\n",
    "print(\"The average of FP at k=4:\", avg_FP_k4)"
   ]
  },
  {
   "cell_type": "code",
   "execution_count": 139,
   "id": "5af4f590-60f0-4493-9455-82c0433339b9",
   "metadata": {},
   "outputs": [
    {
     "name": "stdout",
     "output_type": "stream",
     "text": [
      "The average of FN at k=4: 8.75\n"
     ]
    }
   ],
   "source": [
    "avg_FN_k4 = np.mean([TPFPFN_k4_531[2], TPFPFN_k4_532[2], TPFPFN_k4_533[2], TPFPFN_k4_534[2]])\n",
    "print(\"The average of FN at k=4:\", avg_FN_k4)"
   ]
  },
  {
   "cell_type": "code",
   "execution_count": 140,
   "id": "8b960604-b8e1-4ab8-9266-84ac58114e75",
   "metadata": {},
   "outputs": [
    {
     "name": "stdout",
     "output_type": "stream",
     "text": [
      "When k=8 the FP of query 531: 8\n",
      "When k=8 the FP of query 532: 9\n",
      "When k=8 the FP of query 533: 9\n",
      "When k=8 the FP of query 534: 9\n"
     ]
    }
   ],
   "source": [
    "print(\"When k=8 the FP of query 531:\", TPFPFN_k8_531[1])\n",
    "print(\"When k=8 the FP of query 532:\", TPFPFN_k8_532[1])\n",
    "print(\"When k=8 the FP of query 533:\", TPFPFN_k8_533[1])\n",
    "print(\"When k=8 the FP of query 534:\", TPFPFN_k8_534[1])"
   ]
  },
  {
   "cell_type": "code",
   "execution_count": 141,
   "id": "107ec59a-4241-40ac-9d13-3a7ff6aa7eab",
   "metadata": {},
   "outputs": [
    {
     "name": "stdout",
     "output_type": "stream",
     "text": [
      "When k=8 the FN of query 531: 9\n",
      "When k=8 the FN of query 532: 9\n",
      "When k=8 the FN of query 533: 9\n",
      "When k=8 the FN of query 534: 9\n"
     ]
    }
   ],
   "source": [
    "print(\"When k=8 the FN of query 531:\", TPFPFN_k8_531[2])\n",
    "print(\"When k=8 the FN of query 532:\", TPFPFN_k8_532[2])\n",
    "print(\"When k=8 the FN of query 533:\", TPFPFN_k8_533[2])\n",
    "print(\"When k=8 the FN of query 534:\", TPFPFN_k8_534[2])"
   ]
  },
  {
   "cell_type": "code",
   "execution_count": 142,
   "id": "115ac2bf-0344-4abd-8b5a-db5dcee0e06c",
   "metadata": {},
   "outputs": [
    {
     "name": "stdout",
     "output_type": "stream",
     "text": [
      "The average of FP at k=8: 8.75\n"
     ]
    }
   ],
   "source": [
    "avg_FP_k8 = np.mean([TPFPFN_k8_531[1], TPFPFN_k8_532[1], TPFPFN_k8_533[1], TPFPFN_k8_534[1]])\n",
    "print(\"The average of FP at k=8:\", avg_FP_k8)"
   ]
  },
  {
   "cell_type": "code",
   "execution_count": 143,
   "id": "76b58636-89b6-4f01-a8ac-eec690547c9f",
   "metadata": {},
   "outputs": [
    {
     "name": "stdout",
     "output_type": "stream",
     "text": [
      "The average of FN at k=8: 9.0\n"
     ]
    }
   ],
   "source": [
    "avg_FN_k8 = np.mean([TPFPFN_k8_531[2], TPFPFN_k8_532[2], TPFPFN_k8_533[2], TPFPFN_k8_534[2]])\n",
    "print(\"The average of FN at k=8:\", avg_FN_k8)"
   ]
  },
  {
   "cell_type": "markdown",
   "id": "cfdb01e4-5872-41a4-99d2-e4045e5ceaf4",
   "metadata": {},
   "source": [
    "### (4) Plot FP and FN with a varying k=[2, 4, 8]"
   ]
  },
  {
   "cell_type": "code",
   "execution_count": 144,
   "id": "4702a8a0-dd9f-496f-833b-6241aa6c0c2d",
   "metadata": {},
   "outputs": [
    {
     "data": {
      "image/png": "[encoded data removed]",
      "text/plain": [
       "<Figure size 600x400 with 1 Axes>"
      ]
     },
     "metadata": {
      "needs_background": "light"
     },
     "output_type": "display_data"
    }
   ],
   "source": [
    "x = [2, 4, 8]\n",
    "y_FP = [avg_FP_k2, avg_FP_k4, avg_FP_k8]\n",
    "y_FN = [avg_FN_k2, avg_FN_k4, avg_FN_k8]\n",
    "plt.figure(dpi=100)\n",
    "plt.plot(x, y_FP, label='FP')\n",
    "plt.plot(x, y_FN, label='FN')\n",
    "plt.legend(loc='upper left')\n",
    "plt.xlabel('k = [2, 4, 8]')\n",
    "plt.ylabel('Average FP and FN')\n",
    "plt.grid()\n",
    "plt.show()"
   ]
  },
  {
   "cell_type": "markdown",
   "id": "29a23f31-d81d-405d-9730-28d5fc3a5744",
   "metadata": {},
   "source": [
    "### (5) Conclusion"
   ]
  },
  {
   "cell_type": "markdown",
   "id": "2483a7a3-95b4-43bb-984e-85f570890fe0",
   "metadata": {},
   "source": [
    "From the above two plots, we observed that as k increases, both FP/FN increase, which shows that LSH cannot capture the distribution of data similarity.\n",
    "The possible reason is that the data itself is very different."
   ]
  }
 ],
 "metadata": {
  "kernelspec": {
   "display_name": "Python 3 (ipykernel)",
   "language": "python",
   "name": "python3"
  },
  "language_info": {
   "codemirror_mode": {
    "name": "ipython",
    "version": 3
   },
   "file_extension": ".py",
   "mimetype": "text/x-python",
   "name": "python",
   "nbconvert_exporter": "python",
   "pygments_lexer": "ipython3",
   "version": "3.10.4"
  }
 },
 "nbformat": 4,
 "nbformat_minor": 5
}
