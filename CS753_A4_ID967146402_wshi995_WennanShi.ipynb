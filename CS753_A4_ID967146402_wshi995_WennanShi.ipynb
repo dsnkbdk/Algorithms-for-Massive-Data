{
 "cells": [
  {
   "cell_type": "markdown",
   "id": "f134f4dd-6816-475b-a10e-c7d27055df87",
   "metadata": {
    "tags": []
   },
   "source": [
    "# COMPSCI 753 Assignment 4"
   ]
  },
  {
   "cell_type": "markdown",
   "id": "86ab6739-ddbd-4e8b-9136-c70561a393e3",
   "metadata": {},
   "source": [
    "- UPI: shi995\n",
    "- Name: Wennan Shi\n",
    "- Student ID: 967146402"
   ]
  },
  {
   "cell_type": "markdown",
   "id": "1bb2ec84-10d2-4b01-af88-25cd6b248f4d",
   "metadata": {
    "tags": []
   },
   "source": [
    "## Preparation"
   ]
  },
  {
   "cell_type": "code",
   "execution_count": 1,
   "id": "63f34a56-7fcf-4370-8446-0f585cd30364",
   "metadata": {},
   "outputs": [],
   "source": [
    "import warnings\n",
    "warnings.filterwarnings(\"ignore\")"
   ]
  },
  {
   "cell_type": "code",
   "execution_count": 2,
   "id": "2b86730a-28e9-4f9c-9670-8e8edc1c8f34",
   "metadata": {},
   "outputs": [],
   "source": [
    "import numpy as np\n",
    "import pandas as pd\n",
    "import matplotlib.pyplot as plt\n",
    "from scipy.sparse import lil_matrix\n",
    "from joblib import Parallel, delayed"
   ]
  },
  {
   "cell_type": "code",
   "execution_count": 3,
   "id": "25e9e0aa-ffde-4b52-9647-0ef05723b7f7",
   "metadata": {},
   "outputs": [],
   "source": [
    "# Set random seed\n",
    "RANDOM_STATE = 999\n",
    "np.random.seed(RANDOM_STATE)"
   ]
  },
  {
   "cell_type": "markdown",
   "id": "7248edb4-60a1-4228-8743-8925ac3cbc75",
   "metadata": {
    "tags": []
   },
   "source": [
    "## Load the dataset"
   ]
  },
  {
   "cell_type": "code",
   "execution_count": 4,
   "id": "568a152d-ffcd-40ad-b24c-d4216ddff0da",
   "metadata": {},
   "outputs": [
    {
     "data": {
      "text/html": [
       "<div>\n",
       "<style scoped>\n",
       "    .dataframe tbody tr th:only-of-type {\n",
       "        vertical-align: middle;\n",
       "    }\n",
       "\n",
       "    .dataframe tbody tr th {\n",
       "        vertical-align: top;\n",
       "    }\n",
       "\n",
       "    .dataframe thead th {\n",
       "        text-align: right;\n",
       "    }\n",
       "</style>\n",
       "<table border=\"1\" class=\"dataframe\">\n",
       "  <thead>\n",
       "    <tr style=\"text-align: right;\">\n",
       "      <th></th>\n",
       "      <th>review_id</th>\n",
       "      <th>business_id</th>\n",
       "      <th>user_id</th>\n",
       "      <th>stars</th>\n",
       "      <th>date</th>\n",
       "    </tr>\n",
       "  </thead>\n",
       "  <tbody>\n",
       "    <tr>\n",
       "      <th>0</th>\n",
       "      <td>xW294l3Lwh0cxlHU1jwRDA</td>\n",
       "      <td>na4Th5DrNauOv-c43QQFvA</td>\n",
       "      <td>nkN_do3fJ9xekchVC-v68A</td>\n",
       "      <td>5</td>\n",
       "      <td>2004-10-19 02:46:40</td>\n",
       "    </tr>\n",
       "    <tr>\n",
       "      <th>1</th>\n",
       "      <td>VgBxQqaDgOHq9YRxtMUm3A</td>\n",
       "      <td>6xgcHeLad-VaoTIQewK84A</td>\n",
       "      <td>G5LXEaxhQMF_BVjNHkVr7g</td>\n",
       "      <td>5</td>\n",
       "      <td>2005-04-27 23:38:05</td>\n",
       "    </tr>\n",
       "    <tr>\n",
       "      <th>2</th>\n",
       "      <td>lgpSS6UsKYIvnQaw8JwHlQ</td>\n",
       "      <td>--9e1ONYQuAa-CB_Rrw7Tw</td>\n",
       "      <td>G5LXEaxhQMF_BVjNHkVr7g</td>\n",
       "      <td>5</td>\n",
       "      <td>2005-04-27 23:38:49</td>\n",
       "    </tr>\n",
       "    <tr>\n",
       "      <th>3</th>\n",
       "      <td>xKf_Y6PmebgJtFLULpYCzA</td>\n",
       "      <td>Wxxvi3LZbHNIDwJ-ZimtnA</td>\n",
       "      <td>G5LXEaxhQMF_BVjNHkVr7g</td>\n",
       "      <td>5</td>\n",
       "      <td>2005-04-27 23:44:33</td>\n",
       "    </tr>\n",
       "    <tr>\n",
       "      <th>4</th>\n",
       "      <td>9P9aP_laBPpHWbdY9ZZYyA</td>\n",
       "      <td>BjH8Xepc10i6OhCDQdX6og</td>\n",
       "      <td>nzsv-p1O8gCfP3XijfQrIw</td>\n",
       "      <td>4</td>\n",
       "      <td>2005-04-28 04:42:38</td>\n",
       "    </tr>\n",
       "    <tr>\n",
       "      <th>...</th>\n",
       "      <td>...</td>\n",
       "      <td>...</td>\n",
       "      <td>...</td>\n",
       "      <td>...</td>\n",
       "      <td>...</td>\n",
       "    </tr>\n",
       "    <tr>\n",
       "      <th>841015</th>\n",
       "      <td>yyYrzyO8aGs7Utx6v8sq2A</td>\n",
       "      <td>jxbEwtV8Et1lm8ubk4AGuw</td>\n",
       "      <td>SXlY8VExSxcKcvlwSVHQ3Q</td>\n",
       "      <td>4</td>\n",
       "      <td>2019-10-01 16:35:09</td>\n",
       "    </tr>\n",
       "    <tr>\n",
       "      <th>841016</th>\n",
       "      <td>uPKOTU73W4yrX4sG4TX4Mg</td>\n",
       "      <td>TbIVXylgp6UsfSPI9PYddA</td>\n",
       "      <td>dPgVG1nGSUONC0IViu5Phg</td>\n",
       "      <td>3</td>\n",
       "      <td>2019-10-01 16:54:15</td>\n",
       "    </tr>\n",
       "    <tr>\n",
       "      <th>841017</th>\n",
       "      <td>L9Ub4BK_QH-y9ezC9Ekxgg</td>\n",
       "      <td>gSR9bmBa0HacSuMX5BIAxg</td>\n",
       "      <td>WhrQp8fwIII7TbnZWCSTxg</td>\n",
       "      <td>1</td>\n",
       "      <td>2019-10-01 17:16:48</td>\n",
       "    </tr>\n",
       "    <tr>\n",
       "      <th>841018</th>\n",
       "      <td>FCpy5iCZOsxQnY-UEOl70g</td>\n",
       "      <td>V7LKpzlKQz1hrceZExU-pQ</td>\n",
       "      <td>_2Sa7pq5z2XOUhS9DOCGHw</td>\n",
       "      <td>5</td>\n",
       "      <td>2019-10-01 17:28:24</td>\n",
       "    </tr>\n",
       "    <tr>\n",
       "      <th>841019</th>\n",
       "      <td>O22KGpWedkbuVr4Jsdk7Tw</td>\n",
       "      <td>QnfAHUr5-HTiaA5-va3glQ</td>\n",
       "      <td>o_y7a6cX9rFwRP0Mu2bhrg</td>\n",
       "      <td>5</td>\n",
       "      <td>2019-10-01 17:31:00</td>\n",
       "    </tr>\n",
       "  </tbody>\n",
       "</table>\n",
       "<p>841020 rows × 5 columns</p>\n",
       "</div>"
      ],
      "text/plain": [
       "                     review_id             business_id  \\\n",
       "0       xW294l3Lwh0cxlHU1jwRDA  na4Th5DrNauOv-c43QQFvA   \n",
       "1       VgBxQqaDgOHq9YRxtMUm3A  6xgcHeLad-VaoTIQewK84A   \n",
       "2       lgpSS6UsKYIvnQaw8JwHlQ  --9e1ONYQuAa-CB_Rrw7Tw   \n",
       "3       xKf_Y6PmebgJtFLULpYCzA  Wxxvi3LZbHNIDwJ-ZimtnA   \n",
       "4       9P9aP_laBPpHWbdY9ZZYyA  BjH8Xepc10i6OhCDQdX6og   \n",
       "...                        ...                     ...   \n",
       "841015  yyYrzyO8aGs7Utx6v8sq2A  jxbEwtV8Et1lm8ubk4AGuw   \n",
       "841016  uPKOTU73W4yrX4sG4TX4Mg  TbIVXylgp6UsfSPI9PYddA   \n",
       "841017  L9Ub4BK_QH-y9ezC9Ekxgg  gSR9bmBa0HacSuMX5BIAxg   \n",
       "841018  FCpy5iCZOsxQnY-UEOl70g  V7LKpzlKQz1hrceZExU-pQ   \n",
       "841019  O22KGpWedkbuVr4Jsdk7Tw  QnfAHUr5-HTiaA5-va3glQ   \n",
       "\n",
       "                       user_id  stars                date  \n",
       "0       nkN_do3fJ9xekchVC-v68A      5 2004-10-19 02:46:40  \n",
       "1       G5LXEaxhQMF_BVjNHkVr7g      5 2005-04-27 23:38:05  \n",
       "2       G5LXEaxhQMF_BVjNHkVr7g      5 2005-04-27 23:38:49  \n",
       "3       G5LXEaxhQMF_BVjNHkVr7g      5 2005-04-27 23:44:33  \n",
       "4       nzsv-p1O8gCfP3XijfQrIw      4 2005-04-28 04:42:38  \n",
       "...                        ...    ...                 ...  \n",
       "841015  SXlY8VExSxcKcvlwSVHQ3Q      4 2019-10-01 16:35:09  \n",
       "841016  dPgVG1nGSUONC0IViu5Phg      3 2019-10-01 16:54:15  \n",
       "841017  WhrQp8fwIII7TbnZWCSTxg      1 2019-10-01 17:16:48  \n",
       "841018  _2Sa7pq5z2XOUhS9DOCGHw      5 2019-10-01 17:28:24  \n",
       "841019  o_y7a6cX9rFwRP0Mu2bhrg      5 2019-10-01 17:31:00  \n",
       "\n",
       "[841020 rows x 5 columns]"
      ]
     },
     "execution_count": 4,
     "metadata": {},
     "output_type": "execute_result"
    }
   ],
   "source": [
    "df_train = pd.read_json('train.json', lines=True)\n",
    "df_train"
   ]
  },
  {
   "cell_type": "code",
   "execution_count": 5,
   "id": "9a76a9f0-d5d2-4613-b978-b1e5ad89c89e",
   "metadata": {},
   "outputs": [
    {
     "data": {
      "text/html": [
       "<div>\n",
       "<style scoped>\n",
       "    .dataframe tbody tr th:only-of-type {\n",
       "        vertical-align: middle;\n",
       "    }\n",
       "\n",
       "    .dataframe tbody tr th {\n",
       "        vertical-align: top;\n",
       "    }\n",
       "\n",
       "    .dataframe thead th {\n",
       "        text-align: right;\n",
       "    }\n",
       "</style>\n",
       "<table border=\"1\" class=\"dataframe\">\n",
       "  <thead>\n",
       "    <tr style=\"text-align: right;\">\n",
       "      <th></th>\n",
       "      <th>review_id</th>\n",
       "      <th>business_id</th>\n",
       "      <th>user_id</th>\n",
       "      <th>stars</th>\n",
       "      <th>date</th>\n",
       "    </tr>\n",
       "  </thead>\n",
       "  <tbody>\n",
       "    <tr>\n",
       "      <th>0</th>\n",
       "      <td>lezuf8CCqwIhuFKuODJQ4Q</td>\n",
       "      <td>TyuFl3J4fUDB573AHu5uBQ</td>\n",
       "      <td>1nDMoT9DVNqEpdQHx58_Fg</td>\n",
       "      <td>5</td>\n",
       "      <td>2019-10-01 17:31:21</td>\n",
       "    </tr>\n",
       "    <tr>\n",
       "      <th>1</th>\n",
       "      <td>q7DYlMJG2JD0JPUYMhGI1Q</td>\n",
       "      <td>eSILD9dtyDApgcL5Lwxu9Q</td>\n",
       "      <td>o_y7a6cX9rFwRP0Mu2bhrg</td>\n",
       "      <td>5</td>\n",
       "      <td>2019-10-01 17:31:45</td>\n",
       "    </tr>\n",
       "    <tr>\n",
       "      <th>2</th>\n",
       "      <td>9skpkCsrLfuzEaPYvF96iQ</td>\n",
       "      <td>kJl3l4fSa2spv_Mkhgogmg</td>\n",
       "      <td>EOSdJO9YY4g3GL0Hwj093g</td>\n",
       "      <td>1</td>\n",
       "      <td>2019-10-01 17:36:10</td>\n",
       "    </tr>\n",
       "    <tr>\n",
       "      <th>3</th>\n",
       "      <td>acAChnnwLZj47dFEZtrfVA</td>\n",
       "      <td>xK3SuX2yYyx1syvWtToqBw</td>\n",
       "      <td>oagZh5A2cWJXZBLakS_KpQ</td>\n",
       "      <td>5</td>\n",
       "      <td>2019-10-01 17:41:47</td>\n",
       "    </tr>\n",
       "    <tr>\n",
       "      <th>4</th>\n",
       "      <td>EjvWKha8tUz4Sbi4RshfpQ</td>\n",
       "      <td>ICWRXA2TXYYoAfLibm7Myw</td>\n",
       "      <td>wdJgF0wnDqMjGsv2Js6paw</td>\n",
       "      <td>5</td>\n",
       "      <td>2019-10-01 17:43:30</td>\n",
       "    </tr>\n",
       "    <tr>\n",
       "      <th>...</th>\n",
       "      <td>...</td>\n",
       "      <td>...</td>\n",
       "      <td>...</td>\n",
       "      <td>...</td>\n",
       "      <td>...</td>\n",
       "    </tr>\n",
       "    <tr>\n",
       "      <th>8577</th>\n",
       "      <td>qAxCqAGjoDKNc7Pt7JERwA</td>\n",
       "      <td>Tefx_N6A6nrsdj4jHHnbYg</td>\n",
       "      <td>TGSi0e7-ovol_PBIQgodOg</td>\n",
       "      <td>4</td>\n",
       "      <td>2019-11-06 00:11:53</td>\n",
       "    </tr>\n",
       "    <tr>\n",
       "      <th>8578</th>\n",
       "      <td>JLNmvgbV-63pqtM6RxoFAw</td>\n",
       "      <td>2sx52lDoiEtef7xgPCaoBw</td>\n",
       "      <td>L8cvMZLWmM4qWTl9SkxJ8g</td>\n",
       "      <td>5</td>\n",
       "      <td>2019-11-06 00:20:23</td>\n",
       "    </tr>\n",
       "    <tr>\n",
       "      <th>8579</th>\n",
       "      <td>bJ_TOpBIfGHhiT3KsrmoDQ</td>\n",
       "      <td>NKh691Q7BZZ2r0f2RJxdsg</td>\n",
       "      <td>TGSi0e7-ovol_PBIQgodOg</td>\n",
       "      <td>1</td>\n",
       "      <td>2019-11-06 00:21:20</td>\n",
       "    </tr>\n",
       "    <tr>\n",
       "      <th>8580</th>\n",
       "      <td>3evGPsDPeKk4SYvyrXabwA</td>\n",
       "      <td>cn6Lguvd8T2pWq4-WNLHpQ</td>\n",
       "      <td>iPceDCz6O2__AZK00w4gQw</td>\n",
       "      <td>4</td>\n",
       "      <td>2019-11-06 00:24:22</td>\n",
       "    </tr>\n",
       "    <tr>\n",
       "      <th>8581</th>\n",
       "      <td>o8F6zdXEOyLTICUlqirjNw</td>\n",
       "      <td>jxbEwtV8Et1lm8ubk4AGuw</td>\n",
       "      <td>WywMDFqjC_ViJUXQA600DQ</td>\n",
       "      <td>2</td>\n",
       "      <td>2019-11-06 00:36:56</td>\n",
       "    </tr>\n",
       "  </tbody>\n",
       "</table>\n",
       "<p>8582 rows × 5 columns</p>\n",
       "</div>"
      ],
      "text/plain": [
       "                   review_id             business_id                 user_id  \\\n",
       "0     lezuf8CCqwIhuFKuODJQ4Q  TyuFl3J4fUDB573AHu5uBQ  1nDMoT9DVNqEpdQHx58_Fg   \n",
       "1     q7DYlMJG2JD0JPUYMhGI1Q  eSILD9dtyDApgcL5Lwxu9Q  o_y7a6cX9rFwRP0Mu2bhrg   \n",
       "2     9skpkCsrLfuzEaPYvF96iQ  kJl3l4fSa2spv_Mkhgogmg  EOSdJO9YY4g3GL0Hwj093g   \n",
       "3     acAChnnwLZj47dFEZtrfVA  xK3SuX2yYyx1syvWtToqBw  oagZh5A2cWJXZBLakS_KpQ   \n",
       "4     EjvWKha8tUz4Sbi4RshfpQ  ICWRXA2TXYYoAfLibm7Myw  wdJgF0wnDqMjGsv2Js6paw   \n",
       "...                      ...                     ...                     ...   \n",
       "8577  qAxCqAGjoDKNc7Pt7JERwA  Tefx_N6A6nrsdj4jHHnbYg  TGSi0e7-ovol_PBIQgodOg   \n",
       "8578  JLNmvgbV-63pqtM6RxoFAw  2sx52lDoiEtef7xgPCaoBw  L8cvMZLWmM4qWTl9SkxJ8g   \n",
       "8579  bJ_TOpBIfGHhiT3KsrmoDQ  NKh691Q7BZZ2r0f2RJxdsg  TGSi0e7-ovol_PBIQgodOg   \n",
       "8580  3evGPsDPeKk4SYvyrXabwA  cn6Lguvd8T2pWq4-WNLHpQ  iPceDCz6O2__AZK00w4gQw   \n",
       "8581  o8F6zdXEOyLTICUlqirjNw  jxbEwtV8Et1lm8ubk4AGuw  WywMDFqjC_ViJUXQA600DQ   \n",
       "\n",
       "      stars                date  \n",
       "0         5 2019-10-01 17:31:21  \n",
       "1         5 2019-10-01 17:31:45  \n",
       "2         1 2019-10-01 17:36:10  \n",
       "3         5 2019-10-01 17:41:47  \n",
       "4         5 2019-10-01 17:43:30  \n",
       "...     ...                 ...  \n",
       "8577      4 2019-11-06 00:11:53  \n",
       "8578      5 2019-11-06 00:20:23  \n",
       "8579      1 2019-11-06 00:21:20  \n",
       "8580      4 2019-11-06 00:24:22  \n",
       "8581      2 2019-11-06 00:36:56  \n",
       "\n",
       "[8582 rows x 5 columns]"
      ]
     },
     "execution_count": 5,
     "metadata": {},
     "output_type": "execute_result"
    }
   ],
   "source": [
    "df_val = pd.read_json('val.json', lines=True)\n",
    "df_val"
   ]
  },
  {
   "cell_type": "code",
   "execution_count": 6,
   "id": "a389ac81-59ac-4ea9-8e3f-cca81fc25a7f",
   "metadata": {},
   "outputs": [
    {
     "data": {
      "text/html": [
       "<div>\n",
       "<style scoped>\n",
       "    .dataframe tbody tr th:only-of-type {\n",
       "        vertical-align: middle;\n",
       "    }\n",
       "\n",
       "    .dataframe tbody tr th {\n",
       "        vertical-align: top;\n",
       "    }\n",
       "\n",
       "    .dataframe thead th {\n",
       "        text-align: right;\n",
       "    }\n",
       "</style>\n",
       "<table border=\"1\" class=\"dataframe\">\n",
       "  <thead>\n",
       "    <tr style=\"text-align: right;\">\n",
       "      <th></th>\n",
       "      <th>review_id</th>\n",
       "      <th>business_id</th>\n",
       "      <th>user_id</th>\n",
       "      <th>stars</th>\n",
       "      <th>date</th>\n",
       "    </tr>\n",
       "  </thead>\n",
       "  <tbody>\n",
       "    <tr>\n",
       "      <th>0</th>\n",
       "      <td>fxZAZLE2jPB2ZzN2YWOFgA</td>\n",
       "      <td>Yo8NIJEtc8UEbPd38L35ow</td>\n",
       "      <td>0tvCcnfJnSs55iB6mqPk3w</td>\n",
       "      <td>3</td>\n",
       "      <td>2019-11-06 00:57:32</td>\n",
       "    </tr>\n",
       "    <tr>\n",
       "      <th>1</th>\n",
       "      <td>SmKIRnFSd83xh9bCIpYvbw</td>\n",
       "      <td>2sx52lDoiEtef7xgPCaoBw</td>\n",
       "      <td>2MtL65B0hy5L41TFBRIdYg</td>\n",
       "      <td>5</td>\n",
       "      <td>2019-11-06 01:00:03</td>\n",
       "    </tr>\n",
       "    <tr>\n",
       "      <th>2</th>\n",
       "      <td>6Cjn4STvzl0kldW5lgpZXw</td>\n",
       "      <td>J3FUxMAHfCl-WFo86u5DqA</td>\n",
       "      <td>0911xXCgLexupPGkDJusLQ</td>\n",
       "      <td>5</td>\n",
       "      <td>2019-11-06 01:04:23</td>\n",
       "    </tr>\n",
       "    <tr>\n",
       "      <th>3</th>\n",
       "      <td>Bwg6TawW4ItRLzyirF0S4A</td>\n",
       "      <td>fWetLvfQXqpZcBQLHldUhA</td>\n",
       "      <td>augJQotyLB503iq1gVJ_tg</td>\n",
       "      <td>4</td>\n",
       "      <td>2019-11-06 01:09:45</td>\n",
       "    </tr>\n",
       "    <tr>\n",
       "      <th>4</th>\n",
       "      <td>ZT-uT0RHY_h3nhT9v-64JQ</td>\n",
       "      <td>bTzahgWasnfRM5hzCg0XQw</td>\n",
       "      <td>HfSzj04v8zU6kOFr71_ufg</td>\n",
       "      <td>5</td>\n",
       "      <td>2019-11-06 01:17:54</td>\n",
       "    </tr>\n",
       "    <tr>\n",
       "      <th>...</th>\n",
       "      <td>...</td>\n",
       "      <td>...</td>\n",
       "      <td>...</td>\n",
       "      <td>...</td>\n",
       "      <td>...</td>\n",
       "    </tr>\n",
       "    <tr>\n",
       "      <th>8577</th>\n",
       "      <td>FiPbA0hoFvmEKNWX2D7vEg</td>\n",
       "      <td>L79b_FccWEKr-lON9tx5-g</td>\n",
       "      <td>TG077RFpEVEi8mMZ38GnYQ</td>\n",
       "      <td>5</td>\n",
       "      <td>2019-12-13 13:40:08</td>\n",
       "    </tr>\n",
       "    <tr>\n",
       "      <th>8578</th>\n",
       "      <td>nmAAhMGwq_QyT69YaZTHPw</td>\n",
       "      <td>zelX9HDxrnS-_LcvVy82cA</td>\n",
       "      <td>2WFckFVE5ARdYrLzwg-koA</td>\n",
       "      <td>2</td>\n",
       "      <td>2019-12-13 14:12:42</td>\n",
       "    </tr>\n",
       "    <tr>\n",
       "      <th>8579</th>\n",
       "      <td>Gr0ax0gA6h4z5-lPyug3Jw</td>\n",
       "      <td>R8MlQBl08OICEJOvwsw25g</td>\n",
       "      <td>dEB3Q2_L3q_bPrslU2koIw</td>\n",
       "      <td>5</td>\n",
       "      <td>2019-12-13 14:37:28</td>\n",
       "    </tr>\n",
       "    <tr>\n",
       "      <th>8580</th>\n",
       "      <td>bwswkgcVgsv_IPzqMdA4ow</td>\n",
       "      <td>xfWdUmrz2ha3rcigyITV0g</td>\n",
       "      <td>iW6YSCu3YVI-SNPNi0I-xg</td>\n",
       "      <td>5</td>\n",
       "      <td>2019-12-13 14:45:29</td>\n",
       "    </tr>\n",
       "    <tr>\n",
       "      <th>8581</th>\n",
       "      <td>qUxCvPEkl7xrmY-n1szciA</td>\n",
       "      <td>VrGI7_nRjXpn0415S3coGQ</td>\n",
       "      <td>D3XxyNOy8b_1484Oi1eYOg</td>\n",
       "      <td>5</td>\n",
       "      <td>2019-12-13 15:32:07</td>\n",
       "    </tr>\n",
       "  </tbody>\n",
       "</table>\n",
       "<p>8582 rows × 5 columns</p>\n",
       "</div>"
      ],
      "text/plain": [
       "                   review_id             business_id                 user_id  \\\n",
       "0     fxZAZLE2jPB2ZzN2YWOFgA  Yo8NIJEtc8UEbPd38L35ow  0tvCcnfJnSs55iB6mqPk3w   \n",
       "1     SmKIRnFSd83xh9bCIpYvbw  2sx52lDoiEtef7xgPCaoBw  2MtL65B0hy5L41TFBRIdYg   \n",
       "2     6Cjn4STvzl0kldW5lgpZXw  J3FUxMAHfCl-WFo86u5DqA  0911xXCgLexupPGkDJusLQ   \n",
       "3     Bwg6TawW4ItRLzyirF0S4A  fWetLvfQXqpZcBQLHldUhA  augJQotyLB503iq1gVJ_tg   \n",
       "4     ZT-uT0RHY_h3nhT9v-64JQ  bTzahgWasnfRM5hzCg0XQw  HfSzj04v8zU6kOFr71_ufg   \n",
       "...                      ...                     ...                     ...   \n",
       "8577  FiPbA0hoFvmEKNWX2D7vEg  L79b_FccWEKr-lON9tx5-g  TG077RFpEVEi8mMZ38GnYQ   \n",
       "8578  nmAAhMGwq_QyT69YaZTHPw  zelX9HDxrnS-_LcvVy82cA  2WFckFVE5ARdYrLzwg-koA   \n",
       "8579  Gr0ax0gA6h4z5-lPyug3Jw  R8MlQBl08OICEJOvwsw25g  dEB3Q2_L3q_bPrslU2koIw   \n",
       "8580  bwswkgcVgsv_IPzqMdA4ow  xfWdUmrz2ha3rcigyITV0g  iW6YSCu3YVI-SNPNi0I-xg   \n",
       "8581  qUxCvPEkl7xrmY-n1szciA  VrGI7_nRjXpn0415S3coGQ  D3XxyNOy8b_1484Oi1eYOg   \n",
       "\n",
       "      stars                date  \n",
       "0         3 2019-11-06 00:57:32  \n",
       "1         5 2019-11-06 01:00:03  \n",
       "2         5 2019-11-06 01:04:23  \n",
       "3         4 2019-11-06 01:09:45  \n",
       "4         5 2019-11-06 01:17:54  \n",
       "...     ...                 ...  \n",
       "8577      5 2019-12-13 13:40:08  \n",
       "8578      2 2019-12-13 14:12:42  \n",
       "8579      5 2019-12-13 14:37:28  \n",
       "8580      5 2019-12-13 14:45:29  \n",
       "8581      5 2019-12-13 15:32:07  \n",
       "\n",
       "[8582 rows x 5 columns]"
      ]
     },
     "execution_count": 6,
     "metadata": {},
     "output_type": "execute_result"
    }
   ],
   "source": [
    "df_test = pd.read_json('test.json', lines=True)\n",
    "df_test"
   ]
  },
  {
   "cell_type": "markdown",
   "id": "f4b7a020-2684-4990-8285-fcaf1d60db6d",
   "metadata": {
    "tags": []
   },
   "source": [
    "## Task 1"
   ]
  },
  {
   "cell_type": "markdown",
   "id": "2c62f546-bada-45d9-a282-ffd9eb768994",
   "metadata": {},
   "source": [
    "Estimate the global bias $b_g$, user specific bias $b^{(user)}_{i}$ and item specific bias $b^{(item)}_{j}$ on the **training data**."
   ]
  },
  {
   "cell_type": "code",
   "execution_count": 7,
   "id": "8a5b3f3e-6919-45fe-a1a3-2a61a76ee9e5",
   "metadata": {},
   "outputs": [
    {
     "name": "stdout",
     "output_type": "stream",
     "text": [
      "The global bias is: 3.8290028774583242\n",
      "The user specific bias is: -0.4605818248267455\n",
      "The item specific bias is: -0.05122509968054656\n"
     ]
    }
   ],
   "source": [
    "bg = df_train.stars.sum()/len(df_train.stars)\n",
    "print(\"The global bias is:\", bg)\n",
    "user_specific_stars = df_train.loc[df_train.user_id == \"b4aIMeXOx4cn3bjtdIOo6Q\"].stars\n",
    "b_user = user_specific_stars.sum()/len(user_specific_stars)-bg\n",
    "print(\"The user specific bias is:\", b_user)\n",
    "item_specific_stars = df_train.loc[df_train.business_id == \"7VQYoXk3Tc8EZeKuXeixeg\"].stars\n",
    "b_item = item_specific_stars.sum()/len(item_specific_stars)-bg\n",
    "print(\"The item specific bias is:\", b_item)"
   ]
  },
  {
   "cell_type": "markdown",
   "id": "ca8d46ff-9006-4f26-8c31-70a6306f16d0",
   "metadata": {},
   "source": [
    "Note: Estimating the biases for all users and items on the training data will be done at Task 4."
   ]
  },
  {
   "cell_type": "markdown",
   "id": "7009e8ee-8bd6-4d36-b4c6-d18caf333463",
   "metadata": {
    "tags": []
   },
   "source": [
    "## Task 2"
   ]
  },
  {
   "cell_type": "markdown",
   "id": "307b4853-b95a-41bc-b9db-6c176473db20",
   "metadata": {},
   "source": [
    "Implement the basic latent factor model without considering the bias: $r_{ij} = q^{T}_ip_j$."
   ]
  },
  {
   "cell_type": "code",
   "execution_count": 8,
   "id": "1fb085c1-98a6-42ab-9624-4abba6620a9f",
   "metadata": {},
   "outputs": [],
   "source": [
    "# SGD Optimizer for Latent Factor Model\n",
    "def SGD_for_LFM(R, k, eta, epochs, lambda_1, lambda_2):\n",
    "    # Initialize user and item profile vectors\n",
    "    Q = np.random.normal(0, 0.2, (R.shape[0],k))      #train user 41657\n",
    "    P = np.random.normal(0, 0.2, (R.shape[1],k)).T    #train item 7954\n",
    "    RMSE_List = []\n",
    "    for epoch in range(epochs):\n",
    "        SSE = 0\n",
    "        count = 0\n",
    "        # For each rating of user i, item j\n",
    "        for i, j in zip(R.nonzero()[0], R.nonzero()[1]):\n",
    "            # Calculate current error\n",
    "            error = R[i,j] - np.dot(Q[i,:], P[:,j])\n",
    "            # Update for the f-th factor\n",
    "            for f in range(k):\n",
    "                Q[i,f] -= eta * (-2 * error * P[f,j] + 2 * lambda_1 * Q[i,f])\n",
    "                P[f,j] -= eta * (-2 * error * Q[i,f] + 2 * lambda_2 * P[f,j])\n",
    "            # Update the error\n",
    "            update_error = R[i,j] - np.dot(Q[i,:], P[:,j])\n",
    "            # Calculate SSE\n",
    "            SSE += np.square(update_error)\n",
    "            count += 1\n",
    "        # Calculate RMSE\n",
    "        RMSE = np.sqrt(SSE / count)\n",
    "        RMSE_List.append(RMSE)\n",
    "    return Q, P, RMSE_List"
   ]
  },
  {
   "cell_type": "code",
   "execution_count": 9,
   "id": "734e0564-8362-4b74-bd89-b4f9276bd64e",
   "metadata": {},
   "outputs": [
    {
     "data": {
      "text/plain": [
       "(41657, 7954)"
      ]
     },
     "execution_count": 9,
     "metadata": {},
     "output_type": "execute_result"
    }
   ],
   "source": [
    "# Convert training set to sparse matrix\n",
    "pivot_table = pd.pivot_table(df_train, values='stars', index='user_id', columns='business_id', fill_value=0)\n",
    "R = lil_matrix(pivot_table.values)\n",
    "R.shape"
   ]
  },
  {
   "cell_type": "code",
   "execution_count": 10,
   "id": "a13de74f-9d24-4ad7-ac43-dbfc91f6e942",
   "metadata": {},
   "outputs": [],
   "source": [
    "# Use SGD to train the latent factor model\n",
    "SGD_for_LFM_results = Parallel(n_jobs = -1)(delayed(SGD_for_LFM)(R, k,\n",
    "                      eta=0.01, epochs=10, lambda_1=0.3, lambda_2=0.3) for k in [4,8,16])"
   ]
  },
  {
   "cell_type": "code",
   "execution_count": 11,
   "id": "594f36d2-b607-4e89-9616-cbc15c85f5d9",
   "metadata": {},
   "outputs": [
    {
     "data": {
      "text/plain": [
       "[2.8539425066518604,\n",
       " 1.4145474210470115,\n",
       " 1.071321459564732,\n",
       " 1.0283522672275105,\n",
       " 1.016809299637798,\n",
       " 1.0115752789305814,\n",
       " 1.0084159538344568,\n",
       " 1.0061627098094224,\n",
       " 1.0043585741852445,\n",
       " 1.0027819337562456]"
      ]
     },
     "execution_count": 11,
     "metadata": {},
     "output_type": "execute_result"
    }
   ],
   "source": [
    "# R_hat = Q.dot(P)\n",
    "R_hat_k4 = SGD_for_LFM_results[0][0].dot(SGD_for_LFM_results[0][1])\n",
    "R_hat_k8 = SGD_for_LFM_results[1][0].dot(SGD_for_LFM_results[1][1])\n",
    "R_hat_k16 = SGD_for_LFM_results[2][0].dot(SGD_for_LFM_results[2][1])\n",
    "RMSE_k8 = SGD_for_LFM_results[1][2]\n",
    "RMSE_k8"
   ]
  },
  {
   "cell_type": "code",
   "execution_count": 12,
   "id": "edbb359f-0507-483b-9d6b-ba1e9523bef6",
   "metadata": {},
   "outputs": [
    {
     "data": {
      "image/png": "[encoded data removed]",
      "text/plain": [
       "<Figure size 600x400 with 1 Axes>"
      ]
     },
     "metadata": {
      "needs_background": "light"
     },
     "output_type": "display_data"
    }
   ],
   "source": [
    "plt.figure(dpi=100)\n",
    "x = np.arange(1,11)\n",
    "y = RMSE_k8\n",
    "plt.plot(x, y, label='RMSE for each epoch')\n",
    "plt.legend(loc='upper right')\n",
    "plt.xlabel('Epochs')\n",
    "plt.ylabel('RMSE')\n",
    "plt.gca().xaxis.set_major_locator(plt.MultipleLocator(1))\n",
    "plt.grid()\n",
    "plt.show()"
   ]
  },
  {
   "cell_type": "markdown",
   "id": "1101aac4-d909-43d2-a3a5-b2f2c49bf904",
   "metadata": {},
   "source": [
    "From the above results, it can be seen that when k = 8, as the number of epochs increases, the RMSE decreases. Especially when epoch <= 3, the RMSE drops rapidly, then gradually becomes stable."
   ]
  },
  {
   "cell_type": "markdown",
   "id": "0c2bf70d-c205-4b62-8982-acf312ecc96c",
   "metadata": {
    "tags": []
   },
   "source": [
    "## Task 3"
   ]
  },
  {
   "cell_type": "markdown",
   "id": "5eaf3652-9f1c-44f8-ad2b-cc748893b55a",
   "metadata": {},
   "source": [
    "Use SGD to train the latent factor model with different values of k in {4, 8, 16} and stop after 10 epoches."
   ]
  },
  {
   "cell_type": "markdown",
   "id": "62a028f8-6f9b-438a-8055-547b4b271116",
   "metadata": {},
   "source": [
    "### 3.1 Combine all training results into one table"
   ]
  },
  {
   "cell_type": "code",
   "execution_count": 13,
   "id": "ffbd9f83-9c86-4133-a0df-a4a02ecee9e0",
   "metadata": {},
   "outputs": [
    {
     "data": {
      "text/html": [
       "<div>\n",
       "<style scoped>\n",
       "    .dataframe tbody tr th:only-of-type {\n",
       "        vertical-align: middle;\n",
       "    }\n",
       "\n",
       "    .dataframe tbody tr th {\n",
       "        vertical-align: top;\n",
       "    }\n",
       "\n",
       "    .dataframe thead th {\n",
       "        text-align: right;\n",
       "    }\n",
       "</style>\n",
       "<table border=\"1\" class=\"dataframe\">\n",
       "  <thead>\n",
       "    <tr style=\"text-align: right;\">\n",
       "      <th></th>\n",
       "      <th>user_id</th>\n",
       "      <th>business_id</th>\n",
       "      <th>stars</th>\n",
       "      <th>predict_k4</th>\n",
       "      <th>predict_k8</th>\n",
       "      <th>predict_k16</th>\n",
       "    </tr>\n",
       "  </thead>\n",
       "  <tbody>\n",
       "    <tr>\n",
       "      <th>0</th>\n",
       "      <td>---1lKK3aKOuomHnwAkAow</td>\n",
       "      <td>--9e1ONYQuAa-CB_Rrw7Tw</td>\n",
       "      <td>4</td>\n",
       "      <td>3.653991</td>\n",
       "      <td>3.644876</td>\n",
       "      <td>3.636833</td>\n",
       "    </tr>\n",
       "    <tr>\n",
       "      <th>1</th>\n",
       "      <td>--0kuuLmuYBe3Rmu0Iycww</td>\n",
       "      <td>--9e1ONYQuAa-CB_Rrw7Tw</td>\n",
       "      <td>0</td>\n",
       "      <td>3.070060</td>\n",
       "      <td>3.044872</td>\n",
       "      <td>2.879085</td>\n",
       "    </tr>\n",
       "    <tr>\n",
       "      <th>2</th>\n",
       "      <td>--2vR0DIsmQ6WfcSzKWigw</td>\n",
       "      <td>--9e1ONYQuAa-CB_Rrw7Tw</td>\n",
       "      <td>0</td>\n",
       "      <td>4.361312</td>\n",
       "      <td>4.360798</td>\n",
       "      <td>4.362140</td>\n",
       "    </tr>\n",
       "    <tr>\n",
       "      <th>3</th>\n",
       "      <td>--CIuK7sUpaNzalLAlHJKA</td>\n",
       "      <td>--9e1ONYQuAa-CB_Rrw7Tw</td>\n",
       "      <td>0</td>\n",
       "      <td>2.929918</td>\n",
       "      <td>2.935240</td>\n",
       "      <td>2.926201</td>\n",
       "    </tr>\n",
       "    <tr>\n",
       "      <th>4</th>\n",
       "      <td>--HCoE1ghaAlcaAfshICgw</td>\n",
       "      <td>--9e1ONYQuAa-CB_Rrw7Tw</td>\n",
       "      <td>0</td>\n",
       "      <td>5.022018</td>\n",
       "      <td>5.033933</td>\n",
       "      <td>4.870852</td>\n",
       "    </tr>\n",
       "    <tr>\n",
       "      <th>...</th>\n",
       "      <td>...</td>\n",
       "      <td>...</td>\n",
       "      <td>...</td>\n",
       "      <td>...</td>\n",
       "      <td>...</td>\n",
       "      <td>...</td>\n",
       "    </tr>\n",
       "    <tr>\n",
       "      <th>331339773</th>\n",
       "      <td>zzMJLd3cWBM6HT8eMbOGbA</td>\n",
       "      <td>zyrF7je6qVbaJMPfMG75xg</td>\n",
       "      <td>0</td>\n",
       "      <td>2.891427</td>\n",
       "      <td>2.833138</td>\n",
       "      <td>2.900444</td>\n",
       "    </tr>\n",
       "    <tr>\n",
       "      <th>331339774</th>\n",
       "      <td>zzPvEodjvLPe-5NvV0U_cg</td>\n",
       "      <td>zyrF7je6qVbaJMPfMG75xg</td>\n",
       "      <td>0</td>\n",
       "      <td>3.160802</td>\n",
       "      <td>3.130920</td>\n",
       "      <td>3.159317</td>\n",
       "    </tr>\n",
       "    <tr>\n",
       "      <th>331339775</th>\n",
       "      <td>zzRsxXA2tQNmWex66mdVhA</td>\n",
       "      <td>zyrF7je6qVbaJMPfMG75xg</td>\n",
       "      <td>0</td>\n",
       "      <td>1.985334</td>\n",
       "      <td>2.017596</td>\n",
       "      <td>2.051486</td>\n",
       "    </tr>\n",
       "    <tr>\n",
       "      <th>331339776</th>\n",
       "      <td>zzUlFuJ5HFNEm15o9YC9Qg</td>\n",
       "      <td>zyrF7je6qVbaJMPfMG75xg</td>\n",
       "      <td>0</td>\n",
       "      <td>3.750211</td>\n",
       "      <td>3.648006</td>\n",
       "      <td>3.687585</td>\n",
       "    </tr>\n",
       "    <tr>\n",
       "      <th>331339777</th>\n",
       "      <td>zzY9daJLRVCbcm79qiZqug</td>\n",
       "      <td>zyrF7je6qVbaJMPfMG75xg</td>\n",
       "      <td>0</td>\n",
       "      <td>4.197830</td>\n",
       "      <td>4.203369</td>\n",
       "      <td>4.183014</td>\n",
       "    </tr>\n",
       "  </tbody>\n",
       "</table>\n",
       "<p>331339778 rows × 6 columns</p>\n",
       "</div>"
      ],
      "text/plain": [
       "                          user_id             business_id  stars  predict_k4  \\\n",
       "0          ---1lKK3aKOuomHnwAkAow  --9e1ONYQuAa-CB_Rrw7Tw      4    3.653991   \n",
       "1          --0kuuLmuYBe3Rmu0Iycww  --9e1ONYQuAa-CB_Rrw7Tw      0    3.070060   \n",
       "2          --2vR0DIsmQ6WfcSzKWigw  --9e1ONYQuAa-CB_Rrw7Tw      0    4.361312   \n",
       "3          --CIuK7sUpaNzalLAlHJKA  --9e1ONYQuAa-CB_Rrw7Tw      0    2.929918   \n",
       "4          --HCoE1ghaAlcaAfshICgw  --9e1ONYQuAa-CB_Rrw7Tw      0    5.022018   \n",
       "...                           ...                     ...    ...         ...   \n",
       "331339773  zzMJLd3cWBM6HT8eMbOGbA  zyrF7je6qVbaJMPfMG75xg      0    2.891427   \n",
       "331339774  zzPvEodjvLPe-5NvV0U_cg  zyrF7je6qVbaJMPfMG75xg      0    3.160802   \n",
       "331339775  zzRsxXA2tQNmWex66mdVhA  zyrF7je6qVbaJMPfMG75xg      0    1.985334   \n",
       "331339776  zzUlFuJ5HFNEm15o9YC9Qg  zyrF7je6qVbaJMPfMG75xg      0    3.750211   \n",
       "331339777  zzY9daJLRVCbcm79qiZqug  zyrF7je6qVbaJMPfMG75xg      0    4.197830   \n",
       "\n",
       "           predict_k8  predict_k16  \n",
       "0            3.644876     3.636833  \n",
       "1            3.044872     2.879085  \n",
       "2            4.360798     4.362140  \n",
       "3            2.935240     2.926201  \n",
       "4            5.033933     4.870852  \n",
       "...               ...          ...  \n",
       "331339773    2.833138     2.900444  \n",
       "331339774    3.130920     3.159317  \n",
       "331339775    2.017596     2.051486  \n",
       "331339776    3.648006     3.687585  \n",
       "331339777    4.203369     4.183014  \n",
       "\n",
       "[331339778 rows x 6 columns]"
      ]
     },
     "execution_count": 13,
     "metadata": {},
     "output_type": "execute_result"
    }
   ],
   "source": [
    "# Revert pivot table to regular data frame\n",
    "pivot_table_copy = pivot_table.copy(deep=True)\n",
    "pivot_table_copy.columns.name = None\n",
    "pivot_table_copy = pivot_table_copy.reset_index()\n",
    "df_predict = pd.melt(pivot_table_copy, id_vars='user_id', var_name='business_id', value_name='stars')\n",
    "# Add all training results as columns\n",
    "df_predict['predict_k4'] = R_hat_k4.T.reshape(-1)\n",
    "df_predict['predict_k8'] = R_hat_k8.T.reshape(-1)\n",
    "df_predict['predict_k16'] = R_hat_k16.T.reshape(-1)\n",
    "df_predict"
   ]
  },
  {
   "cell_type": "markdown",
   "id": "f8fdca03-0887-4c59-975a-1348f871e21e",
   "metadata": {},
   "source": [
    "### 3.2 Merge training results with validation data"
   ]
  },
  {
   "cell_type": "code",
   "execution_count": 14,
   "id": "020deed1-e148-4bae-b413-b057aff0c592",
   "metadata": {},
   "outputs": [],
   "source": [
    "def merge_dataframe(df):\n",
    "    df_merge = pd.merge(df, df_predict.drop(columns=['stars']), how='left', on=['user_id', 'business_id'])\n",
    "    df_merge.drop(columns=['review_id', 'date'], inplace = True)\n",
    "    return df_merge"
   ]
  },
  {
   "cell_type": "code",
   "execution_count": 15,
   "id": "d788bb18-50ed-418f-92c9-ff25e913791b",
   "metadata": {},
   "outputs": [],
   "source": [
    "def fill_nan(df_merge):\n",
    "    # Take out the subset containing NaN values\n",
    "    df_nan = df_merge[df_merge.predict_k4.isnull().values==True]\n",
    "    # Check if user and business exist in the training set\n",
    "    df_nan['user_in_train'] = df_nan.apply(lambda x: 'yes' if x.user_id in df_train.user_id.values else 'no', axis=1)\n",
    "    df_nan['business_in_train'] = df_nan.apply(lambda x: 'yes' if x.business_id in df_train.business_id.values else 'no', axis=1)\n",
    "    # Calculate and fill missing stars\n",
    "    for b, u, u_in_train, b_in_train in zip(df_nan.business_id, df_nan.user_id, df_nan.user_in_train, df_nan.business_in_train):\n",
    "        # If only business exist in the training set\n",
    "        if (u_in_train == 'no') & (b_in_train == 'yes'):\n",
    "            # Use the average of stars obtained by the business as the predicted value\n",
    "            bstars = df_train.stars[df_train.business_id == b].sum() / len(df_train.stars[df_train.business_id == b])\n",
    "            df_nan.predict_k4[(df_nan.user_id == u) & (df_nan.business_id == b)] = bstars\n",
    "        # If only user exist in the training set\n",
    "        elif (u_in_train == 'yes') & (b_in_train == 'no'):\n",
    "            # Use the average of stars given by the user as the predicted value\n",
    "            ustars = df_train.stars[df_train.user_id == u].sum() / len(df_train.stars[df_train.user_id == u])\n",
    "            df_nan.predict_k4[(df_nan.user_id == u) & (df_nan.business_id == b)] = ustars\n",
    "        # If neither exist in the training set\n",
    "        elif (u_in_train == 'no') & (b_in_train == 'no'):\n",
    "            # Use the average of all stars as the predicted value\n",
    "            nstars = df_train.stars.sum() / len(df_train.stars)\n",
    "            df_nan.predict_k4[(df_nan.user_id == u) & (df_nan.business_id == b)] = nstars\n",
    "    # Same as k=8 or k=16\n",
    "    df_nan.predict_k8 = df_nan.predict_k4\n",
    "    df_nan.predict_k16 = df_nan.predict_k4\n",
    "    df_nan.drop(columns=['user_in_train', 'business_in_train'], inplace=True)\n",
    "    # Put the average predicted value in the subset back into the df_merge\n",
    "    for i in df_nan.index:\n",
    "        df_merge[df_merge.index == i] = df_nan[df_nan.index == i]\n",
    "    return df_merge"
   ]
  },
  {
   "cell_type": "code",
   "execution_count": 16,
   "id": "9d695e4a-e4eb-492d-b769-9de5b23acecb",
   "metadata": {},
   "outputs": [
    {
     "data": {
      "text/plain": [
       "business_id      0\n",
       "user_id          0\n",
       "stars            0\n",
       "predict_k4     388\n",
       "predict_k8     388\n",
       "predict_k16    388\n",
       "dtype: int64"
      ]
     },
     "execution_count": 16,
     "metadata": {},
     "output_type": "execute_result"
    }
   ],
   "source": [
    "df_val_predict = merge_dataframe(df_val)\n",
    "# Check for NaN values\n",
    "df_val_predict.isnull().sum()"
   ]
  },
  {
   "cell_type": "markdown",
   "id": "c55f0178-c21e-48d7-9369-e7532aef2123",
   "metadata": {},
   "source": [
    "In the validation data, some users and businesses do not appear in the training data. For only user but no business, we use the average stars of this user as the prediction; for only  business but no user, we use the average stars of this business as the prediction; for neither user nor business, we use the global average stars as the prediction."
   ]
  },
  {
   "cell_type": "code",
   "execution_count": 17,
   "id": "23c9aba7-a47f-4451-89eb-5d3fb815bd2e",
   "metadata": {},
   "outputs": [
    {
     "data": {
      "text/plain": [
       "business_id    0\n",
       "user_id        0\n",
       "stars          0\n",
       "predict_k4     0\n",
       "predict_k8     0\n",
       "predict_k16    0\n",
       "dtype: int64"
      ]
     },
     "execution_count": 17,
     "metadata": {},
     "output_type": "execute_result"
    }
   ],
   "source": [
    "df_val_predict = fill_nan(df_val_predict)\n",
    "# Check for NaN values again\n",
    "df_val_predict.isnull().sum()"
   ]
  },
  {
   "cell_type": "code",
   "execution_count": 18,
   "id": "9451854e-5ef5-4229-93af-01116aceedeb",
   "metadata": {},
   "outputs": [
    {
     "data": {
      "text/html": [
       "<div>\n",
       "<style scoped>\n",
       "    .dataframe tbody tr th:only-of-type {\n",
       "        vertical-align: middle;\n",
       "    }\n",
       "\n",
       "    .dataframe tbody tr th {\n",
       "        vertical-align: top;\n",
       "    }\n",
       "\n",
       "    .dataframe thead th {\n",
       "        text-align: right;\n",
       "    }\n",
       "</style>\n",
       "<table border=\"1\" class=\"dataframe\">\n",
       "  <thead>\n",
       "    <tr style=\"text-align: right;\">\n",
       "      <th></th>\n",
       "      <th>business_id</th>\n",
       "      <th>user_id</th>\n",
       "      <th>stars</th>\n",
       "      <th>predict_k4</th>\n",
       "      <th>predict_k8</th>\n",
       "      <th>predict_k16</th>\n",
       "    </tr>\n",
       "  </thead>\n",
       "  <tbody>\n",
       "    <tr>\n",
       "      <th>0</th>\n",
       "      <td>TyuFl3J4fUDB573AHu5uBQ</td>\n",
       "      <td>1nDMoT9DVNqEpdQHx58_Fg</td>\n",
       "      <td>5</td>\n",
       "      <td>3.810989</td>\n",
       "      <td>3.721780</td>\n",
       "      <td>3.817084</td>\n",
       "    </tr>\n",
       "    <tr>\n",
       "      <th>1</th>\n",
       "      <td>eSILD9dtyDApgcL5Lwxu9Q</td>\n",
       "      <td>o_y7a6cX9rFwRP0Mu2bhrg</td>\n",
       "      <td>5</td>\n",
       "      <td>3.920989</td>\n",
       "      <td>4.012485</td>\n",
       "      <td>3.914553</td>\n",
       "    </tr>\n",
       "    <tr>\n",
       "      <th>2</th>\n",
       "      <td>kJl3l4fSa2spv_Mkhgogmg</td>\n",
       "      <td>EOSdJO9YY4g3GL0Hwj093g</td>\n",
       "      <td>1</td>\n",
       "      <td>3.123490</td>\n",
       "      <td>3.161561</td>\n",
       "      <td>3.071073</td>\n",
       "    </tr>\n",
       "    <tr>\n",
       "      <th>3</th>\n",
       "      <td>xK3SuX2yYyx1syvWtToqBw</td>\n",
       "      <td>oagZh5A2cWJXZBLakS_KpQ</td>\n",
       "      <td>5</td>\n",
       "      <td>3.640813</td>\n",
       "      <td>3.963766</td>\n",
       "      <td>3.532960</td>\n",
       "    </tr>\n",
       "    <tr>\n",
       "      <th>4</th>\n",
       "      <td>ICWRXA2TXYYoAfLibm7Myw</td>\n",
       "      <td>wdJgF0wnDqMjGsv2Js6paw</td>\n",
       "      <td>5</td>\n",
       "      <td>3.858621</td>\n",
       "      <td>3.856142</td>\n",
       "      <td>3.734774</td>\n",
       "    </tr>\n",
       "    <tr>\n",
       "      <th>...</th>\n",
       "      <td>...</td>\n",
       "      <td>...</td>\n",
       "      <td>...</td>\n",
       "      <td>...</td>\n",
       "      <td>...</td>\n",
       "      <td>...</td>\n",
       "    </tr>\n",
       "    <tr>\n",
       "      <th>8577</th>\n",
       "      <td>Tefx_N6A6nrsdj4jHHnbYg</td>\n",
       "      <td>TGSi0e7-ovol_PBIQgodOg</td>\n",
       "      <td>4</td>\n",
       "      <td>4.120704</td>\n",
       "      <td>4.115353</td>\n",
       "      <td>4.123171</td>\n",
       "    </tr>\n",
       "    <tr>\n",
       "      <th>8578</th>\n",
       "      <td>2sx52lDoiEtef7xgPCaoBw</td>\n",
       "      <td>L8cvMZLWmM4qWTl9SkxJ8g</td>\n",
       "      <td>5</td>\n",
       "      <td>3.485563</td>\n",
       "      <td>3.482417</td>\n",
       "      <td>3.435552</td>\n",
       "    </tr>\n",
       "    <tr>\n",
       "      <th>8579</th>\n",
       "      <td>NKh691Q7BZZ2r0f2RJxdsg</td>\n",
       "      <td>TGSi0e7-ovol_PBIQgodOg</td>\n",
       "      <td>1</td>\n",
       "      <td>3.876019</td>\n",
       "      <td>3.862533</td>\n",
       "      <td>3.871840</td>\n",
       "    </tr>\n",
       "    <tr>\n",
       "      <th>8580</th>\n",
       "      <td>cn6Lguvd8T2pWq4-WNLHpQ</td>\n",
       "      <td>iPceDCz6O2__AZK00w4gQw</td>\n",
       "      <td>4</td>\n",
       "      <td>3.849654</td>\n",
       "      <td>3.858469</td>\n",
       "      <td>3.864957</td>\n",
       "    </tr>\n",
       "    <tr>\n",
       "      <th>8581</th>\n",
       "      <td>jxbEwtV8Et1lm8ubk4AGuw</td>\n",
       "      <td>WywMDFqjC_ViJUXQA600DQ</td>\n",
       "      <td>2</td>\n",
       "      <td>4.220410</td>\n",
       "      <td>4.259922</td>\n",
       "      <td>4.200278</td>\n",
       "    </tr>\n",
       "  </tbody>\n",
       "</table>\n",
       "<p>8582 rows × 6 columns</p>\n",
       "</div>"
      ],
      "text/plain": [
       "                 business_id                 user_id  stars  predict_k4  \\\n",
       "0     TyuFl3J4fUDB573AHu5uBQ  1nDMoT9DVNqEpdQHx58_Fg      5    3.810989   \n",
       "1     eSILD9dtyDApgcL5Lwxu9Q  o_y7a6cX9rFwRP0Mu2bhrg      5    3.920989   \n",
       "2     kJl3l4fSa2spv_Mkhgogmg  EOSdJO9YY4g3GL0Hwj093g      1    3.123490   \n",
       "3     xK3SuX2yYyx1syvWtToqBw  oagZh5A2cWJXZBLakS_KpQ      5    3.640813   \n",
       "4     ICWRXA2TXYYoAfLibm7Myw  wdJgF0wnDqMjGsv2Js6paw      5    3.858621   \n",
       "...                      ...                     ...    ...         ...   \n",
       "8577  Tefx_N6A6nrsdj4jHHnbYg  TGSi0e7-ovol_PBIQgodOg      4    4.120704   \n",
       "8578  2sx52lDoiEtef7xgPCaoBw  L8cvMZLWmM4qWTl9SkxJ8g      5    3.485563   \n",
       "8579  NKh691Q7BZZ2r0f2RJxdsg  TGSi0e7-ovol_PBIQgodOg      1    3.876019   \n",
       "8580  cn6Lguvd8T2pWq4-WNLHpQ  iPceDCz6O2__AZK00w4gQw      4    3.849654   \n",
       "8581  jxbEwtV8Et1lm8ubk4AGuw  WywMDFqjC_ViJUXQA600DQ      2    4.220410   \n",
       "\n",
       "      predict_k8  predict_k16  \n",
       "0       3.721780     3.817084  \n",
       "1       4.012485     3.914553  \n",
       "2       3.161561     3.071073  \n",
       "3       3.963766     3.532960  \n",
       "4       3.856142     3.734774  \n",
       "...          ...          ...  \n",
       "8577    4.115353     4.123171  \n",
       "8578    3.482417     3.435552  \n",
       "8579    3.862533     3.871840  \n",
       "8580    3.858469     3.864957  \n",
       "8581    4.259922     4.200278  \n",
       "\n",
       "[8582 rows x 6 columns]"
      ]
     },
     "execution_count": 18,
     "metadata": {},
     "output_type": "execute_result"
    }
   ],
   "source": [
    "df_val_predict"
   ]
  },
  {
   "cell_type": "markdown",
   "id": "e0710b3b-e470-4d61-97e7-9878550865e0",
   "metadata": {},
   "source": [
    "### 3.3 Report the RMSE for each value of k on the validation data"
   ]
  },
  {
   "cell_type": "code",
   "execution_count": 19,
   "id": "2c7a3893-c8ce-48a0-adcc-db4ad2088cd2",
   "metadata": {},
   "outputs": [
    {
     "name": "stdout",
     "output_type": "stream",
     "text": [
      "When k=4, the RMSE on the validation data is: 1.306177059053072\n",
      "When k=8, the RMSE on the validation data is: 1.307397277197805\n",
      "When k=16, the RMSE on the validation data is: 1.3100329543845974\n"
     ]
    }
   ],
   "source": [
    "# Calculate SSE\n",
    "SSE_val_k4 = np.square(df_val_predict.stars - df_val_predict.predict_k4).sum()\n",
    "SSE_val_k8 = np.square(df_val_predict.stars - df_val_predict.predict_k8).sum()\n",
    "SSE_val_k16 = np.square(df_val_predict.stars - df_val_predict.predict_k16).sum()\n",
    "# Calculate RMSE\n",
    "RMSE_val_k4 = np.sqrt(SSE_val_k4 / 8582)\n",
    "RMSE_val_k8 = np.sqrt(SSE_val_k8 / 8582)\n",
    "RMSE_val_k16 = np.sqrt(SSE_val_k16 / 8582)\n",
    "print(\"When k=4, the RMSE on the validation data is:\", RMSE_val_k4)\n",
    "print(\"When k=8, the RMSE on the validation data is:\", RMSE_val_k8)\n",
    "print(\"When k=16, the RMSE on the validation data is:\", RMSE_val_k16)"
   ]
  },
  {
   "cell_type": "code",
   "execution_count": 20,
   "id": "c3f2bb9a-d796-4bce-8eca-42c3445d1666",
   "metadata": {},
   "outputs": [
    {
     "data": {
      "image/png": "[encoded data removed]",
      "text/plain": [
       "<Figure size 600x400 with 1 Axes>"
      ]
     },
     "metadata": {
      "needs_background": "light"
     },
     "output_type": "display_data"
    }
   ],
   "source": [
    "plt.figure(dpi=100)\n",
    "x = [4, 8, 16]\n",
    "y = [RMSE_val_k4, RMSE_val_k8, RMSE_val_k16]\n",
    "plt.plot(x, y, label='RMSE for each k')\n",
    "plt.legend(loc='lower right')\n",
    "plt.xlabel('Value of k')\n",
    "plt.ylabel('RMSE')\n",
    "plt.gca().xaxis.set_major_locator(plt.MultipleLocator(4))\n",
    "plt.grid()\n",
    "plt.show()"
   ]
  },
  {
   "cell_type": "markdown",
   "id": "3f3781a0-25b2-4e97-a111-fa8fc0db669a",
   "metadata": {},
   "source": [
    "From the above results, it can be seen that when k=4, the validation data has the smallest RMSE on the model, so we pick k=4 to apply to the test data.  \n",
    "Note: In several experiments, it was found that due to the existence of randomness, sometimes k=8, the RMSE is the smallest, but most of the time, when k=4, the RMSE is the smallest. Therefore we still pick k=4 here."
   ]
  },
  {
   "cell_type": "markdown",
   "id": "517823d2-88e0-45f8-902f-1dd06b5602db",
   "metadata": {},
   "source": [
    "### 3.4 Pick the best model and report its RMSE on the test data"
   ]
  },
  {
   "cell_type": "code",
   "execution_count": 21,
   "id": "8c24bbf8-1fbc-4d01-bdca-369ba84e43f7",
   "metadata": {},
   "outputs": [
    {
     "data": {
      "text/plain": [
       "business_id      0\n",
       "user_id          0\n",
       "stars            0\n",
       "predict_k4     531\n",
       "predict_k8     531\n",
       "predict_k16    531\n",
       "dtype: int64"
      ]
     },
     "execution_count": 21,
     "metadata": {},
     "output_type": "execute_result"
    }
   ],
   "source": [
    "df_test_predict = merge_dataframe(df_test)\n",
    "# Check for NaN values\n",
    "df_test_predict.isnull().sum()"
   ]
  },
  {
   "cell_type": "markdown",
   "id": "21579174-e64b-48c7-a168-6164d8382a24",
   "metadata": {},
   "source": [
    "Same as before, for test data, we use the average star as the prediction for users and businesses not appear in the training data."
   ]
  },
  {
   "cell_type": "code",
   "execution_count": 22,
   "id": "040a6ca1-76ce-45ef-a8ff-10b5275be6ee",
   "metadata": {},
   "outputs": [
    {
     "data": {
      "text/plain": [
       "business_id    0\n",
       "user_id        0\n",
       "stars          0\n",
       "predict_k4     0\n",
       "predict_k8     0\n",
       "predict_k16    0\n",
       "dtype: int64"
      ]
     },
     "execution_count": 22,
     "metadata": {},
     "output_type": "execute_result"
    }
   ],
   "source": [
    "df_test_predict = fill_nan(df_test_predict)\n",
    "# Check for NaN values again\n",
    "df_test_predict.isnull().sum()"
   ]
  },
  {
   "cell_type": "code",
   "execution_count": 23,
   "id": "a356319b-2277-4bfb-9bee-05c1cbcd91c8",
   "metadata": {},
   "outputs": [
    {
     "name": "stdout",
     "output_type": "stream",
     "text": [
      "When k=4, the RMSE on the test data is: 1.286464109596187\n"
     ]
    }
   ],
   "source": [
    "# Calculate SSE\n",
    "SSE_test_k4 = np.square(df_test_predict.stars - df_test_predict.predict_k4).sum()\n",
    "# Calculate RMSE\n",
    "RMSE_test_k4 = np.sqrt(SSE_test_k4 / 8582)\n",
    "print(\"When k=4, the RMSE on the test data is:\", RMSE_test_k4)"
   ]
  },
  {
   "cell_type": "markdown",
   "id": "0649ba36-e59d-477e-9070-e8b64ae6df4d",
   "metadata": {
    "tags": []
   },
   "source": [
    "## Task 4"
   ]
  },
  {
   "cell_type": "markdown",
   "id": "e74873c1-a3c5-45c0-a2db-3fda2531ffe6",
   "metadata": {},
   "source": [
    "Incorporate the bias terms $b_g$, $b^{(user)}_i$ and $b^{(item)}_j$ to the latent factor model: $r_{ij} = b_g + b^{(user)}_i + b^{(item)}_j + q^T_ip_j$ and learn the user bias and business bias from data."
   ]
  },
  {
   "cell_type": "code",
   "execution_count": 24,
   "id": "6b7c5642-ad30-4c9c-9cee-269a154860f7",
   "metadata": {},
   "outputs": [],
   "source": [
    "# SGD Optimizer for Latent Factor Model\n",
    "def SGD_for_LFM_with_bias(R, k, eta, epochs, lambda_1, lambda_2, lambda_3, lambda_4, bg, user_bias, item_bias):\n",
    "    # Initialize user and item profile vectors\n",
    "    Q = np.random.normal(0, 0.2, (R.shape[0],k))      #train user 41657\n",
    "    P = np.random.normal(0, 0.2, (R.shape[1],k)).T    #train item 7954\n",
    "    RMSE_List = []\n",
    "    for epoch in range(epochs):\n",
    "        SSE = 0\n",
    "        count = 0\n",
    "        # For each rating of user i, item j\n",
    "        for i, j in zip(R.nonzero()[0], R.nonzero()[1]):\n",
    "            # Get rating prediction\n",
    "            r_hat = np.dot(Q[i,:], P[:,j]) + bg + user_bias[i] + item_bias[j]\n",
    "            # Calculate current error\n",
    "            error = R[i,j] - r_hat\n",
    "            # Update for the f-th factor\n",
    "            for f in range(k):\n",
    "                Q[i,f] -= eta * (-2 * error * P[f,j] + 2 * lambda_1 * Q[i,f])\n",
    "                P[f,j] -= eta * (-2 * error * Q[i,f] + 2 * lambda_2 * P[f,j])\n",
    "            # Update the bias of user and business\n",
    "            user_bias[i] -= eta * (-2 * error + 2 * lambda_3 * user_bias[i])\n",
    "            item_bias[j] -= eta * (-2 * error + 2 * lambda_4 * item_bias[j])\n",
    "            # Update the error\n",
    "            update_error = R[i,j] - (np.dot(Q[i,:], P[:,j]) + bg + user_bias[i] + item_bias[j])\n",
    "            # Calculate SSE\n",
    "            SSE += np.square(update_error)\n",
    "            count += 1\n",
    "        # Calculate RMSE\n",
    "        RMSE = np.sqrt(SSE / count)\n",
    "        RMSE_List.append(RMSE)\n",
    "    return Q, P, RMSE_List, user_bias, item_bias"
   ]
  },
  {
   "cell_type": "code",
   "execution_count": 25,
   "id": "e65fe332-f310-4d30-aa1f-38724e42bd4b",
   "metadata": {},
   "outputs": [],
   "source": [
    "# Calculate the bias of all users and businesses on the training data\n",
    "user_bias = np.squeeze((R.sum(1) / (R!=0).sum(1) - bg).tolist())\n",
    "item_bias = np.squeeze((R.sum(0) / (R!=0).sum(0) - bg).tolist())"
   ]
  },
  {
   "cell_type": "code",
   "execution_count": 26,
   "id": "26fa7c6a-9de5-45ba-afdf-61726b42f0a4",
   "metadata": {},
   "outputs": [],
   "source": [
    "# Use SGD to train the latent factor model with bias\n",
    "SGD_for_LFM_with_bias_results = Parallel(n_jobs = -1)(delayed(SGD_for_LFM_with_bias)(R, k, eta=0.01, epochs=10,\n",
    "                                lambda_1=0.3, lambda_2=0.3, lambda_3=0.3, lambda_4=0.3,\n",
    "                                bg=bg, user_bias=user_bias, item_bias=item_bias) for k in [4,8,16])"
   ]
  },
  {
   "cell_type": "code",
   "execution_count": 27,
   "id": "f74fa121-edce-4b79-86c8-56b51fd3f74b",
   "metadata": {},
   "outputs": [],
   "source": [
    "new_user_bias = SGD_for_LFM_with_bias_results[1][3]\n",
    "new_item_bias = SGD_for_LFM_with_bias_results[1][4]"
   ]
  },
  {
   "cell_type": "code",
   "execution_count": 28,
   "id": "5351e7bb-1609-4127-8cd6-4b13cabe8fb0",
   "metadata": {},
   "outputs": [
    {
     "data": {
      "text/plain": [
       "[1.0448396491897736,\n",
       " 1.0433355687564143,\n",
       " 1.043391718008675,\n",
       " 1.0435546126976727,\n",
       " 1.0436822855793924,\n",
       " 1.0437371451835356,\n",
       " 1.0437068074240812,\n",
       " 1.043587773414925,\n",
       " 1.0433798990566645,\n",
       " 1.0430841007268907]"
      ]
     },
     "execution_count": 28,
     "metadata": {},
     "output_type": "execute_result"
    }
   ],
   "source": [
    "# R_hat = Q.dot(P) + bg + bi + bj\n",
    "R_hat_k4 = SGD_for_LFM_with_bias_results[0][0].dot(SGD_for_LFM_with_bias_results[0][1]) + bg + new_user_bias.reshape(41657,1) + item_bias\n",
    "R_hat_k8 = SGD_for_LFM_with_bias_results[1][0].dot(SGD_for_LFM_with_bias_results[1][1]) + bg + new_user_bias.reshape(41657,1) + item_bias\n",
    "R_hat_k16 = SGD_for_LFM_with_bias_results[2][0].dot(SGD_for_LFM_with_bias_results[2][1]) + bg + new_user_bias.reshape(41657,1) + item_bias\n",
    "RMSE_k8 = SGD_for_LFM_with_bias_results[1][2]\n",
    "RMSE_k8"
   ]
  },
  {
   "cell_type": "code",
   "execution_count": 29,
   "id": "cc800e2e-192c-4460-ac27-fe7fd9e26928",
   "metadata": {},
   "outputs": [
    {
     "data": {
      "image/png": "[encoded data removed]",
      "text/plain": [
       "<Figure size 600x400 with 1 Axes>"
      ]
     },
     "metadata": {
      "needs_background": "light"
     },
     "output_type": "display_data"
    }
   ],
   "source": [
    "plt.figure(dpi=100)\n",
    "x = np.arange(1,11)\n",
    "y = RMSE_k8\n",
    "plt.plot(x, y, label='RMSE for each epoch')\n",
    "plt.legend(loc='upper right')\n",
    "plt.xlabel('Epochs')\n",
    "plt.ylabel('RMSE')\n",
    "plt.gca().xaxis.set_major_locator(plt.MultipleLocator(1))\n",
    "plt.grid()\n",
    "plt.show()"
   ]
  },
  {
   "cell_type": "markdown",
   "id": "f6ed397f-4f58-40a7-b81f-472b67bbcb29",
   "metadata": {},
   "source": [
    "From the above results, it can be seen that when k = 8, as the number of epochs increases, the overall trend of RMSE is declining, although there is a slight rebound in the middle."
   ]
  },
  {
   "cell_type": "code",
   "execution_count": 30,
   "id": "75078637-8018-4174-9c31-a4b1ba560f23",
   "metadata": {},
   "outputs": [
    {
     "name": "stdout",
     "output_type": "stream",
     "text": [
      "The user specific bias is: -0.27123530778729\n",
      "The item specific bias is: 0.04771831288192861\n"
     ]
    }
   ],
   "source": [
    "new_b_user = new_user_bias[np.argwhere(pivot_table.index == 'b4aIMeXOx4cn3bjtdIOo6Q')[0,0]]\n",
    "new_b_item = new_item_bias[np.argwhere(pivot_table.columns == '7VQYoXk3Tc8EZeKuXeixeg')[0,0]]\n",
    "print(\"The user specific bias is:\", new_b_user)\n",
    "print(\"The item specific bias is:\", new_b_item)"
   ]
  },
  {
   "cell_type": "markdown",
   "id": "ef45bf4e-c715-4292-af4b-d9af939aeea9",
   "metadata": {},
   "source": [
    "## Task 5"
   ]
  },
  {
   "cell_type": "markdown",
   "id": "956439b4-fec9-40ee-a3aa-ffe78627f53d",
   "metadata": {},
   "source": [
    "Similar to Task 3, find the best k for the model you developed in Task 4 on the validation set and apply the corresponding model to the test data."
   ]
  },
  {
   "cell_type": "markdown",
   "id": "22fc764e-aeb5-4509-b433-0c69309366e0",
   "metadata": {},
   "source": [
    "### 5.1 Combine all training results into one table"
   ]
  },
  {
   "cell_type": "code",
   "execution_count": 31,
   "id": "aa51ad14-2658-4e22-b49d-39eb4d88d22b",
   "metadata": {},
   "outputs": [
    {
     "data": {
      "text/html": [
       "<div>\n",
       "<style scoped>\n",
       "    .dataframe tbody tr th:only-of-type {\n",
       "        vertical-align: middle;\n",
       "    }\n",
       "\n",
       "    .dataframe tbody tr th {\n",
       "        vertical-align: top;\n",
       "    }\n",
       "\n",
       "    .dataframe thead th {\n",
       "        text-align: right;\n",
       "    }\n",
       "</style>\n",
       "<table border=\"1\" class=\"dataframe\">\n",
       "  <thead>\n",
       "    <tr style=\"text-align: right;\">\n",
       "      <th></th>\n",
       "      <th>user_id</th>\n",
       "      <th>business_id</th>\n",
       "      <th>stars</th>\n",
       "      <th>predict_k4</th>\n",
       "      <th>predict_k8</th>\n",
       "      <th>predict_k16</th>\n",
       "    </tr>\n",
       "  </thead>\n",
       "  <tbody>\n",
       "    <tr>\n",
       "      <th>0</th>\n",
       "      <td>---1lKK3aKOuomHnwAkAow</td>\n",
       "      <td>--9e1ONYQuAa-CB_Rrw7Tw</td>\n",
       "      <td>4</td>\n",
       "      <td>4.044712</td>\n",
       "      <td>4.044885</td>\n",
       "      <td>4.050767</td>\n",
       "    </tr>\n",
       "    <tr>\n",
       "      <th>1</th>\n",
       "      <td>--0kuuLmuYBe3Rmu0Iycww</td>\n",
       "      <td>--9e1ONYQuAa-CB_Rrw7Tw</td>\n",
       "      <td>0</td>\n",
       "      <td>3.434347</td>\n",
       "      <td>3.421216</td>\n",
       "      <td>3.422079</td>\n",
       "    </tr>\n",
       "    <tr>\n",
       "      <th>2</th>\n",
       "      <td>--2vR0DIsmQ6WfcSzKWigw</td>\n",
       "      <td>--9e1ONYQuAa-CB_Rrw7Tw</td>\n",
       "      <td>0</td>\n",
       "      <td>4.349434</td>\n",
       "      <td>4.345684</td>\n",
       "      <td>4.345304</td>\n",
       "    </tr>\n",
       "    <tr>\n",
       "      <th>3</th>\n",
       "      <td>--CIuK7sUpaNzalLAlHJKA</td>\n",
       "      <td>--9e1ONYQuAa-CB_Rrw7Tw</td>\n",
       "      <td>0</td>\n",
       "      <td>3.337425</td>\n",
       "      <td>3.326864</td>\n",
       "      <td>3.331043</td>\n",
       "    </tr>\n",
       "    <tr>\n",
       "      <th>4</th>\n",
       "      <td>--HCoE1ghaAlcaAfshICgw</td>\n",
       "      <td>--9e1ONYQuAa-CB_Rrw7Tw</td>\n",
       "      <td>0</td>\n",
       "      <td>4.849396</td>\n",
       "      <td>4.855454</td>\n",
       "      <td>4.840560</td>\n",
       "    </tr>\n",
       "    <tr>\n",
       "      <th>...</th>\n",
       "      <td>...</td>\n",
       "      <td>...</td>\n",
       "      <td>...</td>\n",
       "      <td>...</td>\n",
       "      <td>...</td>\n",
       "      <td>...</td>\n",
       "    </tr>\n",
       "    <tr>\n",
       "      <th>331339773</th>\n",
       "      <td>zzMJLd3cWBM6HT8eMbOGbA</td>\n",
       "      <td>zyrF7je6qVbaJMPfMG75xg</td>\n",
       "      <td>0</td>\n",
       "      <td>3.378241</td>\n",
       "      <td>3.397426</td>\n",
       "      <td>3.390343</td>\n",
       "    </tr>\n",
       "    <tr>\n",
       "      <th>331339774</th>\n",
       "      <td>zzPvEodjvLPe-5NvV0U_cg</td>\n",
       "      <td>zyrF7je6qVbaJMPfMG75xg</td>\n",
       "      <td>0</td>\n",
       "      <td>3.448164</td>\n",
       "      <td>3.454763</td>\n",
       "      <td>3.448457</td>\n",
       "    </tr>\n",
       "    <tr>\n",
       "      <th>331339775</th>\n",
       "      <td>zzRsxXA2tQNmWex66mdVhA</td>\n",
       "      <td>zyrF7je6qVbaJMPfMG75xg</td>\n",
       "      <td>0</td>\n",
       "      <td>2.593056</td>\n",
       "      <td>2.600677</td>\n",
       "      <td>2.570320</td>\n",
       "    </tr>\n",
       "    <tr>\n",
       "      <th>331339776</th>\n",
       "      <td>zzUlFuJ5HFNEm15o9YC9Qg</td>\n",
       "      <td>zyrF7je6qVbaJMPfMG75xg</td>\n",
       "      <td>0</td>\n",
       "      <td>4.005280</td>\n",
       "      <td>4.000238</td>\n",
       "      <td>4.061040</td>\n",
       "    </tr>\n",
       "    <tr>\n",
       "      <th>331339777</th>\n",
       "      <td>zzY9daJLRVCbcm79qiZqug</td>\n",
       "      <td>zyrF7je6qVbaJMPfMG75xg</td>\n",
       "      <td>0</td>\n",
       "      <td>4.262060</td>\n",
       "      <td>4.247349</td>\n",
       "      <td>4.268147</td>\n",
       "    </tr>\n",
       "  </tbody>\n",
       "</table>\n",
       "<p>331339778 rows × 6 columns</p>\n",
       "</div>"
      ],
      "text/plain": [
       "                          user_id             business_id  stars  predict_k4  \\\n",
       "0          ---1lKK3aKOuomHnwAkAow  --9e1ONYQuAa-CB_Rrw7Tw      4    4.044712   \n",
       "1          --0kuuLmuYBe3Rmu0Iycww  --9e1ONYQuAa-CB_Rrw7Tw      0    3.434347   \n",
       "2          --2vR0DIsmQ6WfcSzKWigw  --9e1ONYQuAa-CB_Rrw7Tw      0    4.349434   \n",
       "3          --CIuK7sUpaNzalLAlHJKA  --9e1ONYQuAa-CB_Rrw7Tw      0    3.337425   \n",
       "4          --HCoE1ghaAlcaAfshICgw  --9e1ONYQuAa-CB_Rrw7Tw      0    4.849396   \n",
       "...                           ...                     ...    ...         ...   \n",
       "331339773  zzMJLd3cWBM6HT8eMbOGbA  zyrF7je6qVbaJMPfMG75xg      0    3.378241   \n",
       "331339774  zzPvEodjvLPe-5NvV0U_cg  zyrF7je6qVbaJMPfMG75xg      0    3.448164   \n",
       "331339775  zzRsxXA2tQNmWex66mdVhA  zyrF7je6qVbaJMPfMG75xg      0    2.593056   \n",
       "331339776  zzUlFuJ5HFNEm15o9YC9Qg  zyrF7je6qVbaJMPfMG75xg      0    4.005280   \n",
       "331339777  zzY9daJLRVCbcm79qiZqug  zyrF7je6qVbaJMPfMG75xg      0    4.262060   \n",
       "\n",
       "           predict_k8  predict_k16  \n",
       "0            4.044885     4.050767  \n",
       "1            3.421216     3.422079  \n",
       "2            4.345684     4.345304  \n",
       "3            3.326864     3.331043  \n",
       "4            4.855454     4.840560  \n",
       "...               ...          ...  \n",
       "331339773    3.397426     3.390343  \n",
       "331339774    3.454763     3.448457  \n",
       "331339775    2.600677     2.570320  \n",
       "331339776    4.000238     4.061040  \n",
       "331339777    4.247349     4.268147  \n",
       "\n",
       "[331339778 rows x 6 columns]"
      ]
     },
     "execution_count": 31,
     "metadata": {},
     "output_type": "execute_result"
    }
   ],
   "source": [
    "# Revert pivot table to regular data frame\n",
    "pivot_table_copy = pivot_table.copy(deep=True)\n",
    "pivot_table_copy.columns.name = None\n",
    "pivot_table_copy = pivot_table_copy.reset_index()\n",
    "df_predict = pd.melt(pivot_table_copy, id_vars='user_id', var_name='business_id', value_name='stars')\n",
    "# Add all training results as columns\n",
    "df_predict['predict_k4'] = R_hat_k4.T.reshape(-1)\n",
    "df_predict['predict_k8'] = R_hat_k8.T.reshape(-1)\n",
    "df_predict['predict_k16'] = R_hat_k16.T.reshape(-1)\n",
    "df_predict"
   ]
  },
  {
   "cell_type": "markdown",
   "id": "cbb310f2-df44-4a49-b0e0-2a14c8998ef2",
   "metadata": {},
   "source": [
    "### 5.2 Merge training results with validation data"
   ]
  },
  {
   "cell_type": "code",
   "execution_count": 32,
   "id": "1cb9a1e3-37f6-40e3-9b82-4916a3de23fd",
   "metadata": {},
   "outputs": [
    {
     "data": {
      "text/plain": [
       "business_id      0\n",
       "user_id          0\n",
       "stars            0\n",
       "predict_k4     388\n",
       "predict_k8     388\n",
       "predict_k16    388\n",
       "dtype: int64"
      ]
     },
     "execution_count": 32,
     "metadata": {},
     "output_type": "execute_result"
    }
   ],
   "source": [
    "df_val_predict = merge_dataframe(df_val)\n",
    "# Check for NaN values\n",
    "df_val_predict.isnull().sum()"
   ]
  },
  {
   "cell_type": "code",
   "execution_count": 33,
   "id": "19b9e895-22c8-4f36-aecf-b24289aed5e8",
   "metadata": {},
   "outputs": [
    {
     "data": {
      "text/plain": [
       "business_id    0\n",
       "user_id        0\n",
       "stars          0\n",
       "predict_k4     0\n",
       "predict_k8     0\n",
       "predict_k16    0\n",
       "dtype: int64"
      ]
     },
     "execution_count": 33,
     "metadata": {},
     "output_type": "execute_result"
    }
   ],
   "source": [
    "df_val_predict = fill_nan(df_val_predict)\n",
    "# Check for NaN values again\n",
    "df_val_predict.isnull().sum()"
   ]
  },
  {
   "cell_type": "code",
   "execution_count": 34,
   "id": "f93dd079-a8ed-4173-9343-c83463902cbe",
   "metadata": {},
   "outputs": [
    {
     "data": {
      "text/html": [
       "<div>\n",
       "<style scoped>\n",
       "    .dataframe tbody tr th:only-of-type {\n",
       "        vertical-align: middle;\n",
       "    }\n",
       "\n",
       "    .dataframe tbody tr th {\n",
       "        vertical-align: top;\n",
       "    }\n",
       "\n",
       "    .dataframe thead th {\n",
       "        text-align: right;\n",
       "    }\n",
       "</style>\n",
       "<table border=\"1\" class=\"dataframe\">\n",
       "  <thead>\n",
       "    <tr style=\"text-align: right;\">\n",
       "      <th></th>\n",
       "      <th>business_id</th>\n",
       "      <th>user_id</th>\n",
       "      <th>stars</th>\n",
       "      <th>predict_k4</th>\n",
       "      <th>predict_k8</th>\n",
       "      <th>predict_k16</th>\n",
       "    </tr>\n",
       "  </thead>\n",
       "  <tbody>\n",
       "    <tr>\n",
       "      <th>0</th>\n",
       "      <td>TyuFl3J4fUDB573AHu5uBQ</td>\n",
       "      <td>1nDMoT9DVNqEpdQHx58_Fg</td>\n",
       "      <td>5</td>\n",
       "      <td>4.584361</td>\n",
       "      <td>4.588491</td>\n",
       "      <td>4.535885</td>\n",
       "    </tr>\n",
       "    <tr>\n",
       "      <th>1</th>\n",
       "      <td>eSILD9dtyDApgcL5Lwxu9Q</td>\n",
       "      <td>o_y7a6cX9rFwRP0Mu2bhrg</td>\n",
       "      <td>5</td>\n",
       "      <td>4.416105</td>\n",
       "      <td>4.413105</td>\n",
       "      <td>4.434323</td>\n",
       "    </tr>\n",
       "    <tr>\n",
       "      <th>2</th>\n",
       "      <td>kJl3l4fSa2spv_Mkhgogmg</td>\n",
       "      <td>EOSdJO9YY4g3GL0Hwj093g</td>\n",
       "      <td>1</td>\n",
       "      <td>3.506772</td>\n",
       "      <td>3.513517</td>\n",
       "      <td>3.494618</td>\n",
       "    </tr>\n",
       "    <tr>\n",
       "      <th>3</th>\n",
       "      <td>xK3SuX2yYyx1syvWtToqBw</td>\n",
       "      <td>oagZh5A2cWJXZBLakS_KpQ</td>\n",
       "      <td>5</td>\n",
       "      <td>3.828015</td>\n",
       "      <td>3.743550</td>\n",
       "      <td>3.816429</td>\n",
       "    </tr>\n",
       "    <tr>\n",
       "      <th>4</th>\n",
       "      <td>ICWRXA2TXYYoAfLibm7Myw</td>\n",
       "      <td>wdJgF0wnDqMjGsv2Js6paw</td>\n",
       "      <td>5</td>\n",
       "      <td>4.210880</td>\n",
       "      <td>4.225813</td>\n",
       "      <td>4.241965</td>\n",
       "    </tr>\n",
       "    <tr>\n",
       "      <th>...</th>\n",
       "      <td>...</td>\n",
       "      <td>...</td>\n",
       "      <td>...</td>\n",
       "      <td>...</td>\n",
       "      <td>...</td>\n",
       "      <td>...</td>\n",
       "    </tr>\n",
       "    <tr>\n",
       "      <th>8577</th>\n",
       "      <td>Tefx_N6A6nrsdj4jHHnbYg</td>\n",
       "      <td>TGSi0e7-ovol_PBIQgodOg</td>\n",
       "      <td>4</td>\n",
       "      <td>4.487319</td>\n",
       "      <td>4.489498</td>\n",
       "      <td>4.488169</td>\n",
       "    </tr>\n",
       "    <tr>\n",
       "      <th>8578</th>\n",
       "      <td>2sx52lDoiEtef7xgPCaoBw</td>\n",
       "      <td>L8cvMZLWmM4qWTl9SkxJ8g</td>\n",
       "      <td>5</td>\n",
       "      <td>4.240517</td>\n",
       "      <td>4.244091</td>\n",
       "      <td>4.238916</td>\n",
       "    </tr>\n",
       "    <tr>\n",
       "      <th>8579</th>\n",
       "      <td>NKh691Q7BZZ2r0f2RJxdsg</td>\n",
       "      <td>TGSi0e7-ovol_PBIQgodOg</td>\n",
       "      <td>1</td>\n",
       "      <td>4.116950</td>\n",
       "      <td>4.116944</td>\n",
       "      <td>4.114352</td>\n",
       "    </tr>\n",
       "    <tr>\n",
       "      <th>8580</th>\n",
       "      <td>cn6Lguvd8T2pWq4-WNLHpQ</td>\n",
       "      <td>iPceDCz6O2__AZK00w4gQw</td>\n",
       "      <td>4</td>\n",
       "      <td>4.325492</td>\n",
       "      <td>4.319872</td>\n",
       "      <td>4.341531</td>\n",
       "    </tr>\n",
       "    <tr>\n",
       "      <th>8581</th>\n",
       "      <td>jxbEwtV8Et1lm8ubk4AGuw</td>\n",
       "      <td>WywMDFqjC_ViJUXQA600DQ</td>\n",
       "      <td>2</td>\n",
       "      <td>4.423017</td>\n",
       "      <td>4.415345</td>\n",
       "      <td>4.420392</td>\n",
       "    </tr>\n",
       "  </tbody>\n",
       "</table>\n",
       "<p>8582 rows × 6 columns</p>\n",
       "</div>"
      ],
      "text/plain": [
       "                 business_id                 user_id  stars  predict_k4  \\\n",
       "0     TyuFl3J4fUDB573AHu5uBQ  1nDMoT9DVNqEpdQHx58_Fg      5    4.584361   \n",
       "1     eSILD9dtyDApgcL5Lwxu9Q  o_y7a6cX9rFwRP0Mu2bhrg      5    4.416105   \n",
       "2     kJl3l4fSa2spv_Mkhgogmg  EOSdJO9YY4g3GL0Hwj093g      1    3.506772   \n",
       "3     xK3SuX2yYyx1syvWtToqBw  oagZh5A2cWJXZBLakS_KpQ      5    3.828015   \n",
       "4     ICWRXA2TXYYoAfLibm7Myw  wdJgF0wnDqMjGsv2Js6paw      5    4.210880   \n",
       "...                      ...                     ...    ...         ...   \n",
       "8577  Tefx_N6A6nrsdj4jHHnbYg  TGSi0e7-ovol_PBIQgodOg      4    4.487319   \n",
       "8578  2sx52lDoiEtef7xgPCaoBw  L8cvMZLWmM4qWTl9SkxJ8g      5    4.240517   \n",
       "8579  NKh691Q7BZZ2r0f2RJxdsg  TGSi0e7-ovol_PBIQgodOg      1    4.116950   \n",
       "8580  cn6Lguvd8T2pWq4-WNLHpQ  iPceDCz6O2__AZK00w4gQw      4    4.325492   \n",
       "8581  jxbEwtV8Et1lm8ubk4AGuw  WywMDFqjC_ViJUXQA600DQ      2    4.423017   \n",
       "\n",
       "      predict_k8  predict_k16  \n",
       "0       4.588491     4.535885  \n",
       "1       4.413105     4.434323  \n",
       "2       3.513517     3.494618  \n",
       "3       3.743550     3.816429  \n",
       "4       4.225813     4.241965  \n",
       "...          ...          ...  \n",
       "8577    4.489498     4.488169  \n",
       "8578    4.244091     4.238916  \n",
       "8579    4.116944     4.114352  \n",
       "8580    4.319872     4.341531  \n",
       "8581    4.415345     4.420392  \n",
       "\n",
       "[8582 rows x 6 columns]"
      ]
     },
     "execution_count": 34,
     "metadata": {},
     "output_type": "execute_result"
    }
   ],
   "source": [
    "df_val_predict"
   ]
  },
  {
   "cell_type": "markdown",
   "id": "9a2977ed-88ee-4cd4-ad47-1303b3559537",
   "metadata": {},
   "source": [
    "### 5.3 Report the RMSE for each value of k on the validation data"
   ]
  },
  {
   "cell_type": "code",
   "execution_count": 35,
   "id": "da7a52ed-596d-4fe9-a40d-db1a2d8602ef",
   "metadata": {},
   "outputs": [
    {
     "name": "stdout",
     "output_type": "stream",
     "text": [
      "When k=4, the RMSE on the validation data is: 1.2402091398718709\n",
      "When k=8, the RMSE on the validation data is: 1.240237110556296\n",
      "When k=16, the RMSE on the validation data is: 1.2407075791091593\n"
     ]
    }
   ],
   "source": [
    "# Calculate SSE\n",
    "SSE_val_k4_bias = np.square(df_val_predict.stars - df_val_predict.predict_k4).sum()\n",
    "SSE_val_k8_bias = np.square(df_val_predict.stars - df_val_predict.predict_k8).sum()\n",
    "SSE_val_k16_bias = np.square(df_val_predict.stars - df_val_predict.predict_k16).sum()\n",
    "# Calculate RMSE\n",
    "RMSE_val_k4_bias = np.sqrt(SSE_val_k4_bias / 8582)\n",
    "RMSE_val_k8_bias = np.sqrt(SSE_val_k8_bias / 8582)\n",
    "RMSE_val_k16_bias = np.sqrt(SSE_val_k16_bias / 8582)\n",
    "print(\"When k=4, the RMSE on the validation data is:\", RMSE_val_k4_bias)\n",
    "print(\"When k=8, the RMSE on the validation data is:\", RMSE_val_k8_bias)\n",
    "print(\"When k=16, the RMSE on the validation data is:\", RMSE_val_k16_bias)"
   ]
  },
  {
   "cell_type": "code",
   "execution_count": 36,
   "id": "1a3c63cf-1f6c-45a2-83d8-ec2bfa10810c",
   "metadata": {},
   "outputs": [
    {
     "data": {
      "image/png": "[encoded data removed]",
      "text/plain": [
       "<Figure size 600x400 with 1 Axes>"
      ]
     },
     "metadata": {
      "needs_background": "light"
     },
     "output_type": "display_data"
    }
   ],
   "source": [
    "plt.figure(dpi=100)\n",
    "x = [4, 8, 16]\n",
    "y_bias = [RMSE_val_k4_bias, RMSE_val_k8_bias, RMSE_val_k16_bias]\n",
    "plt.plot(x, y_bias, label='RMSE for each k')\n",
    "plt.legend(loc='lower right')\n",
    "plt.xlabel('Value of k')\n",
    "plt.ylabel('RMSE')\n",
    "plt.gca().xaxis.set_major_locator(plt.MultipleLocator(4))\n",
    "plt.grid()\n",
    "plt.show()"
   ]
  },
  {
   "cell_type": "markdown",
   "id": "86bb1633-6365-49ec-a483-ee175bb116a7",
   "metadata": {},
   "source": [
    "From the above results, it can be seen that when k=4, the validation data has the smallest RMSE on the model, so we pick k=4 to apply to the test data.  \n",
    "Note: In several experiments, it was found that due to the existence of randomness, sometimes k=8 or k=16, the RMSE is the smallest, but most of the time, when k=4, the RMSE is the smallest. Therefore we still pick k=4 here."
   ]
  },
  {
   "cell_type": "code",
   "execution_count": 37,
   "id": "430586d9-cef7-47c0-b0d2-00efa22c967d",
   "metadata": {},
   "outputs": [
    {
     "data": {
      "image/png": "[encoded data removed]",
      "text/plain": [
       "<Figure size 600x400 with 1 Axes>"
      ]
     },
     "metadata": {
      "needs_background": "light"
     },
     "output_type": "display_data"
    }
   ],
   "source": [
    "plt.figure(dpi=100)\n",
    "x = [4, 8, 16]\n",
    "y = [RMSE_val_k4, RMSE_val_k8, RMSE_val_k16]\n",
    "y_bias = [RMSE_val_k4_bias, RMSE_val_k8_bias, RMSE_val_k16_bias]\n",
    "plt.plot(x, y, label='RMSE without Bias')\n",
    "plt.plot(x, y_bias, label='RMSE with Bias')\n",
    "plt.legend(loc='center')\n",
    "plt.xlabel('Value of k')\n",
    "plt.ylabel('RMSE')\n",
    "plt.gca().xaxis.set_major_locator(plt.MultipleLocator(4))\n",
    "plt.grid()\n",
    "plt.show()"
   ]
  },
  {
   "cell_type": "markdown",
   "id": "d008ff95-28eb-48be-a316-59107ed94a8b",
   "metadata": {},
   "source": [
    "From the above results, it can be seen that after incorporating the bias into the latent factor model, the RMSE decreased significantly."
   ]
  },
  {
   "cell_type": "markdown",
   "id": "c295dbde-cee8-4728-9e04-f97e1ca59ce9",
   "metadata": {},
   "source": [
    "### 5.4 Pick the best model and report its RMSE on the test data"
   ]
  },
  {
   "cell_type": "code",
   "execution_count": 38,
   "id": "c4608605-2627-4537-861f-9c967066d61f",
   "metadata": {},
   "outputs": [
    {
     "data": {
      "text/plain": [
       "business_id      0\n",
       "user_id          0\n",
       "stars            0\n",
       "predict_k4     531\n",
       "predict_k8     531\n",
       "predict_k16    531\n",
       "dtype: int64"
      ]
     },
     "execution_count": 38,
     "metadata": {},
     "output_type": "execute_result"
    }
   ],
   "source": [
    "df_test_predict = merge_dataframe(df_test)\n",
    "# Check for NaN values\n",
    "df_test_predict.isnull().sum()"
   ]
  },
  {
   "cell_type": "code",
   "execution_count": 39,
   "id": "b137c988-a59d-4103-9a15-5ba6f6fa1c56",
   "metadata": {},
   "outputs": [
    {
     "data": {
      "text/plain": [
       "business_id    0\n",
       "user_id        0\n",
       "stars          0\n",
       "predict_k4     0\n",
       "predict_k8     0\n",
       "predict_k16    0\n",
       "dtype: int64"
      ]
     },
     "execution_count": 39,
     "metadata": {},
     "output_type": "execute_result"
    }
   ],
   "source": [
    "df_test_predict = fill_nan(df_test_predict)\n",
    "# Check for NaN values again\n",
    "df_test_predict.isnull().sum()"
   ]
  },
  {
   "cell_type": "code",
   "execution_count": 40,
   "id": "40c8d6b9-7b4d-48a7-8542-6544cd8b934e",
   "metadata": {},
   "outputs": [
    {
     "name": "stdout",
     "output_type": "stream",
     "text": [
      "When k=4, the RMSE on the test data is: 1.2260294402901892\n"
     ]
    }
   ],
   "source": [
    "# Calculate SSE\n",
    "SSE_test_k4_bias = np.square(df_test_predict.stars - df_test_predict.predict_k4).sum()\n",
    "# Calculate RMSE\n",
    "RMSE_test_k4_bias = np.sqrt(SSE_test_k4_bias / 8582)\n",
    "print(\"When k=4, the RMSE on the test data is:\", RMSE_test_k4_bias)"
   ]
  },
  {
   "cell_type": "code",
   "execution_count": 41,
   "id": "33d3daf0-5901-4735-a8eb-8c590095123b",
   "metadata": {},
   "outputs": [
    {
     "data": {
      "text/plain": [
       "0.060434669305997835"
      ]
     },
     "execution_count": 41,
     "metadata": {},
     "output_type": "execute_result"
    }
   ],
   "source": [
    "RMSE_test_k4 - RMSE_test_k4_bias"
   ]
  },
  {
   "cell_type": "markdown",
   "id": "eb383d22-eeb1-4697-bfa0-acd26c45cd2e",
   "metadata": {},
   "source": [
    "From the above results, it can be seen that after incorporating the bias into the latent factor model, the test RMSE is slightly reduced. It shows that adding bias has a positive impact on the prediction accuracy of the model."
   ]
  }
 ],
 "metadata": {
  "kernelspec": {
   "display_name": "Python 3 (ipykernel)",
   "language": "python",
   "name": "python3"
  },
  "language_info": {
   "codemirror_mode": {
    "name": "ipython",
    "version": 3
   },
   "file_extension": ".py",
   "mimetype": "text/x-python",
   "name": "python",
   "nbconvert_exporter": "python",
   "pygments_lexer": "ipython3",
   "version": "3.10.4"
  }
 },
 "nbformat": 4,
 "nbformat_minor": 5
}
